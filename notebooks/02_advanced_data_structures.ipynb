{
 "metadata": {
  "name": "",
  "signature": "sha256:c14b43a72736ed577384555f75d0b5d1f5d304769536f855aa4efed6cfcc0339"
 },
 "nbformat": 3,
 "nbformat_minor": 0,
 "worksheets": [
  {
   "cells": [
    {
     "cell_type": "markdown",
     "metadata": {},
     "source": [
      "<small><i>This notebook was put together by [Jake Vanderplas](http://www.vanderplas.com) for UW's [Astro 599](http://www.astro.washington.edu/users/vanderplas/Astr599_2014/) course. Source and license info is on [GitHub](https://github.com/jakevdp/2014_fall_ASTR599/).</i></small>"
     ]
    },
    {
     "cell_type": "code",
     "collapsed": false,
     "input": [
      "%run talktools.py"
     ],
     "language": "python",
     "metadata": {},
     "outputs": [
      {
       "html": [
        "<style>\n",
        "div.cell, div.text_cell_render{\n",
        "  max-width:750px;\n",
        "  margin-left:auto;\n",
        "  margin-right:auto;\n",
        "}\n",
        "\n",
        ".rendered_html\n",
        "{\n",
        "  font-size: 140%;\n",
        "  }\n",
        "\n",
        ".rendered_html li\n",
        "{\n",
        "  line-height: 1.8;\n",
        "  }\n",
        "\n",
        ".rendered_html h1, h2 {\n",
        "  text-align:center;\n",
        "  font-familly:\"Charis SIL\", serif;\n",
        "}\n",
        "</style>"
       ],
       "metadata": {},
       "output_type": "display_data",
       "text": [
        "<IPython.core.display.HTML at 0x103788890>"
       ]
      }
     ],
     "prompt_number": 1
    },
    {
     "cell_type": "markdown",
     "metadata": {
      "slideshow": {
       "slide_type": "slide"
      }
     },
     "source": [
      "Advanced Data Structures\n",
      "========================\n",
      "\n",
      "### There are four types of collections in Python\n",
      "(known as \"Sequence objects\")\n",
      "\n",
      "- ``list`` : a mutable ordered array of data\n",
      "- ``tuple`` : an immutable ordered array of data\n",
      "- ``dict`` : an unordered mapping from keys to values\n",
      "- ``set`` : an unordered collection of unique elements\n",
      "\n",
      "The values in any of these collections can be arbitrary\n",
      "Python objects, and mixing content types is OK.\n",
      "\n",
      "Note that strings are also sequence objects."
     ]
    },
    {
     "cell_type": "markdown",
     "metadata": {
      "slideshow": {
       "slide_type": "slide"
      }
     },
     "source": [
      "## Tuples\n",
      "\n",
      "Tuples are denoted with parentheses"
     ]
    },
    {
     "cell_type": "code",
     "collapsed": false,
     "input": [
      "t = (12, -1)\n",
      "print(type(t))"
     ],
     "language": "python",
     "metadata": {
      "slideshow": {
       "slide_type": "fragment"
      }
     },
     "outputs": [
      {
       "output_type": "stream",
       "stream": "stdout",
       "text": [
        "<class 'tuple'>\n"
       ]
      }
     ],
     "prompt_number": 2
    },
    {
     "cell_type": "code",
     "collapsed": false,
     "input": [
      "print(isinstance(t,tuple))\n",
      "print(len(t))"
     ],
     "language": "python",
     "metadata": {
      "slideshow": {
       "slide_type": "fragment"
      }
     },
     "outputs": [
      {
       "output_type": "stream",
       "stream": "stdout",
       "text": [
        "True\n",
        "2\n"
       ]
      }
     ],
     "prompt_number": 3
    },
    {
     "cell_type": "markdown",
     "metadata": {
      "slideshow": {
       "slide_type": "fragment"
      }
     },
     "source": [
      "Can mix types in a tuple"
     ]
    },
    {
     "cell_type": "code",
     "collapsed": false,
     "input": [
      "t = (12, \"monty\", True, -1.23e6)\n",
      "print(t[1])"
     ],
     "language": "python",
     "metadata": {
      "slideshow": {
       "slide_type": "fragment"
      }
     },
     "outputs": [
      {
       "output_type": "stream",
       "stream": "stdout",
       "text": [
        "monty\n"
       ]
      }
     ],
     "prompt_number": 4
    },
    {
     "cell_type": "markdown",
     "metadata": {
      "slideshow": {
       "slide_type": "fragment"
      }
     },
     "source": [
      "Indexing works the same way as for strings:"
     ]
    },
    {
     "cell_type": "code",
     "collapsed": false,
     "input": [
      "print(t[-1])"
     ],
     "language": "python",
     "metadata": {
      "slideshow": {
       "slide_type": "fragment"
      }
     },
     "outputs": [
      {
       "output_type": "stream",
       "stream": "stdout",
       "text": [
        "-1230000.0\n"
       ]
      }
     ],
     "prompt_number": 5
    },
    {
     "cell_type": "code",
     "collapsed": false,
     "input": [
      "t[-2:]  # get the last two elements, return as a tuple"
     ],
     "language": "python",
     "metadata": {
      "slideshow": {
       "slide_type": "fragment"
      }
     },
     "outputs": [
      {
       "metadata": {},
       "output_type": "pyout",
       "prompt_number": 6,
       "text": [
        "(True, -1230000.0)"
       ]
      }
     ],
     "prompt_number": 6
    },
    {
     "cell_type": "code",
     "collapsed": false,
     "input": [
      "x = (True) ; print(type(x))\n",
      "x = (True,) ; print(type(x))"
     ],
     "language": "python",
     "metadata": {
      "slideshow": {
       "slide_type": "fragment"
      }
     },
     "outputs": [
      {
       "output_type": "stream",
       "stream": "stdout",
       "text": [
        "<class 'bool'>\n",
        "<class 'tuple'>\n"
       ]
      }
     ],
     "prompt_number": 7
    },
    {
     "cell_type": "code",
     "collapsed": false,
     "input": [
      "x = ()\n",
      "type(x), len(x)"
     ],
     "language": "python",
     "metadata": {
      "slideshow": {
       "slide_type": "fragment"
      }
     },
     "outputs": [
      {
       "metadata": {},
       "output_type": "pyout",
       "prompt_number": 8,
       "text": [
        "(tuple, 0)"
       ]
      }
     ],
     "prompt_number": 8
    },
    {
     "cell_type": "code",
     "collapsed": false,
     "input": [
      "x = (,)"
     ],
     "language": "python",
     "metadata": {
      "slideshow": {
       "slide_type": "fragment"
      }
     },
     "outputs": [
      {
       "ename": "SyntaxError",
       "evalue": "invalid syntax (<ipython-input-9-bd05d59e2976>, line 1)",
       "output_type": "pyerr",
       "traceback": [
        "\u001b[0;36m  File \u001b[0;32m\"<ipython-input-9-bd05d59e2976>\"\u001b[0;36m, line \u001b[0;32m1\u001b[0m\n\u001b[0;31m    x = (,)\u001b[0m\n\u001b[0m         ^\u001b[0m\n\u001b[0;31mSyntaxError\u001b[0m\u001b[0;31m:\u001b[0m invalid syntax\n"
       ]
      }
     ],
     "prompt_number": 9
    },
    {
     "cell_type": "markdown",
     "metadata": {
      "slideshow": {
       "slide_type": "fragment"
      }
     },
     "source": [
      "single-element tuples look like `(element,)`"
     ]
    },
    {
     "cell_type": "markdown",
     "metadata": {
      "slideshow": {
       "slide_type": "fragment"
      }
     },
     "source": [
      "tuples cannot be modified.\n",
      "but you can create new one with concatenation"
     ]
    },
    {
     "cell_type": "code",
     "collapsed": false,
     "input": [
      "t[2] = False"
     ],
     "language": "python",
     "metadata": {
      "slideshow": {
       "slide_type": "fragment"
      }
     },
     "outputs": [
      {
       "ename": "TypeError",
       "evalue": "'tuple' object does not support item assignment",
       "output_type": "pyerr",
       "traceback": [
        "\u001b[0;31m---------------------------------------------------------------------------\u001b[0m\n\u001b[0;31mTypeError\u001b[0m                                 Traceback (most recent call last)",
        "\u001b[0;32m<ipython-input-10-9365ccccf007>\u001b[0m in \u001b[0;36m<module>\u001b[0;34m()\u001b[0m\n\u001b[0;32m----> 1\u001b[0;31m \u001b[0mt\u001b[0m\u001b[0;34m[\u001b[0m\u001b[0;36m2\u001b[0m\u001b[0;34m]\u001b[0m \u001b[0;34m=\u001b[0m \u001b[0;32mFalse\u001b[0m\u001b[0;34m\u001b[0m\u001b[0m\n\u001b[0m",
        "\u001b[0;31mTypeError\u001b[0m: 'tuple' object does not support item assignment"
       ]
      }
     ],
     "prompt_number": 10
    },
    {
     "cell_type": "code",
     "collapsed": false,
     "input": [
      "t[0:2], False, t[3:]"
     ],
     "language": "python",
     "metadata": {
      "slideshow": {
       "slide_type": "fragment"
      }
     },
     "outputs": [
      {
       "metadata": {},
       "output_type": "pyout",
       "prompt_number": 11,
       "text": [
        "((12, 'monty'), False, (-1230000.0,))"
       ]
      }
     ],
     "prompt_number": 11
    },
    {
     "cell_type": "code",
     "collapsed": false,
     "input": [
      "## the above is\n",
      "## not what we wanted... need to concatenate\n",
      "t[0:2] + False + t[3:]"
     ],
     "language": "python",
     "metadata": {
      "slideshow": {
       "slide_type": "fragment"
      }
     },
     "outputs": [
      {
       "ename": "TypeError",
       "evalue": "can only concatenate tuple (not \"bool\") to tuple",
       "output_type": "pyerr",
       "traceback": [
        "\u001b[0;31m---------------------------------------------------------------------------\u001b[0m\n\u001b[0;31mTypeError\u001b[0m                                 Traceback (most recent call last)",
        "\u001b[0;32m<ipython-input-12-aaeb0198f3bf>\u001b[0m in \u001b[0;36m<module>\u001b[0;34m()\u001b[0m\n\u001b[1;32m      1\u001b[0m \u001b[0;31m## the above is\u001b[0m\u001b[0;34m\u001b[0m\u001b[0;34m\u001b[0m\u001b[0m\n\u001b[1;32m      2\u001b[0m \u001b[0;31m## not what we wanted... need to concatenate\u001b[0m\u001b[0;34m\u001b[0m\u001b[0;34m\u001b[0m\u001b[0m\n\u001b[0;32m----> 3\u001b[0;31m \u001b[0mt\u001b[0m\u001b[0;34m[\u001b[0m\u001b[0;36m0\u001b[0m\u001b[0;34m:\u001b[0m\u001b[0;36m2\u001b[0m\u001b[0;34m]\u001b[0m \u001b[0;34m+\u001b[0m \u001b[0;32mFalse\u001b[0m \u001b[0;34m+\u001b[0m \u001b[0mt\u001b[0m\u001b[0;34m[\u001b[0m\u001b[0;36m3\u001b[0m\u001b[0;34m:\u001b[0m\u001b[0;34m]\u001b[0m\u001b[0;34m\u001b[0m\u001b[0m\n\u001b[0m",
        "\u001b[0;31mTypeError\u001b[0m: can only concatenate tuple (not \"bool\") to tuple"
       ]
      }
     ],
     "prompt_number": 12
    },
    {
     "cell_type": "code",
     "collapsed": false,
     "input": [
      "y = t[0:2] + (False,) + t[3:]\n",
      "y"
     ],
     "language": "python",
     "metadata": {
      "slideshow": {
       "slide_type": "fragment"
      }
     },
     "outputs": [
      {
       "metadata": {},
       "output_type": "pyout",
       "prompt_number": 13,
       "text": [
        "(12, 'monty', False, -1230000.0)"
       ]
      }
     ],
     "prompt_number": 13
    },
    {
     "cell_type": "code",
     "collapsed": false,
     "input": [
      "t * 2"
     ],
     "language": "python",
     "metadata": {
      "slideshow": {
       "slide_type": "fragment"
      }
     },
     "outputs": [
      {
       "metadata": {},
       "output_type": "pyout",
       "prompt_number": 14,
       "text": [
        "(12, 'monty', True, -1230000.0, 12, 'monty', True, -1230000.0)"
       ]
      }
     ],
     "prompt_number": 14
    },
    {
     "cell_type": "markdown",
     "metadata": {
      "slideshow": {
       "slide_type": "fragment"
      }
     },
     "source": [
      "Tuples are most commonly used in functions which return multiple arguments."
     ]
    },
    {
     "cell_type": "markdown",
     "metadata": {
      "slideshow": {
       "slide_type": "slide"
      }
     },
     "source": [
      "## Lists\n",
      "Lists are denoted with square brackets"
     ]
    },
    {
     "cell_type": "code",
     "collapsed": false,
     "input": [
      "v = [1,2,3]\n",
      "print(len(v))\n",
      "print(type(v))"
     ],
     "language": "python",
     "metadata": {
      "slideshow": {
       "slide_type": "fragment"
      }
     },
     "outputs": [
      {
       "output_type": "stream",
       "stream": "stdout",
       "text": [
        "3\n",
        "<class 'list'>\n"
       ]
      }
     ],
     "prompt_number": 15
    },
    {
     "cell_type": "code",
     "collapsed": false,
     "input": [
      "v[0:2]"
     ],
     "language": "python",
     "metadata": {
      "slideshow": {
       "slide_type": "fragment"
      }
     },
     "outputs": [
      {
       "metadata": {},
       "output_type": "pyout",
       "prompt_number": 16,
       "text": [
        "[1, 2]"
       ]
      }
     ],
     "prompt_number": 16
    },
    {
     "cell_type": "code",
     "collapsed": false,
     "input": [
      "v = [\"eggs\", \"spam\", -1, (\"monty\",\"python\"), [-1.2,-3.5]]\n",
      "len(v)"
     ],
     "language": "python",
     "metadata": {
      "slideshow": {
       "slide_type": "fragment"
      }
     },
     "outputs": [
      {
       "metadata": {},
       "output_type": "pyout",
       "prompt_number": 17,
       "text": [
        "5"
       ]
      }
     ],
     "prompt_number": 17
    },
    {
     "cell_type": "code",
     "collapsed": false,
     "input": [
      "v[0] =\"green egg\"\n",
      "v[1] += \",love it.\"\n",
      "v[-1]"
     ],
     "language": "python",
     "metadata": {
      "slideshow": {
       "slide_type": "fragment"
      }
     },
     "outputs": [
      {
       "metadata": {},
       "output_type": "pyout",
       "prompt_number": 18,
       "text": [
        "[-1.2, -3.5]"
       ]
      }
     ],
     "prompt_number": 18
    },
    {
     "cell_type": "code",
     "collapsed": false,
     "input": [
      "v[-1][1] = None\n",
      "print(v)"
     ],
     "language": "python",
     "metadata": {
      "slideshow": {
       "slide_type": "fragment"
      }
     },
     "outputs": [
      {
       "output_type": "stream",
       "stream": "stdout",
       "text": [
        "['green egg', 'spam,love it.', -1, ('monty', 'python'), [-1.2, None]]\n"
       ]
      }
     ],
     "prompt_number": 19
    },
    {
     "cell_type": "code",
     "collapsed": false,
     "input": [
      "v = v[2:]\n",
      "print(v)"
     ],
     "language": "python",
     "metadata": {
      "slideshow": {
       "slide_type": "fragment"
      }
     },
     "outputs": [
      {
       "output_type": "stream",
       "stream": "stdout",
       "text": [
        "[-1, ('monty', 'python'), [-1.2, None]]\n"
       ]
      }
     ],
     "prompt_number": 20
    },
    {
     "cell_type": "code",
     "collapsed": true,
     "input": [
      "# let's make a proto-array out of nested lists\n",
      "vv = [ [1,2], [3,4] ]"
     ],
     "language": "python",
     "metadata": {
      "slideshow": {
       "slide_type": "fragment"
      }
     },
     "outputs": [],
     "prompt_number": 21
    },
    {
     "cell_type": "code",
     "collapsed": false,
     "input": [
      "len(vv)"
     ],
     "language": "python",
     "metadata": {
      "slideshow": {
       "slide_type": "fragment"
      }
     },
     "outputs": [
      {
       "metadata": {},
       "output_type": "pyout",
       "prompt_number": 22,
       "text": [
        "2"
       ]
      }
     ],
     "prompt_number": 22
    },
    {
     "cell_type": "code",
     "collapsed": false,
     "input": [
      "determinant = vv[0][0] * vv[1][1] - vv[0][1] * vv[1][0]\n",
      "determinant"
     ],
     "language": "python",
     "metadata": {
      "slideshow": {
       "slide_type": "fragment"
      }
     },
     "outputs": [
      {
       "metadata": {},
       "output_type": "pyout",
       "prompt_number": 23,
       "text": [
        "-2"
       ]
      }
     ],
     "prompt_number": 23
    },
    {
     "cell_type": "markdown",
     "metadata": {
      "slideshow": {
       "slide_type": "fragment"
      }
     },
     "source": [
      "the main point here: lists are **mutable**"
     ]
    },
    {
     "cell_type": "markdown",
     "metadata": {
      "slideshow": {
       "slide_type": "slide"
      }
     },
     "source": [
      "### Lists can be Extended and Appended"
     ]
    },
    {
     "cell_type": "code",
     "collapsed": false,
     "input": [
      "v = [1,2,3]\n",
      "v.append(4)\n",
      "v.append([-5])\n",
      "v"
     ],
     "language": "python",
     "metadata": {
      "slideshow": {
       "slide_type": "fragment"
      }
     },
     "outputs": [
      {
       "metadata": {},
       "output_type": "pyout",
       "prompt_number": 24,
       "text": [
        "[1, 2, 3, 4, [-5]]"
       ]
      }
     ],
     "prompt_number": 24
    },
    {
     "cell_type": "markdown",
     "metadata": {
      "slideshow": {
       "slide_type": "fragment"
      }
     },
     "source": [
      "Note: lists can be considered objects.  **Objects** are collections of data and associated\n",
      "**methods**.  In the case of a list, ``append`` is a method: it is a function\n",
      "associated with the object."
     ]
    },
    {
     "cell_type": "code",
     "collapsed": false,
     "input": [
      "v = v[:4]\n",
      "w = ['elderberries', 'eggs']\n",
      "v + w"
     ],
     "language": "python",
     "metadata": {
      "slideshow": {
       "slide_type": "fragment"
      }
     },
     "outputs": [
      {
       "metadata": {},
       "output_type": "pyout",
       "prompt_number": 25,
       "text": [
        "[1, 2, 3, 4, 'elderberries', 'eggs']"
       ]
      }
     ],
     "prompt_number": 25
    },
    {
     "cell_type": "code",
     "collapsed": false,
     "input": [
      "v"
     ],
     "language": "python",
     "metadata": {
      "slideshow": {
       "slide_type": "fragment"
      }
     },
     "outputs": [
      {
       "metadata": {},
       "output_type": "pyout",
       "prompt_number": 26,
       "text": [
        "[1, 2, 3, 4]"
       ]
      }
     ],
     "prompt_number": 26
    },
    {
     "cell_type": "code",
     "collapsed": false,
     "input": [
      "v.extend(w)\n",
      "v"
     ],
     "language": "python",
     "metadata": {
      "slideshow": {
       "slide_type": "fragment"
      }
     },
     "outputs": [
      {
       "metadata": {},
       "output_type": "pyout",
       "prompt_number": 27,
       "text": [
        "[1, 2, 3, 4, 'elderberries', 'eggs']"
       ]
      }
     ],
     "prompt_number": 27
    },
    {
     "cell_type": "code",
     "collapsed": false,
     "input": [
      "v.pop()"
     ],
     "language": "python",
     "metadata": {
      "slideshow": {
       "slide_type": "fragment"
      }
     },
     "outputs": [
      {
       "metadata": {},
       "output_type": "pyout",
       "prompt_number": 28,
       "text": [
        "'eggs'"
       ]
      }
     ],
     "prompt_number": 28
    },
    {
     "cell_type": "code",
     "collapsed": false,
     "input": [
      "v"
     ],
     "language": "python",
     "metadata": {
      "slideshow": {
       "slide_type": "fragment"
      }
     },
     "outputs": [
      {
       "metadata": {},
       "output_type": "pyout",
       "prompt_number": 29,
       "text": [
        "[1, 2, 3, 4, 'elderberries']"
       ]
      }
     ],
     "prompt_number": 29
    },
    {
     "cell_type": "code",
     "collapsed": false,
     "input": [
      "v.pop(0) ## pop the first element"
     ],
     "language": "python",
     "metadata": {
      "slideshow": {
       "slide_type": "fragment"
      }
     },
     "outputs": [
      {
       "metadata": {},
       "output_type": "pyout",
       "prompt_number": 30,
       "text": [
        "1"
       ]
      }
     ],
     "prompt_number": 30
    },
    {
     "cell_type": "code",
     "collapsed": false,
     "input": [
      "v"
     ],
     "language": "python",
     "metadata": {
      "slideshow": {
       "slide_type": "fragment"
      }
     },
     "outputs": [
      {
       "metadata": {},
       "output_type": "pyout",
       "prompt_number": 31,
       "text": [
        "[2, 3, 4, 'elderberries']"
       ]
      }
     ],
     "prompt_number": 31
    },
    {
     "cell_type": "markdown",
     "metadata": {
      "slideshow": {
       "slide_type": "slide"
      }
     },
     "source": [
      "#### Useful list methods:\n",
      "\n",
      " * `.append()`: adds a new element\n",
      " * `.extend()`: concatenates a list/element\n",
      " * `.pop()`: remove an element"
     ]
    },
    {
     "cell_type": "markdown",
     "metadata": {
      "slideshow": {
       "slide_type": "slide"
      }
     },
     "source": [
      "### Lists can be searched, sorted, & counted"
     ]
    },
    {
     "cell_type": "code",
     "collapsed": false,
     "input": [
      "v = [1, 3, 2, 3, 4]\n",
      "v.sort()\n",
      "v"
     ],
     "language": "python",
     "metadata": {
      "slideshow": {
       "slide_type": "fragment"
      }
     },
     "outputs": [
      {
       "metadata": {},
       "output_type": "pyout",
       "prompt_number": 32,
       "text": [
        "[1, 2, 3, 3, 4]"
       ]
      }
     ],
     "prompt_number": 32
    },
    {
     "cell_type": "markdown",
     "metadata": {
      "slideshow": {
       "slide_type": "fragment"
      }
     },
     "source": [
      "`reverse` is a *keyword* of the `.sort()` method"
     ]
    },
    {
     "cell_type": "code",
     "collapsed": false,
     "input": [
      "v.sort(reverse=True)\n",
      "v"
     ],
     "language": "python",
     "metadata": {
      "slideshow": {
       "slide_type": "fragment"
      }
     },
     "outputs": [
      {
       "metadata": {},
       "output_type": "pyout",
       "prompt_number": 33,
       "text": [
        "[4, 3, 3, 2, 1]"
       ]
      }
     ],
     "prompt_number": 33
    },
    {
     "cell_type": "markdown",
     "metadata": {
      "slideshow": {
       "slide_type": "fragment"
      }
     },
     "source": [
      "`.sort()` changes the the list in place "
     ]
    },
    {
     "cell_type": "code",
     "collapsed": false,
     "input": [
      "v.index(4)   ## lookup the index of the entry 4"
     ],
     "language": "python",
     "metadata": {
      "slideshow": {
       "slide_type": "fragment"
      }
     },
     "outputs": [
      {
       "metadata": {},
       "output_type": "pyout",
       "prompt_number": 34,
       "text": [
        "0"
       ]
      }
     ],
     "prompt_number": 34
    },
    {
     "cell_type": "code",
     "collapsed": false,
     "input": [
      "v.index(3)"
     ],
     "language": "python",
     "metadata": {
      "slideshow": {
       "slide_type": "fragment"
      }
     },
     "outputs": [
      {
       "metadata": {},
       "output_type": "pyout",
       "prompt_number": 35,
       "text": [
        "1"
       ]
      }
     ],
     "prompt_number": 35
    },
    {
     "cell_type": "code",
     "collapsed": false,
     "input": [
      "v.count(3)"
     ],
     "language": "python",
     "metadata": {
      "slideshow": {
       "slide_type": "fragment"
      }
     },
     "outputs": [
      {
       "metadata": {},
       "output_type": "pyout",
       "prompt_number": 36,
       "text": [
        "2"
       ]
      }
     ],
     "prompt_number": 36
    },
    {
     "cell_type": "code",
     "collapsed": false,
     "input": [
      "v.insert(0, \"it's full of stars\")\n",
      "v"
     ],
     "language": "python",
     "metadata": {
      "slideshow": {
       "slide_type": "fragment"
      }
     },
     "outputs": [
      {
       "metadata": {},
       "output_type": "pyout",
       "prompt_number": 37,
       "text": [
        "[\"it's full of stars\", 4, 3, 3, 2, 1]"
       ]
      }
     ],
     "prompt_number": 37
    },
    {
     "cell_type": "code",
     "collapsed": false,
     "input": [
      "v.remove(1)\n",
      "v"
     ],
     "language": "python",
     "metadata": {
      "slideshow": {
       "slide_type": "fragment"
      }
     },
     "outputs": [
      {
       "metadata": {},
       "output_type": "pyout",
       "prompt_number": 38,
       "text": [
        "[\"it's full of stars\", 4, 3, 3, 2]"
       ]
      }
     ],
     "prompt_number": 38
    },
    {
     "cell_type": "markdown",
     "metadata": {
      "slideshow": {
       "slide_type": "slide"
      }
     },
     "source": [
      "### Using IPython to learn more\n",
      "\n",
      "IPython is your new best friend: it's tab-completion allows you to\n",
      "explore all methods available to an object.  (This only works in IPython)\n",
      "\n",
      "Type\n",
      "```\n",
      "v.\n",
      "```\n",
      "and then the tab key to see all the available methods:"
     ]
    },
    {
     "cell_type": "code",
     "collapsed": false,
     "input": [
      "v."
     ],
     "language": "python",
     "metadata": {
      "slideshow": {
       "slide_type": "fragment"
      }
     },
     "outputs": []
    },
    {
     "cell_type": "markdown",
     "metadata": {
      "slideshow": {
       "slide_type": "fragment"
      }
     },
     "source": [
      "Once you find a method, type (for example)\n",
      "```\n",
      "v.index?\n",
      "```\n",
      "and press shift-enter: you'll see the documentation of the method"
     ]
    },
    {
     "cell_type": "code",
     "collapsed": false,
     "input": [
      "v.index?"
     ],
     "language": "python",
     "metadata": {
      "slideshow": {
       "slide_type": "fragment"
      }
     },
     "outputs": [],
     "prompt_number": 40
    },
    {
     "cell_type": "markdown",
     "metadata": {
      "slideshow": {
       "slide_type": "fragment"
      }
     },
     "source": [
      "**This is probably the most important thing you'll learn today**"
     ]
    },
    {
     "cell_type": "markdown",
     "metadata": {
      "slideshow": {
       "slide_type": "slide"
      }
     },
     "source": [
      "### Iterating over Lists"
     ]
    },
    {
     "cell_type": "code",
     "collapsed": false,
     "input": [
      "a = ['cat', 'window', 'defenestrate']\n",
      "for x in a:\n",
      "    print(x, len(x))"
     ],
     "language": "python",
     "metadata": {
      "slideshow": {
       "slide_type": "fragment"
      }
     },
     "outputs": [
      {
       "output_type": "stream",
       "stream": "stdout",
       "text": [
        "cat 3\n",
        "window 6\n",
        "defenestrate 12\n"
       ]
      }
     ],
     "prompt_number": 41
    },
    {
     "cell_type": "code",
     "collapsed": false,
     "input": [
      "for i,x in enumerate(a):\n",
      "    print(i, x, len(x))"
     ],
     "language": "python",
     "metadata": {
      "slideshow": {
       "slide_type": "fragment"
      }
     },
     "outputs": [
      {
       "output_type": "stream",
       "stream": "stdout",
       "text": [
        "0 cat 3\n",
        "1 window 6\n",
        "2 defenestrate 12\n"
       ]
      }
     ],
     "prompt_number": 42
    },
    {
     "cell_type": "code",
     "collapsed": false,
     "input": [
      "for x in a:\n",
      "    print(x, end=' ')"
     ],
     "language": "python",
     "metadata": {
      "slideshow": {
       "slide_type": "fragment"
      }
     },
     "outputs": [
      {
       "output_type": "stream",
       "stream": "stdout",
       "text": [
        "cat window defenestrate "
       ]
      }
     ],
     "prompt_number": 43
    },
    {
     "cell_type": "markdown",
     "metadata": {
      "slideshow": {
       "slide_type": "fragment"
      }
     },
     "source": [
      "The syntax for iteration is...  \n",
      "\n",
      "    for variable_name in iterable:\n",
      "       # do something with variable_name"
     ]
    },
    {
     "cell_type": "markdown",
     "metadata": {},
     "source": [
      "### The ``range()`` function"
     ]
    },
    {
     "cell_type": "markdown",
     "metadata": {
      "slideshow": {
       "slide_type": "slide"
      }
     },
     "source": [
      "The `range()` function creates a list of integers\n",
      "\n",
      "(actually an iterator, but think of it as a list)"
     ]
    },
    {
     "cell_type": "code",
     "collapsed": false,
     "input": [
      "x = range(4)\n",
      "x"
     ],
     "language": "python",
     "metadata": {
      "slideshow": {
       "slide_type": "fragment"
      }
     },
     "outputs": [
      {
       "metadata": {},
       "output_type": "pyout",
       "prompt_number": 44,
       "text": [
        "range(0, 4)"
       ]
      }
     ],
     "prompt_number": 44
    },
    {
     "cell_type": "code",
     "collapsed": false,
     "input": [
      "total = 0\n",
      "for val in range(4):\n",
      "    total += val\n",
      "    print(\"By adding \" + str(val) + \\\n",
      "          \" the total is now \" + str(total))"
     ],
     "language": "python",
     "metadata": {
      "slideshow": {
       "slide_type": "fragment"
      }
     },
     "outputs": [
      {
       "output_type": "stream",
       "stream": "stdout",
       "text": [
        "By adding 0 the total is now 0\n",
        "By adding 1 the total is now 1\n",
        "By adding 2 the total is now 3\n",
        "By adding 3 the total is now 6\n"
       ]
      }
     ],
     "prompt_number": 45
    },
    {
     "cell_type": "markdown",
     "metadata": {
      "slideshow": {
       "slide_type": "fragment"
      }
     },
     "source": [
      "\n",
      "`range`([`start`,] `stop`[, `step`])\n",
      "\u2192 list of integers"
     ]
    },
    {
     "cell_type": "code",
     "collapsed": false,
     "input": [
      "total = 0\n",
      "for val in range(1, 10, 2):\n",
      "    total += val\n",
      "    print(\"By adding \" + str(val) + \\\n",
      "          \" the total is now \" + str(total))"
     ],
     "language": "python",
     "metadata": {
      "slideshow": {
       "slide_type": "fragment"
      }
     },
     "outputs": [
      {
       "output_type": "stream",
       "stream": "stdout",
       "text": [
        "By adding 1 the total is now 1\n",
        "By adding 3 the total is now 4\n",
        "By adding 5 the total is now 9\n",
        "By adding 7 the total is now 16\n",
        "By adding 9 the total is now 25\n"
       ]
      }
     ],
     "prompt_number": 46
    },
    {
     "cell_type": "markdown",
     "metadata": {
      "slideshow": {
       "slide_type": "slide"
      }
     },
     "source": [
      "**Quick Exercise:**\n",
      "\n",
      "Write a loop over the words in this list and print the words longer than three characters in length:"
     ]
    },
    {
     "cell_type": "code",
     "collapsed": false,
     "input": [
      "L = [\"Oh\", \"Say\", \"does\", \"that\", \"star\",\n",
      "     \"spangled\", \"banner\", \"yet\", \"wave\"]\n"
     ],
     "language": "python",
     "metadata": {
      "slideshow": {
       "slide_type": "fragment"
      }
     },
     "outputs": [],
     "prompt_number": 47
    },
    {
     "cell_type": "markdown",
     "metadata": {
      "slideshow": {
       "slide_type": "slide"
      }
     },
     "source": [
      "## Sets\n",
      "Sets can be thought of as unordered lists of unique items\n",
      "\n",
      "Sets are denoted with a curly braces"
     ]
    },
    {
     "cell_type": "code",
     "collapsed": false,
     "input": [
      "{1,2,3,\"bingo\"}"
     ],
     "language": "python",
     "metadata": {
      "slideshow": {
       "slide_type": "fragment"
      }
     },
     "outputs": [
      {
       "metadata": {},
       "output_type": "pyout",
       "prompt_number": 48,
       "text": [
        "{1, 2, 3, 'bingo'}"
       ]
      }
     ],
     "prompt_number": 48
    },
    {
     "cell_type": "code",
     "collapsed": false,
     "input": [
      "type({1,2,3,\"bingo\"})"
     ],
     "language": "python",
     "metadata": {
      "slideshow": {
       "slide_type": "fragment"
      }
     },
     "outputs": [
      {
       "metadata": {},
       "output_type": "pyout",
       "prompt_number": 49,
       "text": [
        "set"
       ]
      }
     ],
     "prompt_number": 49
    },
    {
     "cell_type": "code",
     "collapsed": false,
     "input": [
      "type({})"
     ],
     "language": "python",
     "metadata": {
      "slideshow": {
       "slide_type": "fragment"
      }
     },
     "outputs": [
      {
       "metadata": {},
       "output_type": "pyout",
       "prompt_number": 50,
       "text": [
        "dict"
       ]
      }
     ],
     "prompt_number": 50
    },
    {
     "cell_type": "code",
     "collapsed": false,
     "input": [
      "type(set())"
     ],
     "language": "python",
     "metadata": {
      "slideshow": {
       "slide_type": "fragment"
      }
     },
     "outputs": [
      {
       "metadata": {},
       "output_type": "pyout",
       "prompt_number": 51,
       "text": [
        "set"
       ]
      }
     ],
     "prompt_number": 51
    },
    {
     "cell_type": "code",
     "collapsed": false,
     "input": [
      "set(\"spamIam\")"
     ],
     "language": "python",
     "metadata": {
      "slideshow": {
       "slide_type": "fragment"
      }
     },
     "outputs": [
      {
       "metadata": {},
       "output_type": "pyout",
       "prompt_number": 52,
       "text": [
        "{'I', 'a', 'm', 'p', 's'}"
       ]
      }
     ],
     "prompt_number": 52
    },
    {
     "cell_type": "markdown",
     "metadata": {
      "slideshow": {
       "slide_type": "fragment"
      }
     },
     "source": [
      "sets have unique elements. They can be\n",
      "compared, differenced, unionized, etc."
     ]
    },
    {
     "cell_type": "code",
     "collapsed": false,
     "input": [
      "a = set(\"sp\")\n",
      "b = set(\"am\")\n",
      "print(a, b)"
     ],
     "language": "python",
     "metadata": {
      "slideshow": {
       "slide_type": "fragment"
      }
     },
     "outputs": [
      {
       "output_type": "stream",
       "stream": "stdout",
       "text": [
        "{'p', 's'} {'a', 'm'}\n"
       ]
      }
     ],
     "prompt_number": 53
    },
    {
     "cell_type": "code",
     "collapsed": false,
     "input": [
      "c = set([\"a\",\"m\"])\n",
      "c == b"
     ],
     "language": "python",
     "metadata": {
      "slideshow": {
       "slide_type": "fragment"
      }
     },
     "outputs": [
      {
       "metadata": {},
       "output_type": "pyout",
       "prompt_number": 54,
       "text": [
        "True"
       ]
      }
     ],
     "prompt_number": 54
    },
    {
     "cell_type": "code",
     "collapsed": false,
     "input": [
      "\"p\" in a"
     ],
     "language": "python",
     "metadata": {
      "slideshow": {
       "slide_type": "fragment"
      }
     },
     "outputs": [
      {
       "metadata": {},
       "output_type": "pyout",
       "prompt_number": 55,
       "text": [
        "True"
       ]
      }
     ],
     "prompt_number": 55
    },
    {
     "cell_type": "code",
     "collapsed": false,
     "input": [
      "a | b"
     ],
     "language": "python",
     "metadata": {},
     "outputs": [
      {
       "metadata": {},
       "output_type": "pyout",
       "prompt_number": 56,
       "text": [
        "{'a', 'm', 'p', 's'}"
       ]
      }
     ],
     "prompt_number": 56
    },
    {
     "cell_type": "markdown",
     "metadata": {
      "slideshow": {
       "slide_type": "slide"
      }
     },
     "source": [
      "## Dictionaries\n",
      "\n",
      "Dictionaries are one-to-one mappings of objects.\n",
      "\n",
      "We'll show four ways to make a Dictionary"
     ]
    },
    {
     "cell_type": "code",
     "collapsed": true,
     "input": [
      "# number 1... curly braces & colons\n",
      "d = {\"favorite cat\": None,\n",
      "     \"favorite spam\": \"all\"}\n",
      "d"
     ],
     "language": "python",
     "metadata": {
      "slideshow": {
       "slide_type": "fragment"
      }
     },
     "outputs": [
      {
       "metadata": {},
       "output_type": "pyout",
       "prompt_number": 57,
       "text": [
        "{'favorite spam': 'all', 'favorite cat': None}"
       ]
      }
     ],
     "prompt_number": 57
    },
    {
     "cell_type": "code",
     "collapsed": false,
     "input": [
      "# number 2\n",
      "d = dict(one = 1, two=2, cat='dog')\n",
      "d"
     ],
     "language": "python",
     "metadata": {
      "slideshow": {
       "slide_type": "fragment"
      }
     },
     "outputs": [
      {
       "metadata": {},
       "output_type": "pyout",
       "prompt_number": 58,
       "text": [
        "{'cat': 'dog', 'two': 2, 'one': 1}"
       ]
      }
     ],
     "prompt_number": 58
    },
    {
     "cell_type": "code",
     "collapsed": false,
     "input": [
      "# number 3 ... just start filling in items/keys\n",
      "d = {}  # empty dictionary\n",
      "d['cat'] = 'dog'\n",
      "d['one'] = 1\n",
      "d['two'] = 2\n",
      "d"
     ],
     "language": "python",
     "metadata": {
      "slideshow": {
       "slide_type": "fragment"
      }
     },
     "outputs": [
      {
       "metadata": {},
       "output_type": "pyout",
       "prompt_number": 59,
       "text": [
        "{'cat': 'dog', 'two': 2, 'one': 1}"
       ]
      }
     ],
     "prompt_number": 59
    },
    {
     "cell_type": "code",
     "collapsed": false,
     "input": [
      "# number 4... start with a list of tuples\n",
      "mylist = [(\"cat\",\"dog\"), (\"one\",1), (\"two\",2)]\n",
      "dict(mylist)"
     ],
     "language": "python",
     "metadata": {
      "slideshow": {
       "slide_type": "fragment"
      }
     },
     "outputs": [
      {
       "metadata": {},
       "output_type": "pyout",
       "prompt_number": 60,
       "text": [
        "{'cat': 'dog', 'two': 2, 'one': 1}"
       ]
      }
     ],
     "prompt_number": 60
    },
    {
     "cell_type": "code",
     "collapsed": false,
     "input": [
      "dict(mylist) == d"
     ],
     "language": "python",
     "metadata": {
      "slideshow": {
       "slide_type": "fragment"
      }
     },
     "outputs": [
      {
       "metadata": {},
       "output_type": "pyout",
       "prompt_number": 61,
       "text": [
        "True"
       ]
      }
     ],
     "prompt_number": 61
    },
    {
     "cell_type": "markdown",
     "metadata": {
      "slideshow": {
       "slide_type": "slide"
      }
     },
     "source": [
      "#### Dictionaries can be complicated (in a good way) ####\n",
      "Note that there is no guaranteed order in a dictionary!"
     ]
    },
    {
     "cell_type": "code",
     "collapsed": true,
     "input": [
      "d = {\"favorite cat\": None, \"favorite spam\": \"all\"}"
     ],
     "language": "python",
     "metadata": {
      "slideshow": {
       "slide_type": "fragment"
      }
     },
     "outputs": [],
     "prompt_number": 62
    },
    {
     "cell_type": "code",
     "collapsed": false,
     "input": [
      "d[0]  # this breaks!  Dictionaries have no order"
     ],
     "language": "python",
     "metadata": {
      "slideshow": {
       "slide_type": "fragment"
      }
     },
     "outputs": [
      {
       "ename": "KeyError",
       "evalue": "0",
       "output_type": "pyerr",
       "traceback": [
        "\u001b[0;31m---------------------------------------------------------------------------\u001b[0m\n\u001b[0;31mKeyError\u001b[0m                                  Traceback (most recent call last)",
        "\u001b[0;32m<ipython-input-63-d1fc1eca4ebb>\u001b[0m in \u001b[0;36m<module>\u001b[0;34m()\u001b[0m\n\u001b[0;32m----> 1\u001b[0;31m \u001b[0md\u001b[0m\u001b[0;34m[\u001b[0m\u001b[0;36m0\u001b[0m\u001b[0;34m]\u001b[0m  \u001b[0;31m# this breaks!  Dictionaries have no order\u001b[0m\u001b[0;34m\u001b[0m\u001b[0m\n\u001b[0m",
        "\u001b[0;31mKeyError\u001b[0m: 0"
       ]
      }
     ],
     "prompt_number": 63
    },
    {
     "cell_type": "code",
     "collapsed": false,
     "input": [
      "d[\"favorite spam\"]"
     ],
     "language": "python",
     "metadata": {
      "slideshow": {
       "slide_type": "fragment"
      }
     },
     "outputs": [
      {
       "metadata": {},
       "output_type": "pyout",
       "prompt_number": 64,
       "text": [
        "'all'"
       ]
      }
     ],
     "prompt_number": 64
    },
    {
     "cell_type": "code",
     "collapsed": false,
     "input": [
      "d[0] = \"this is a zero\"\n",
      "d"
     ],
     "language": "python",
     "metadata": {
      "slideshow": {
       "slide_type": "fragment"
      }
     },
     "outputs": [
      {
       "metadata": {},
       "output_type": "pyout",
       "prompt_number": 65,
       "text": [
        "{0: 'this is a zero', 'favorite spam': 'all', 'favorite cat': None}"
       ]
      }
     ],
     "prompt_number": 65
    },
    {
     "cell_type": "markdown",
     "metadata": {
      "slideshow": {
       "slide_type": "fragment"
      }
     },
     "source": [
      "Dictionaries can contain dictionaries!"
     ]
    },
    {
     "cell_type": "code",
     "collapsed": false,
     "input": [
      "d = {'favorites': {'cat': None, 'spam': 'all'},\\\n",
      "     'least favorite': {'cat': 'all', 'spam': None}}\n",
      "d['least favorite']['cat']"
     ],
     "language": "python",
     "metadata": {
      "slideshow": {
       "slide_type": "fragment"
      }
     },
     "outputs": [
      {
       "metadata": {},
       "output_type": "pyout",
       "prompt_number": 66,
       "text": [
        "'all'"
       ]
      }
     ],
     "prompt_number": 66
    },
    {
     "cell_type": "markdown",
     "metadata": {
      "slideshow": {
       "slide_type": "fragment"
      }
     },
     "source": [
      "remember: the backslash ('\\') allows you to across break lines. Not technically needed when defining a dictionary or list"
     ]
    },
    {
     "cell_type": "markdown",
     "metadata": {
      "slideshow": {
       "slide_type": "slide"
      }
     },
     "source": [
      "### Dictionaries are used everywhere within Python..."
     ]
    },
    {
     "cell_type": "code",
     "collapsed": false,
     "input": [
      "# globals() and locals() store all global and local variables\n",
      "globals().keys()"
     ],
     "language": "python",
     "metadata": {
      "slideshow": {
       "slide_type": "fragment"
      }
     },
     "outputs": [
      {
       "metadata": {},
       "output_type": "pyout",
       "prompt_number": 67,
       "text": [
        "dict_keys(['_i62', 'b', 'mylist', 'd', '_i56', 'L', '_i10', '__builtins__', '_i47', '_i11', '_i25', '_i', '_ih', '_ii', '__doc__', '_25', 'v', '_i22', 'x', '_57', '_18', '_i13', '_i29', '_i28', '_50', '_51', 'print_function', '_29', '_28', '_i18', '_i19', '__', '_i14', '_i15', '_i16', '_i17', '_27', '_26', '_i12', '_24', 'vv', '___', '_58', 'i', '_i64', '_8', '_i58', '_i8', '_i9', 'display', 'determinant', '_i2', '_i3', '_i1', '_i6', '_i7', '_i4', '_i5', '_i50', '_i51', '_i52', '_i53', '_i54', '_i55', 't', '_i57', '_i26', '_i59', '_38', '_55', '_i24', '_30', '_31', '_32', '_33', '_13', '_i27', '_36', '_37', '_dh', '_11', '_i21', '_i66', '_16', '_i20', 'get_ipython', 'a', 'c', '_14', '__builtin__', 'HTML', '_34', 'Out', '_i44', '_35', '_i43', '_i42', '_i41', '_i40', '_oh', 'total', '_i45', 'w', 'y', '_i49', '_i48', '_54', '_i38', '_i39', '_i61', '_i32', '_i33', '_i30', '_i31', '_i36', '_i37', '__name__', '__nonzero__', '_i46', '_i65', '_i23', '_i67', '_44', '_52', 'val', '_60', '_', 'quit', '_i60', '_49', '_48', 'In', '_6', '_i34', '_59', '_64', '_iii', '_i63', '_17', '_66', '_65', 'exit', '_sh', '_23', '__warningregistry__', '_i35', '_56', '_22', '_61'])"
       ]
      }
     ],
     "prompt_number": 67
    },
    {
     "cell_type": "markdown",
     "metadata": {
      "slideshow": {
       "slide_type": "slide"
      }
     },
     "source": [
      "## List Comprehensions\n",
      "\n",
      "### A pythonic way of creating lists on-the-fly\n",
      "**Example:** imagine you want a list of all numbers from 0 to 100 which are divisible by 7 **or** 11"
     ]
    },
    {
     "cell_type": "code",
     "collapsed": false,
     "input": [
      "L = []\n",
      "for num in range(100):\n",
      "    if (num % 7 == 0) or (num % 11 == 0):\n",
      "        L.append(num)\n",
      "print(L)"
     ],
     "language": "python",
     "metadata": {
      "slideshow": {
       "slide_type": "fragment"
      }
     },
     "outputs": [
      {
       "output_type": "stream",
       "stream": "stdout",
       "text": [
        "[0, 7, 11, 14, 21, 22, 28, 33, 35, 42, 44, 49, 55, 56, 63, 66, 70, 77, 84, 88, 91, 98, 99]\n"
       ]
      }
     ],
     "prompt_number": 68
    },
    {
     "cell_type": "markdown",
     "metadata": {
      "slideshow": {
       "slide_type": "fragment"
      }
     },
     "source": [
      "We can also do this with a list comprehension:"
     ]
    },
    {
     "cell_type": "code",
     "collapsed": false,
     "input": [
      "L = [num for num in range(100)\\\n",
      "     if (num % 7 == 0) or (num % 11 == 0)]\n",
      "print(L)"
     ],
     "language": "python",
     "metadata": {
      "slideshow": {
       "slide_type": "fragment"
      }
     },
     "outputs": [
      {
       "output_type": "stream",
       "stream": "stdout",
       "text": [
        "[0, 7, 11, 14, 21, 22, 28, 33, 35, 42, 44, 49, 55, 56, 63, 66, 70, 77, 84, 88, 91, 98, 99]\n"
       ]
      }
     ],
     "prompt_number": 69
    },
    {
     "cell_type": "code",
     "collapsed": false,
     "input": [
      "# Can also operate on each element:\n",
      "L = [2 * num for num in range(100)\\\n",
      "     if (num % 7 == 0) or (num % 11 == 0)]\n",
      "print(L)"
     ],
     "language": "python",
     "metadata": {
      "slideshow": {
       "slide_type": "fragment"
      }
     },
     "outputs": [
      {
       "output_type": "stream",
       "stream": "stdout",
       "text": [
        "[0, 14, 22, 28, 42, 44, 56, 66, 70, 84, 88, 98, 110, 112, 126, 132, 140, 154, 168, 176, 182, 196, 198]\n"
       ]
      }
     ],
     "prompt_number": 70
    },
    {
     "cell_type": "markdown",
     "metadata": {
      "slideshow": {
       "slide_type": "slide"
      }
     },
     "source": [
      "**Example:** Below is a list of information on 50 of the largest near-earth asteroids.\n",
      "Given this list of asteroid information, let's find all asteroids with semi-major axis within 0.2AU of earth, and with eccentricities less than 0.5"
     ]
    },
    {
     "cell_type": "code",
     "collapsed": false,
     "input": [
      "# Each element is (name, semi-major axis (AU), eccentricity, orbit class)\n",
      "# source: http://ssd.jpl.nasa.gov/sbdb_query.cgi\n",
      "\n",
      "Asteroids = [('Eros', 1.457916888347732, 0.2226769029627053, 'AMO'),\n",
      "             ('Albert', 2.629584157344544, 0.551788195302116, 'AMO'),\n",
      "             ('Alinda', 2.477642943521562, 0.5675993715753302, 'AMO'),\n",
      "             ('Ganymed', 2.662242764279804, 0.5339300994578989, 'AMO'),\n",
      "             ('Amor', 1.918987277620309, 0.4354863345648127, 'AMO'),\n",
      "             ('Icarus', 1.077941311539208, 0.826950446001521, 'APO'),\n",
      "             ('Betulia', 2.196489260519891, 0.4876246891992282, 'AMO'),\n",
      "             ('Geographos', 1.245477192797457, 0.3355407124897842, 'APO'),\n",
      "             ('Ivar', 1.862724540418448, 0.3968541470639658, 'AMO'),\n",
      "             ('Toro', 1.367247622946547, 0.4358829575017499, 'APO'),\n",
      "             ('Apollo', 1.470694262588244, 0.5598306817483757, 'APO'),\n",
      "             ('Antinous', 2.258479598510079, 0.6070051516585434, 'APO'),\n",
      "             ('Daedalus', 1.460912865705988, 0.6144629118218898, 'APO'),\n",
      "             ('Cerberus', 1.079965807367047, 0.4668134997419173, 'APO'),\n",
      "             ('Sisyphus', 1.893726635847921, 0.5383319204425762, 'APO'),\n",
      "             ('Quetzalcoatl', 2.544270656955212, 0.5704591861565643, 'AMO'),\n",
      "             ('Boreas', 2.271958775354725, 0.4499332278634067, 'AMO'),\n",
      "             ('Cuyo', 2.150453953345012, 0.5041719257675564, 'AMO'),\n",
      "             ('Anteros', 1.430262719980132, 0.2558054402785934, 'AMO'),\n",
      "             ('Tezcatlipoca', 1.709753263222791, 0.3647772103513082, 'AMO'),\n",
      "             ('Midas', 1.775954494579457, 0.6503697243919138, 'APO'),\n",
      "             ('Baboquivari', 2.646202507670927, 0.5295611095751231, 'AMO'),\n",
      "             ('Anza', 2.26415089613359, 0.5371603112900858, 'AMO'),\n",
      "             ('Aten', 0.9668828078092987, 0.1827831025175614, 'ATE'),\n",
      "             ('Bacchus', 1.078135348117527, 0.3495569270441645, 'APO'),\n",
      "             ('Ra-Shalom', 0.8320425524852308, 0.4364726062545577, 'ATE'),\n",
      "             ('Adonis', 1.874315684524321, 0.763949321566, 'APO'),\n",
      "             ('Tantalus', 1.289997492877751, 0.2990853014998932, 'APO'),\n",
      "             ('Aristaeus', 1.599511990737142, 0.5030618532252225, 'APO'),\n",
      "             ('Oljato', 2.172056090036035, 0.7125729402616418, 'APO'),\n",
      "             ('Pele', 2.291471988746353, 0.5115484924883255, 'AMO'),\n",
      "             ('Hephaistos', 2.159619960333728, 0.8374146846143349, 'APO'),\n",
      "             ('Orthos', 2.404988778495748, 0.6569133796135244, 'APO'),\n",
      "             ('Hathor', 0.8442121506103012, 0.4498204013480316, 'ATE'),\n",
      "             ('Beltrovata', 2.104690977122337, 0.413731105995413, 'AMO'),\n",
      "             ('Seneca', 2.516402574514213, 0.5708728441169761, 'AMO'),\n",
      "             ('Krok', 2.152545170235639, 0.4478259793515817, 'AMO'),\n",
      "             ('Eger', 1.404478323548423, 0.3542971360331806, 'APO'),\n",
      "             ('Florence', 1.768227407864309, 0.4227761019048867, 'AMO'),\n",
      "             ('Nefertiti', 1.574493139339916, 0.283902719273878, 'AMO'),\n",
      "             ('Phaethon', 1.271195939723604, 0.8898716672181355, 'APO'),\n",
      "             ('Ul', 2.102493486378346, 0.3951143067760007, 'AMO'),\n",
      "             ('Seleucus', 2.033331705805067, 0.4559159977082651, 'AMO'),\n",
      "             ('McAuliffe', 1.878722427225527, 0.3691521497610656, 'AMO'),\n",
      "             ('Syrinx', 2.469752836845105, 0.7441934504192601, 'APO'),\n",
      "             ('Orpheus', 1.209727780883745, 0.3229034563257626, 'APO'),\n",
      "             ('Khufu', 0.989473784873371, 0.468479627898914, 'ATE'),\n",
      "             ('Verenia', 2.093231870619781, 0.4865133359612604, 'AMO'),\n",
      "             ('\"Don Quixote\"', 4.221712367193639, 0.7130894892477316, 'AMO'),\n",
      "             ('Mera', 1.644476057737928, 0.3201425983025733, 'AMO')]\n",
      "\n",
      "orbit_class = {'AMO':'Amor', 'APO':'Apollo', 'ATE':'Aten'}"
     ],
     "language": "python",
     "metadata": {
      "slideshow": {
       "slide_type": "fragment"
      }
     },
     "outputs": [],
     "prompt_number": 71
    },
    {
     "cell_type": "code",
     "collapsed": false,
     "input": [
      "# first we'll build the list using loops.\n",
      "L = []\n",
      "for data in Asteroids:\n",
      "    name, a, e, t = data\n",
      "    if abs(a - 1) < 0.2 and e < 0.5:\n",
      "        L.append(name)\n",
      "print(L)"
     ],
     "language": "python",
     "metadata": {
      "slideshow": {
       "slide_type": "fragment"
      }
     },
     "outputs": [
      {
       "output_type": "stream",
       "stream": "stdout",
       "text": [
        "['Cerberus', 'Aten', 'Bacchus', 'Ra-Shalom', 'Hathor', 'Khufu']\n"
       ]
      }
     ],
     "prompt_number": 72
    },
    {
     "cell_type": "code",
     "collapsed": false,
     "input": [
      "# now with a list comprehension...\n",
      "L = [name for (name, a, e, t) in Asteroids\n",
      "     if abs(a - 1) < 0.2 and e < 0.5]\n",
      "print(L)"
     ],
     "language": "python",
     "metadata": {
      "slideshow": {
       "slide_type": "fragment"
      }
     },
     "outputs": [
      {
       "output_type": "stream",
       "stream": "stdout",
       "text": [
        "['Cerberus', 'Aten', 'Bacchus', 'Ra-Shalom', 'Hathor', 'Khufu']\n"
       ]
      }
     ],
     "prompt_number": 73
    },
    {
     "cell_type": "markdown",
     "metadata": {
      "slideshow": {
       "slide_type": "fragment"
      }
     },
     "source": [
      "Here is how we could create a dictionary from the list"
     ]
    },
    {
     "cell_type": "code",
     "collapsed": false,
     "input": [
      "D = dict([(name, (a, e, t)) for (name, a, e, t) in Asteroids])\n",
      "print(D['Eros'])\n",
      "print(D['Amor'])"
     ],
     "language": "python",
     "metadata": {
      "slideshow": {
       "slide_type": "fragment"
      }
     },
     "outputs": [
      {
       "output_type": "stream",
       "stream": "stdout",
       "text": [
        "(1.457916888347732, 0.2226769029627053, 'AMO')\n",
        "(1.918987277620309, 0.4354863345648127, 'AMO')\n"
       ]
      }
     ],
     "prompt_number": 74
    },
    {
     "cell_type": "markdown",
     "metadata": {
      "slideshow": {
       "slide_type": "slide"
      }
     },
     "source": [
      "# Breakout #2: Sorting Asteroids\n",
      "\n",
      "Using the above Asteroid list,\n",
      "\n",
      "- print the list sorted in alphabetical order by asteroid name\n",
      "  (hint: how does sorting handle a list of tuples?)\n",
      "- print the list sorted by semi-major axis\n",
      "- print the list sorted by name, but replace the class code with the class name\n",
      "\n",
      "The output should be formatted like this:\n",
      "\n",
      "    Asteroid name    a (AU)    e        class\n",
      "    -----------------------------------------\n",
      "    Eros             1.4578    0.2226   Amor\n",
      "    Albert           2.6292    0.5518   Amor\n",
      "    .\n",
      "    .\n",
      "    .\n",
      "\n",
      "Bonus points if you can get the columns to line up nicely!"
     ]
    }
   ],
   "metadata": {}
  }
 ]
}