{
 "metadata": {
  "name": "",
  "signature": "sha256:38d371a37318fe778c05da9d6191d2633c6f82fb1c71a474cbb0c6243d5bdf76"
 },
 "nbformat": 3,
 "nbformat_minor": 0,
 "worksheets": [
  {
   "cells": [
    {
     "cell_type": "markdown",
     "metadata": {},
     "source": [
      "<small><i>This notebook was put together by [Jake Vanderplas](http://www.vanderplas.com) for UW's [Astro 599](http://www.astro.washington.edu/users/vanderplas/Astr599_2014/) course. Source and license info is on [GitHub](https://github.com/jakevdp/2014_fall_ASTR599/).</i></small>"
     ]
    },
    {
     "cell_type": "code",
     "collapsed": false,
     "input": [
      "%run talktools.py"
     ],
     "language": "python",
     "metadata": {},
     "outputs": [
      {
       "html": [
        "<style>\n",
        "div.cell, div.text_cell_render{\n",
        "  max-width:750px;\n",
        "  margin-left:auto;\n",
        "  margin-right:auto;\n",
        "}\n",
        "\n",
        ".rendered_html\n",
        "{\n",
        "  font-size: 140%;\n",
        "  }\n",
        "\n",
        ".rendered_html li\n",
        "{\n",
        "  line-height: 1.8;\n",
        "  }\n",
        "\n",
        ".rendered_html h1, h2 {\n",
        "  text-align:center;\n",
        "  font-familly:\"Charis SIL\", serif;\n",
        "}\n",
        "</style>"
       ],
       "metadata": {},
       "output_type": "display_data",
       "text": [
        "<IPython.core.display.HTML at 0x10370b350>"
       ]
      }
     ],
     "prompt_number": 2
    },
    {
     "cell_type": "markdown",
     "metadata": {
      "slideshow": {
       "slide_type": "slide"
      }
     },
     "source": [
      "# Introduction to SciPy\n",
      "\n",
      "Scipy is the premiere package for scientific computing in Python.  It has many, many useful tools, which are central to scientific computing tasks you'll come across.\n",
      "\n",
      "This notebook will walk you through a number of exercises.  It purposely does not give you everything you need: it tries to mimic reality, when you'll have to use the built-in documentation + Google searches to figure out how to proceed."
     ]
    },
    {
     "cell_type": "markdown",
     "metadata": {
      "slideshow": {
       "slide_type": "slide"
      }
     },
     "source": [
      "## A Quick Survey of SciPy\n",
      "\n",
      "Here we'll list and discuss some of the submodules available in SciPy:\n",
      "\n",
      "- **File input/output:** ``scipy.io``\n",
      "- **Special functions:** ``scipy.special``\n",
      "- **Linear algebra operations:** ``scipy.linalg``\n",
      "- **Fast Fourier transforms:** ``scipy.fftpack``\n",
      "- **Optimization and fit:** ``scipy.optimize``\n",
      "- **Statistics and random numbers:** ``scipy.stats``\n",
      "- **Interpolation:** ``scipy.interpolate``\n",
      "- **Numerical integration:** ``scipy.integrate``\n",
      "- **Signal processing:** ``scipy.signal``\n",
      "- **Image processing:** ``scipy.ndimage``\n",
      "- **Sparse Matrices:** ``scipy.sparse``\n",
      "- **Physical Constants:** ``scipy.constants``\n",
      "- **Spatial metrics:** ``scipy.spatial``\n",
      "\n",
      "The various exercises below will give you a chance to explore these functions:"
     ]
    },
    {
     "cell_type": "markdown",
     "metadata": {
      "slideshow": {
       "slide_type": "slide"
      }
     },
     "source": [
      "## ``scipy.constants``\n",
      "\n",
      "Use values within ``scipy.constants`` to compute the Stefan-Boltzmann constant $\\sigma$ via the following relation:\n",
      "\n",
      "$$\\sigma = \\frac{2 \\pi^5 k_B^4}{15 h^3 c^2}$$\n",
      "\n",
      "Confirm that your expression is correct by comparing the value you calculated to the Stefan-Boltzmann constant available within ``scipy.constants``"
     ]
    },
    {
     "cell_type": "code",
     "collapsed": false,
     "input": [],
     "language": "python",
     "metadata": {
      "slideshow": {
       "slide_type": "fragment"
      }
     },
     "outputs": []
    },
    {
     "cell_type": "markdown",
     "metadata": {
      "slideshow": {
       "slide_type": "slide"
      }
     },
     "source": [
      "## ``scipy.special``\n",
      "\n",
      "Using functions within ``scipy.special`` as well as the matplotlib plotting functions we covered yesterday, plot the first six Bessell functions $J_n(x)$ of the first kind, for $0 \\le x \\le 20$."
     ]
    },
    {
     "cell_type": "code",
     "collapsed": false,
     "input": [],
     "language": "python",
     "metadata": {
      "slideshow": {
       "slide_type": "fragment"
      }
     },
     "outputs": []
    },
    {
     "cell_type": "markdown",
     "metadata": {
      "slideshow": {
       "slide_type": "fragment"
      }
     },
     "source": [
      "Using functions within ``scipy.special``, compute the value of $\\log(1000!)$, where ``log`` is the natural logarithm, and ``!`` indicates the factorial function (hint: what is the relationship between factorial and the gamma function?).\n",
      "\n",
      "Bonus: how many digits does $1000!$ have when expressed as a base 10 number?"
     ]
    },
    {
     "cell_type": "code",
     "collapsed": false,
     "input": [],
     "language": "python",
     "metadata": {
      "slideshow": {
       "slide_type": "fragment"
      }
     },
     "outputs": []
    },
    {
     "cell_type": "markdown",
     "metadata": {
      "slideshow": {
       "slide_type": "fragment"
      }
     },
     "source": [
      "## ``scipy.linalg``\n",
      "\n",
      "The ``scipy.linalg`` module offers a number of interesting routines, some of which overlap with the ``numpy.linalg`` module.  Both are wrappers of the ``LAPACK`` and ``BLAS`` tools on your system, so using them will lead to executions as fast as any other languages.\n",
      "\n",
      "The two linear algebra interfaces are very similar; ``scipy``, thought, adds wrappers of more specialized routines, and often offers more options to tune the results of linear algebra operations.\n",
      "\n",
      "- Use Scipy's linear algebra tools to compute the value of x, y, and z:\n",
      "\n",
      "   $$2x + 3y - z = 5$$\n",
      "   $$3x - 2y + 4z = 6$$\n",
      "   $$-x + 2y -z = 12$$\n",
      "\n",
      "   Hint: remember how a linear system of equations can be turned into a matrix expression?\n",
      "   There are several ways of doing this within SciPy."
     ]
    },
    {
     "cell_type": "code",
     "collapsed": false,
     "input": [],
     "language": "python",
     "metadata": {
      "slideshow": {
       "slide_type": "fragment"
      }
     },
     "outputs": []
    },
    {
     "cell_type": "markdown",
     "metadata": {
      "slideshow": {
       "slide_type": "fragment"
      }
     },
     "source": [
      "- Find the inverse of the following matrix:\n",
      "    \n",
      "       [[ 2   3  -1]\n",
      "        [ 3  -2   4]\n",
      "        [-1   2  -1]]\n",
      "     \n",
      "   Find the product of this inverse with the vector \n",
      "\n",
      "       [5  6  12]"
     ]
    },
    {
     "cell_type": "code",
     "collapsed": false,
     "input": [],
     "language": "python",
     "metadata": {
      "slideshow": {
       "slide_type": "fragment"
      }
     },
     "outputs": []
    },
    {
     "cell_type": "markdown",
     "metadata": {
      "slideshow": {
       "slide_type": "fragment"
      }
     },
     "source": [
      "- How many nonzero eigenvalues does the following matrix have?"
     ]
    },
    {
     "cell_type": "code",
     "collapsed": false,
     "input": [
      "M = np.array([[ 1,  4,  2],\n",
      "              [ 4, 16,  8],\n",
      "              [ 2,  8,  4]])"
     ],
     "language": "python",
     "metadata": {
      "slideshow": {
       "slide_type": "fragment"
      }
     },
     "outputs": []
    },
    {
     "cell_type": "code",
     "collapsed": false,
     "input": [],
     "language": "python",
     "metadata": {},
     "outputs": []
    },
    {
     "cell_type": "markdown",
     "metadata": {
      "slideshow": {
       "slide_type": "slide"
      }
     },
     "source": [
      "## ``scipy.interpolate``\n",
      "\n",
      "1. Define an array ``x`` which contains 10 points from 0 to $2\\pi$\n",
      "\n",
      "2. Compute an array ``y`` which is the sine of the points in ``x``\n",
      "\n",
      "3. Define an array ``x_new`` which contains 1000 points from 0 to $2\\pi$\n",
      "\n",
      "4. Use functions in ``scipy.interpolate`` to interpolate ``x`` and ``y`` onto ``x_new``,\n",
      "   using cubic interpolation.  Call the results ``y_new``.\n",
      "\n",
      "5. Use the following commands to plot the results:\n",
      "\n",
      "        plt.plot(x, y, '.k')\n",
      "        plt.plot(x_new, y_new, '-k')\n"
     ]
    },
    {
     "cell_type": "code",
     "collapsed": false,
     "input": [],
     "language": "python",
     "metadata": {
      "slideshow": {
       "slide_type": "fragment"
      }
     },
     "outputs": []
    },
    {
     "cell_type": "markdown",
     "metadata": {
      "slideshow": {
       "slide_type": "slide"
      }
     },
     "source": [
      "## ``scipy.integrate``\n",
      "\n",
      "Numerical integrations is central to many cosmological calculations.  Here we'll calculate the angular diameter distance as a function of $z$.  For simplicity here, we'll assume a flat universe ($\\Omega_k=0$) with contributions only from $\\Omega_M$ and $\\Omega_\\Lambda$.\n",
      "\n",
      "The equations below refer to [Hogg's 1999 paper](http://arxiv.org/abs/astroph/9905116).\n",
      "\n",
      "#### 1. computing $E(z)$\n",
      "Write a function ``E(z, OmegaM)`` which computes $E(z)$, as defined by equation 14 of the Hogg paper.  The function should take two arguments, ``z`` and ``OmegaM``, in that order.  Assume ($\\Omega_M + \\Omega_\\Lambda = 1$, $\\Omega_k = 0$), and use the default value $\\Omega_M = 0.3$.\n",
      "\n",
      "You should be able to call the function like this:\n",
      "\n",
      "    >>> E(1.0)\n",
      "    1.7606816861659007\n",
      "    \n",
      "Also define a function ``invE(z, OmegaM)`` which computes the inverse of ``E``, above."
     ]
    },
    {
     "cell_type": "code",
     "collapsed": false,
     "input": [],
     "language": "python",
     "metadata": {
      "slideshow": {
       "slide_type": "fragment"
      }
     },
     "outputs": []
    },
    {
     "cell_type": "markdown",
     "metadata": {
      "slideshow": {
       "slide_type": "slide"
      }
     },
     "source": [
      "#### 2. Comoving Distance\n",
      "Using the tools in ``scipy.integrate``, write a function ``D_C(z)`` that computes the comoving distance to $z$ in megaparsecs (eqn. 15 of Hogg).  Use $D_H = 3000 Mpc$.\n",
      "\n",
      "You should be able to call the function like this:\n",
      "\n",
      "    >>> D_C(1)\n",
      "    2314.281199283433"
     ]
    },
    {
     "cell_type": "code",
     "collapsed": false,
     "input": [],
     "language": "python",
     "metadata": {
      "slideshow": {
       "slide_type": "fragment"
      }
     },
     "outputs": []
    },
    {
     "cell_type": "markdown",
     "metadata": {
      "slideshow": {
       "slide_type": "fragment"
      }
     },
     "source": [
      "#### 3. Angular Diameter Distance\n",
      "\n",
      "write a function ``D_A`` which computes the angular diameter distance as a function of $z$ (Eqn. 18 in Hogg).  Note that because we're assuming a flat cosmology, $D_M = D_C$."
     ]
    },
    {
     "cell_type": "code",
     "collapsed": false,
     "input": [],
     "language": "python",
     "metadata": {
      "slideshow": {
       "slide_type": "fragment"
      }
     },
     "outputs": []
    },
    {
     "cell_type": "markdown",
     "metadata": {
      "slideshow": {
       "slide_type": "fragment"
      }
     },
     "source": [
      "#### 4. Plot the angular diameter distance\n",
      "\n",
      "Plot the angular diameter distance as a function of $z$, with $z$ ranging from 0 to 4.\n",
      "\n",
      "Note: your function most likely expects a scalar argument for $z$, so passing an array will not work!\n",
      "\n",
      "The angular diameter distance is essentially a plot of the ratio of the object's physical size to its apparent (angular) size.  You should see a turnover in the plot around $z=1$: what does this mean for the angular size of an object as it gets further away?"
     ]
    },
    {
     "cell_type": "code",
     "collapsed": false,
     "input": [],
     "language": "python",
     "metadata": {
      "slideshow": {
       "slide_type": "fragment"
      }
     },
     "outputs": []
    },
    {
     "cell_type": "markdown",
     "metadata": {
      "slideshow": {
       "slide_type": "slide"
      }
     },
     "source": [
      "## ``scipy.optimize``\n",
      "\n",
      "The ``optimize`` submodule contains functions used for function minimization and optimization.  There are lots of options in there for multi-dimensional function optimization, which we'll learn about later in the quarter.\n",
      "\n",
      "- Algebraically determine the value of $x$ which minimizes this function:\n",
      "\n",
      "   $$f(x) = x^2 + 2x - 4$$\n",
      "\n",
      "- Numerically compute the value of $x$ which minimizes this function, using a suitable routine from ``scipy.optimize``"
     ]
    },
    {
     "cell_type": "code",
     "collapsed": false,
     "input": [],
     "language": "python",
     "metadata": {
      "slideshow": {
       "slide_type": "fragment"
      }
     },
     "outputs": []
    },
    {
     "cell_type": "markdown",
     "metadata": {
      "slideshow": {
       "slide_type": "fragment"
      }
     },
     "source": [
      "- Using the same routine, find the value of $z$ for which $D_A(z)$, above, is maximized.  You can reuse your function from the previous section."
     ]
    },
    {
     "cell_type": "code",
     "collapsed": false,
     "input": [],
     "language": "python",
     "metadata": {
      "slideshow": {
       "slide_type": "fragment"
      }
     },
     "outputs": []
    },
    {
     "cell_type": "markdown",
     "metadata": {
      "slideshow": {
       "slide_type": "slide"
      }
     },
     "source": [
      "## Bonus #1\n",
      "\n",
      "If you're finished and still have time, create a plot of the **angular diameter distance turnover redshift** as a function of $\\Omega_M$, assuming a flat universe with only matter and dark energy ($\\Omega_M + \\Omega_\\Lambda = 1$, $\\Omega_k = 0$).\n",
      "\n",
      "You'll need to combine integration and optimization together, being careful about how you pass-through the additional arguments.\n",
      "\n",
      "Try to do this without using any loops, i.e. define suitable functions and use the **list comprehensions** we talked about yesterday."
     ]
    },
    {
     "cell_type": "code",
     "collapsed": false,
     "input": [],
     "language": "python",
     "metadata": {},
     "outputs": []
    },
    {
     "cell_type": "markdown",
     "metadata": {},
     "source": [
      "## Bonus #2\n",
      "\n",
      "If you still have time, repeat the above exercises with a more general function that allows non-flat cosmologies (note that $D_C(z) \\ne D_M(z)$ in this case, as indicated in eqn. 16 of the Hogg paper).\n",
      "\n",
      "Create a contour plot showing the angular diameter distance turnaround redshift as a function of both $\\Omega_M$ and $\\Omega_\\Lambda$."
     ]
    },
    {
     "cell_type": "code",
     "collapsed": false,
     "input": [],
     "language": "python",
     "metadata": {},
     "outputs": []
    }
   ],
   "metadata": {}
  }
 ]
}