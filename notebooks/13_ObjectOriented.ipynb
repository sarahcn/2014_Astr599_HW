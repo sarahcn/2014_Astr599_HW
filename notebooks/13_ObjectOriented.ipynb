{
 "metadata": {
  "name": "",
  "signature": "sha256:a20c732b7b341aa22f52efda32e619ca80827107c51037697b6a6748dff633a8"
 },
 "nbformat": 3,
 "nbformat_minor": 0,
 "worksheets": [
  {
   "cells": [
    {
     "cell_type": "markdown",
     "metadata": {},
     "source": [
      "#PYTHON OBJECT ORIENTED PROGRAMMING (not an alien thing)\n",
      "### Scientific computing with python seminar \n",
      "by <a href=\"mailto:maojrs@uw.edu\">Mauricio J. Del Razo S.</a> 2014"
     ]
    },
    {
     "cell_type": "markdown",
     "metadata": {},
     "source": [
      "<img src=\"images/Aliens.png\" />\n"
     ]
    },
    {
     "cell_type": "markdown",
     "metadata": {},
     "source": [
      "# 1. FIRST STEPS"
     ]
    },
    {
     "cell_type": "markdown",
     "metadata": {},
     "source": [
      "##Objects in python are like objects in the world (or should I say the universe). \n",
      "\n",
      "Every object belongs to a certain class of objects with certain properties. For instance, our favorite extraterrestial beings can be objects:"
     ]
    },
    {
     "cell_type": "code",
     "collapsed": false,
     "input": [
      "class alien:\n",
      "    # A property of all aliens\n",
      "    appearance = 'ugly'"
     ],
     "language": "python",
     "metadata": {},
     "outputs": [],
     "prompt_number": 1
    },
    {
     "cell_type": "markdown",
     "metadata": {},
     "source": [
      "Each of our aliens is an object that belongs to the class alien (Yes, I'm saying Aliens are objects)"
     ]
    },
    {
     "cell_type": "code",
     "collapsed": false,
     "input": [
      "ET = alien()\n",
      "Alf = alien()\n",
      "Yoda = alien()"
     ],
     "language": "python",
     "metadata": {},
     "outputs": [],
     "prompt_number": 2
    },
    {
     "cell_type": "markdown",
     "metadata": {},
     "source": [
      "Every one of our buddies will have the same appearance"
     ]
    },
    {
     "cell_type": "code",
     "collapsed": false,
     "input": [
      "print(ET.appearance, Alf.appearance, Yoda.appearance)"
     ],
     "language": "python",
     "metadata": {},
     "outputs": [
      {
       "output_type": "stream",
       "stream": "stdout",
       "text": [
        "('ugly', 'ugly', 'ugly')\n"
       ]
      }
     ],
     "prompt_number": 3
    },
    {
     "cell_type": "markdown",
     "metadata": {},
     "source": [
      "### All aliens might have the same rights, but they are not the same"
     ]
    },
    {
     "cell_type": "code",
     "collapsed": false,
     "input": [
      "ET.color = 'red'\n",
      "ET.head = 'giant'\n",
      "ET.planet = 'Mars?'\n",
      "\n",
      "Alf.color = 'yellow'\n",
      "Alf.head = 'funny with an elephant trompe'\n",
      "Alf.planet = 'Melmac'\n",
      "\n",
      "Yoda.color = 'green'\n",
      "Yoda.head = 'wrinkled with long hairy ears'\n",
      "Yoda.planet = 'Jupitron'"
     ],
     "language": "python",
     "metadata": {},
     "outputs": [],
     "prompt_number": 4
    },
    {
     "cell_type": "code",
     "collapsed": false,
     "input": [
      "print('ET:',ET.appearance,ET.color, ET.planet, ET.head)\n",
      "print('Alf:',Alf.appearance,Alf.color, Alf.planet, Alf.head)\n",
      "print('Yoda:',Yoda.appearance,Yoda.color, Yoda.planet, Yoda.head)"
     ],
     "language": "python",
     "metadata": {},
     "outputs": [
      {
       "output_type": "stream",
       "stream": "stdout",
       "text": [
        "('ET:', 'ugly', 'red', 'Mars?', 'giant')\n",
        "('Alf:', 'ugly', 'yellow', 'Melmac', 'funny with an elephant trompe')\n",
        "('Yoda:', 'ugly', 'green', 'Jupitron', 'wrinkled with long hairy ears')\n"
       ]
      }
     ],
     "prompt_number": 5
    },
    {
     "cell_type": "markdown",
     "metadata": {},
     "source": [
      "## BUT WATCH OUT w/CLASS VARIABLES AND INSTANCE VARIABLES!!!\n",
      "Class variables are usually shared among all the objects of that class; they are more \"global\", like appearance.\n",
      "\n",
      "Instance variables are those unique to each object, like color, planet and head.\n",
      "\n",
      "If we are not careful, we might end up messing up:"
     ]
    },
    {
     "cell_type": "code",
     "collapsed": false,
     "input": [
      "alien.appearance = 'handsome stallion'\n",
      "print(ET.appearance,Alf.appearance,Yoda.appearance)"
     ],
     "language": "python",
     "metadata": {},
     "outputs": [
      {
       "output_type": "stream",
       "stream": "stdout",
       "text": [
        "('handsome stallion', 'handsome stallion', 'handsome stallion')\n"
       ]
      }
     ],
     "prompt_number": 6
    },
    {
     "cell_type": "markdown",
     "metadata": {},
     "source": [
      "# 2. INTRODUCTION TO OBJECT ORIENTED PROGRAMMING"
     ]
    },
    {
     "cell_type": "markdown",
     "metadata": {},
     "source": [
      "We call an <b> object </b> an <b> instance </b> of a certain <b> class </b>. \n",
      "\n",
      "Each class (alien) has its <b>class variables</b> (appearance) that everyone in their class share with the same value. \n",
      "\n",
      "Each instance of a class (an object like ET,Alf or Yoda) has unique values for their <b>instance variables</b> (color, planet and head)\n",
      "\n",
      "It is better to define the variables when creating the class to avoid a mess. Whenever we define a new object using a class, the function \"def __init__\" is called. We use the variable \"<b>self</b>\" to make sure we are refering to the instance variables specific to each object. "
     ]
    },
    {
     "cell_type": "markdown",
     "metadata": {},
     "source": [
      "## Lets be more careful and add some complexity to our previous example:"
     ]
    },
    {
     "cell_type": "code",
     "collapsed": false,
     "input": [
      "# Second version of the alien class\n",
      "class alienV2(object):\n",
      "    # Class variable\n",
      "    number = 0\n",
      "    \n",
      "    # Initialization function\n",
      "    def __init__(self, name, color, planet, head):\n",
      "        # Instance variables\n",
      "        self.name = name\n",
      "        self.color = color\n",
      "        self.planet = planet\n",
      "        self.head = head\n",
      "        alienV2.number += 1\n",
      "    \n",
      "    # A class function\n",
      "    def speak(self):\n",
      "        print('My name is ' + self.name + ' from the planet ' + self.planet + '; my head is '\n",
      "              + self.head + ', and my skin gets more and more ' + self.color + \n",
      "               ' when I tan in the sun. There are other ' + str(alienV2.number -1) + ' aliens like me hiding in this code.')\n",
      "        print(' ')"
     ],
     "language": "python",
     "metadata": {},
     "outputs": [],
     "prompt_number": 7
    },
    {
     "cell_type": "markdown",
     "metadata": {},
     "source": [
      "We can also define all the instance variables at the moment we create the object:"
     ]
    },
    {
     "cell_type": "code",
     "collapsed": false,
     "input": [
      "alien_1 = alienV2('ET','red','Mars','big')\n",
      "alien_2 = alienV2('Alf','yellow','Melmac','funny with an elephant trompe')\n",
      "alien_3 = alienV2('Yoda','green','Jupitron','wrinkled with long hairy ears') "
     ],
     "language": "python",
     "metadata": {},
     "outputs": [],
     "prompt_number": 8
    },
    {
     "cell_type": "markdown",
     "metadata": {},
     "source": [
      "We can also define actions or functions within the class. For instance, we can make our aliens introduce themselves:"
     ]
    },
    {
     "cell_type": "code",
     "collapsed": false,
     "input": [
      "alien_3.speak()"
     ],
     "language": "python",
     "metadata": {},
     "outputs": [
      {
       "output_type": "stream",
       "stream": "stdout",
       "text": [
        "My name is Yoda from the planet Jupitron; my head is wrinkled with long hairy ears, and my skin gets more and more green when I tan in the sun. There are other 2 aliens like me hiding in this code.\n",
        " \n"
       ]
      }
     ],
     "prompt_number": 9
    },
    {
     "cell_type": "markdown",
     "metadata": {},
     "source": [
      "### We can also define an array of objects: <!-- Other possibility: [ alien('','','','') for i in range(3)]-->"
     ]
    },
    {
     "cell_type": "code",
     "collapsed": false,
     "input": [
      "alienV2.number = 0\n",
      "alien_list = [] \n",
      "alien_list.append(alienV2('ET','red','Mars','big'))\n",
      "alien_list.append(alienV2('Alf','yellow','Melmac','funny with like an elephant trompe'))\n",
      "alien_list.append(alienV2('Yoda','green','Jupitron','wrinkled with long hairy ears'))"
     ],
     "language": "python",
     "metadata": {},
     "outputs": [],
     "prompt_number": 10
    },
    {
     "cell_type": "code",
     "collapsed": false,
     "input": [
      "for i in range(len(alien_list)):\n",
      "    alien_list[i].speak()"
     ],
     "language": "python",
     "metadata": {},
     "outputs": [
      {
       "output_type": "stream",
       "stream": "stdout",
       "text": [
        "My name is ET from the planet Mars; my head is big, and my skin gets more and more red when I tan in the sun. There are other 2 aliens like me hiding in this code.\n",
        " \n",
        "My name is Alf from the planet Melmac; my head is funny with like an elephant trompe, and my skin gets more and more yellow when I tan in the sun. There are other 2 aliens like me hiding in this code.\n",
        " \n",
        "My name is Yoda from the planet Jupitron; my head is wrinkled with long hairy ears, and my skin gets more and more green when I tan in the sun. There are other 2 aliens like me hiding in this code.\n",
        " \n"
       ]
      }
     ],
     "prompt_number": 11
    },
    {
     "cell_type": "markdown",
     "metadata": {},
     "source": [
      "##Excercise:\n",
      "1. Create your own class with several instance variables and one class variable\n",
      "2. Add a function/action to your class\n",
      "3. Create an array of objects that are instances of your new class\n",
      "\n",
      "You can use the following template:"
     ]
    },
    {
     "cell_type": "code",
     "collapsed": false,
     "input": [
      "class your_class(object):\n",
      "    # Class variables here\n",
      "    \n",
      "    def __init__(self,instance_var):\n",
      "        # Instance variables here (and in the init function)\n",
      "        self.instance_var = instance_var\n",
      "    \n",
      "    # Define a functon or action for your object\n",
      "    def action(self):\n",
      "        # Do something, like:\n",
      "        self.instance_var = 0"
     ],
     "language": "python",
     "metadata": {},
     "outputs": [],
     "prompt_number": 12
    },
    {
     "cell_type": "markdown",
     "metadata": {},
     "source": [
      "# 3. INHERITANCE"
     ]
    },
    {
     "cell_type": "markdown",
     "metadata": {},
     "source": [
      "If we want to extend the functionality of a class, we have a three possibilities: modify the class, rewrite the class or use class inheritance. If we modify the class, we will have to modify all the code that calls this class; rewriting the class seems to be a waste of time, since most of the functionality might already be there. The best choice is to use clas inheritance, which follows this structure: "
     ]
    },
    {
     "cell_type": "raw",
     "metadata": {},
     "source": [
      "#define child class\n",
      "class child_class(parent_class):\n",
      "   # initialization is not neccesary\n",
      "   def __init__(self):\n",
      "      print \"Calling child constructor\"\n",
      "\n",
      "   def childMethod(self):\n",
      "      print 'Calling child method'"
     ]
    },
    {
     "cell_type": "code",
     "collapsed": false,
     "input": [
      "# Define a child class that has alienV2 as parent class\n",
      "%pylab inline\n",
      "from IPython.display import Image\n",
      "\n",
      "class alien_interactive(alienV2):\n",
      "    \n",
      "    # Initialize child class function \n",
      "    def __init__(self, imgsrc, name, color, planet, head):\n",
      "        super(alien_interactive, self).__init__(name, color, planet, head)\n",
      "        self.imgsrc = imgsrc \n",
      "   \n",
      "    def show_yourself(self):\n",
      "        img = Image(filename=self.imgsrc)\n",
      "        display(img)\n",
      "        self.speak()"
     ],
     "language": "python",
     "metadata": {},
     "outputs": [
      {
       "output_type": "stream",
       "stream": "stdout",
       "text": [
        "Populating the interactive namespace from numpy and matplotlib\n"
       ]
      }
     ],
     "prompt_number": 13
    },
    {
     "cell_type": "code",
     "collapsed": false,
     "input": [
      "alien_list = []\n",
      "alienV2.number = 0 # Note it's not alien_interactive.number\n",
      "alien_list.append(alien_interactive('images/ET.jpg','ET','red','Mars','big'))\n",
      "alien_list.append(alien_interactive('images/Alf.jpg','Alf','yellow','Melmac','funny with like an elephant trompe'))\n",
      "alien_list.append(alien_interactive('images/yoda.jpg','Yoda','green','Jupitron','wrinkled with long hairy ears'))"
     ],
     "language": "python",
     "metadata": {},
     "outputs": [],
     "prompt_number": 14
    },
    {
     "cell_type": "code",
     "collapsed": false,
     "input": [
      "alien_list[1].show_yourself()"
     ],
     "language": "python",
     "metadata": {},
     "outputs": [
      {
       "jpeg": "[encoded data removed]",
       "metadata": {},
       "output_type": "display_data",
       "text": [
        "<IPython.core.display.Image at 0x1025932d0>"
       ]
      },
      {
       "output_type": "stream",
       "stream": "stdout",
       "text": [
        "My name is Alf from the planet Melmac; my head is funny with like an elephant trompe, and my skin gets more and more yellow when I tan in the sun. There are other 2 aliens like me hiding in this code.\n",
        " \n"
       ]
      }
     ],
     "prompt_number": 15
    },
    {
     "cell_type": "code",
     "collapsed": false,
     "input": [
      "from IPython.html.widgets import interact\n",
      "\n",
      "def show_interactive(alien_number):\n",
      "    alien_list[alien_number].show_yourself()\n",
      "\n",
      "interact(show_interactive, alien_number=(0,2));"
     ],
     "language": "python",
     "metadata": {},
     "outputs": [
      {
       "jpeg": "[encoded data removed]",
       "metadata": {},
       "output_type": "display_data",
       "text": [
        "<IPython.core.display.Image at 0x1064a2f50>"
       ]
      },
      {
       "output_type": "stream",
       "stream": "stdout",
       "text": [
        "My name is Alf from the planet Melmac; my head is funny with like an elephant trompe, and my skin gets more and more yellow when I tan in the sun. There are other 2 aliens like me hiding in this code.\n",
        " \n"
       ]
      }
     ],
     "prompt_number": 16
    },
    {
     "cell_type": "markdown",
     "metadata": {},
     "source": [
      "## Excercise:\n",
      "1. Creata a child class from the class you created before\n",
      "2. Add new instance variables and a new function\n",
      "3. Create an array of objects with: \"<b>[ your_class_child(instance_variables) for i in range(3)] </b>\"\n",
      "\n",
      "You can use the following template\n",
      "\n"
     ]
    },
    {
     "cell_type": "code",
     "collapsed": false,
     "input": [
      "class your_class_child(your_class):\n",
      "    \n",
      "    # Initialize child class function \n",
      "    def __init__(self, child_instance_variable, parent_instance_variable):\n",
      "        super(your_class_child, self).__init__(parent_instance_variable)\n",
      "        # Define child instance variables\n",
      "        self.child_instance_variable = child_instance_variable\n",
      "    \n",
      "    # Add an action unique to the child class\n",
      "    def child_action(self):\n",
      "        # Do something, like\n",
      "        self.child_instance_variable = 0"
     ],
     "language": "python",
     "metadata": {},
     "outputs": [],
     "prompt_number": 17
    },
    {
     "cell_type": "markdown",
     "metadata": {},
     "source": [
      "# 4. WHAT ARE &#42;args AND &#42;&#42;kwargs?\n",
      "This two commands are very useful when it comes to object oriented programming; however, they don't have to be neccesarily used in the context of object oriented programming. We can also used them when calling a function or other situations. Here we will cover a couple of examples in object oriented programming."
     ]
    },
    {
     "cell_type": "markdown",
     "metadata": {},
     "source": [
      "## <b>&#42;args</b>:\n",
      "The argument <b>&#42;args</b> let you pass an arbitrary number of arguments to your function. This is particularly useful, when you want to inherit from a parent class without knowing too much about it. For instance, lets make another child class of <b>alienV2</b> with the same functionality as before, bu this time we will use <b>&#42;args</b>."
     ]
    },
    {
     "cell_type": "code",
     "collapsed": false,
     "input": [
      "# Define a child class that has alienV2 as parent class\n",
      "class alien_interactiveV2(alienV2):\n",
      "    \n",
      "    # Initialize child class function \n",
      "    def __init__(self, imgsrc,*args):\n",
      "        super(alien_interactiveV2, self).__init__(*args)\n",
      "        self.imgsrc = imgsrc \n",
      "        \n",
      "    def show_yourself(self):\n",
      "        try:\n",
      "            img = Image(filename=self.imgsrc)\n",
      "        except:\n",
      "            img = Image(url=self.imgsrc)\n",
      "        display(img)\n",
      "        self.speak()"
     ],
     "language": "python",
     "metadata": {},
     "outputs": [],
     "prompt_number": 18
    },
    {
     "cell_type": "code",
     "collapsed": false,
     "input": [
      "alien_list.append(alien_interactiveV2('http://tinyurl.com/mnwj7wj','Ridley Scott','white','LV223','voluptuous'))\n",
      "interact(show_interactive, alien_number=(0,3));"
     ],
     "language": "python",
     "metadata": {},
     "outputs": [
      {
       "jpeg": "[encoded data removed]",
       "metadata": {},
       "output_type": "display_data",
       "text": [
        "<IPython.core.display.Image at 0x1064b60d0>"
       ]
      },
      {
       "output_type": "stream",
       "stream": "stdout",
       "text": [
        "My name is Alf from the planet Melmac; my head is funny with like an elephant trompe, and my skin gets more and more yellow when I tan in the sun. There are other 3 aliens like me hiding in this code.\n",
        " \n"
       ]
      }
     ],
     "prompt_number": 19
    },
    {
     "cell_type": "markdown",
     "metadata": {},
     "source": [
      "## <b>&#42;&#42;kwargs</b>:\n",
      "The argument <b>&#42;&#42;kwargs</b> let you pass a dictionary to your function. This is particularly useful, when you want to write into specific instance variables of your parent class without knowing too much about it, nor the order you have to pass them. For instance, lets make another child class of <b>alienV2</b> with the same functionality as before, bu this time we will use <b>&#42;&#42;kwargs</b> and <b>&#42;args</b>."
     ]
    },
    {
     "cell_type": "code",
     "collapsed": false,
     "input": [
      "# Define a child class that has alienV2 as parent class\n",
      "class alien_interactiveV3(alienV2):\n",
      "    \n",
      "    # Initialize child class function \n",
      "    def __init__(self, *args,**kwargs):\n",
      "        super(alien_interactiveV3, self).__init__(**kwargs)\n",
      "        self.imgsrc = args[0] \n",
      "        \n",
      "    def show_yourself(self):\n",
      "        try:\n",
      "            img = Image(filename=self.imgsrc)\n",
      "        except:\n",
      "            img = Image(url=self.imgsrc)\n",
      "        display(img)\n",
      "        self.speak()"
     ],
     "language": "python",
     "metadata": {},
     "outputs": [],
     "prompt_number": 20
    },
    {
     "cell_type": "code",
     "collapsed": false,
     "input": [
      "characteristics = {'head':\"like Homer Simpson's with tentacles\",\n",
      "                   'name':'Zoidberg', \n",
      "                   'color':'pink', \n",
      "                   'planet':' Decapod 10'}\n",
      "alien_list.append(alien_interactiveV3('http://tinyurl.com/ngdd6ul',**characteristics))\n",
      "interact(show_interactive, alien_number=(0,4));\n"
     ],
     "language": "python",
     "metadata": {},
     "outputs": [
      {
       "html": [
        "<img src=\"http://tinyurl.com/ngdd6ul\"/>"
       ],
       "metadata": {},
       "output_type": "display_data",
       "text": [
        "<IPython.core.display.Image at 0x1064b6590>"
       ]
      },
      {
       "output_type": "stream",
       "stream": "stdout",
       "text": [
        "My name is Zoidberg from the planet  Decapod 10; my head is like Homer Simpson's with tentacles, and my skin gets more and more pink when I tan in the sun. There are other 4 aliens like me hiding in this code.\n",
        " \n"
       ]
      }
     ],
     "prompt_number": 21
    },
    {
     "cell_type": "markdown",
     "metadata": {},
     "source": [
      "## Excercise:\n",
      "1. Create a <b>new</b> child class from the class you created before\n",
      "2. Use <b>&#42;args</b> and <b>&#42;&#42;kwargs</b> to simplify the code\n",
      "3. Add an object to your array of objects using this new class"
     ]
    },
    {
     "cell_type": "markdown",
     "metadata": {},
     "source": [
      "# 5. FINAL NOTES\n",
      "Everything in python is an object"
     ]
    },
    {
     "cell_type": "code",
     "collapsed": false,
     "input": [
      "txt = 'my name is Zoidberg'"
     ],
     "language": "python",
     "metadata": {},
     "outputs": [],
     "prompt_number": 22
    },
    {
     "cell_type": "code",
     "collapsed": false,
     "input": [
      "txt"
     ],
     "language": "python",
     "metadata": {},
     "outputs": [
      {
       "metadata": {},
       "output_type": "pyout",
       "prompt_number": 23,
       "text": [
        "'my name is Zoidberg'"
       ]
      }
     ],
     "prompt_number": 23
    },
    {
     "cell_type": "code",
     "collapsed": false,
     "input": [
      "txt.upper()"
     ],
     "language": "python",
     "metadata": {},
     "outputs": [
      {
       "metadata": {},
       "output_type": "pyout",
       "prompt_number": 24,
       "text": [
        "'MY NAME IS ZOIDBERG'"
       ]
      }
     ],
     "prompt_number": 24
    },
    {
     "cell_type": "markdown",
     "metadata": {},
     "source": [
      "Loades modules like numpy, scipy, matplotlib, etc... are objets..."
     ]
    },
    {
     "cell_type": "code",
     "collapsed": false,
     "input": [
      "import numpy as np"
     ],
     "language": "python",
     "metadata": {},
     "outputs": [],
     "prompt_number": 25
    },
    {
     "cell_type": "code",
     "collapsed": false,
     "input": [
      "np.__name__"
     ],
     "language": "python",
     "metadata": {},
     "outputs": [
      {
       "metadata": {},
       "output_type": "pyout",
       "prompt_number": 26,
       "text": [
        "'numpy'"
       ]
      }
     ],
     "prompt_number": 26
    },
    {
     "cell_type": "code",
     "collapsed": false,
     "input": [
      "np.__class__"
     ],
     "language": "python",
     "metadata": {},
     "outputs": [
      {
       "metadata": {},
       "output_type": "pyout",
       "prompt_number": 27,
       "text": [
        "module"
       ]
      }
     ],
     "prompt_number": 27
    },
    {
     "cell_type": "markdown",
     "metadata": {},
     "source": [
      "Write np. and then press tab..."
     ]
    },
    {
     "cell_type": "code",
     "collapsed": false,
     "input": [
      "np."
     ],
     "language": "python",
     "metadata": {},
     "outputs": [
      {
       "ename": "SyntaxError",
       "evalue": "invalid syntax (<ipython-input-28-a58a88215da2>, line 1)",
       "output_type": "pyerr",
       "traceback": [
        "\u001b[0;36m  File \u001b[0;32m\"<ipython-input-28-a58a88215da2>\"\u001b[0;36m, line \u001b[0;32m1\u001b[0m\n\u001b[0;31m    np.\u001b[0m\n\u001b[0m       ^\u001b[0m\n\u001b[0;31mSyntaxError\u001b[0m\u001b[0;31m:\u001b[0m invalid syntax\n"
       ]
      }
     ],
     "prompt_number": 28
    },
    {
     "cell_type": "markdown",
     "metadata": {},
     "source": [
      "### Yesss! Classes can get very complicated, and that's why inheritance is very useful!!!\n",
      "For some more advance applications, also check \"polymorphism\".\n",
      "\n",
      "Although, the examples presented in this notebook seem dumb; they provide all the core understanding of object oriented programming required to do scientific computing.\n",
      "\n",
      "<b> Some ideas of interesting applications in scientific computing: </b>\n",
      "- Simple and efficient use of complicated data structures: np.array, graphs or networks (neighbors and connectivity like instance variables ).\n",
      "- Defining operations and/or algorithms in arbitrary data structures (sparse matrix vs non-sparse).\n",
      "- Stochastic simulations of jump processes.\n",
      "- Many, many, many others...\n"
     ]
    },
    {
     "cell_type": "markdown",
     "metadata": {},
     "source": [
      "# 6. ASSIGNMENT: AN INTEGRATOR PARENT\n",
      "1 Create a function <b> func </b> for the function $f(x) = sin(x)$.\n",
      "\n",
      "2 A template of the parent class integrator is provided. This class will have all the common functionality to integrate a function <b> f </b> in the interval <b>[a,b]</b>. However, the method of integration is not yet providednor the integration function. Read carefully the template, note the method of integration is not defined:"
     ]
    },
    {
     "cell_type": "code",
     "collapsed": false,
     "input": [
      "class Integrator:\n",
      "    def __init__(self, a, b, n):\n",
      "        self.a, self.b, self.n = a, b, n\n",
      "        self.points, self.weights = self.method()\n",
      "        \n",
      "    def method(self):\n",
      "        raise NotImplementedError('no rule in class %s' %self.__class__.__name__)"
     ],
     "language": "python",
     "metadata": {},
     "outputs": []
    },
    {
     "cell_type": "markdown",
     "metadata": {},
     "source": [
      " 3 Add an additional function called <b> integrate(self,func) </b> inside the class Integrator, which calculates the integral from the weigths $w_i$: <b>self.weights</b> at different points x_i:<b>self.points</b>. Note this should be arrays. The integral is calculated as\n",
      "\n",
      "$$\n",
      "\\int_a^b f(x) dx = \\sum_{i=0}^{n-1} w_i f(x_i)\n",
      "$$\n",
      "\n",
      "4 Create a child class of Integrator called <b> Trapezoidal</b>, where you define a function called <b>method(self)</b>.\n",
      "This function should return two arrays: <b> x </b> and <b> w </b> corresponding to the points and their current weights.This should be the values correponding to the trapezoidal rule for integration. If you are not familiar with it, you can look for it online\n",
      "\n",
      "5 Create a child class of Integrator called <b> Midpoint</b>. It should do the same as <b> Trapezoidal</b> but employing the midpoint method for numerical integration.\n",
      "\n",
      "6 Create a separate function of x that plots\n",
      "$\n",
      "\\int_0^x sin(x) dx = 1 - cos(x),\n",
      "$\n",
      "using any of the two methods you developed."
     ]
    },
    {
     "cell_type": "code",
     "collapsed": false,
     "input": [],
     "language": "python",
     "metadata": {},
     "outputs": []
    }
   ],
   "metadata": {}
  }
 ]
}