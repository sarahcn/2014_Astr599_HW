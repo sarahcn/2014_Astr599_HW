{
 "metadata": {
  "celltoolbar": "Slideshow",
  "name": "",
  "signature": "sha256:b2d94bd380d7123721d4f937e81decd2ba48a529abb38b257c27701bd343c5e2"
 },
 "nbformat": 3,
 "nbformat_minor": 0,
 "worksheets": [
  {
   "cells": [
    {
     "cell_type": "markdown",
     "metadata": {},
     "source": [
      "<small><i>This notebook was put together by [Jake Vanderplas](http://www.vanderplas.com) for UW's [Astro 599](http://www.astro.washington.edu/users/vanderplas/Astr599_2014/) course. Source and license info is on [GitHub](https://github.com/jakevdp/2014_fall_ASTR599/).</i></small>"
     ]
    },
    {
     "cell_type": "code",
     "collapsed": false,
     "input": [
      "%run talktools.py"
     ],
     "language": "python",
     "metadata": {},
     "outputs": [
      {
       "html": [
        "<style>\n",
        "div.cell, div.text_cell_render{\n",
        "  max-width:750px;\n",
        "  margin-left:auto;\n",
        "  margin-right:auto;\n",
        "}\n",
        "\n",
        ".rendered_html\n",
        "{\n",
        "  font-size: 140%;\n",
        "  }\n",
        "\n",
        ".rendered_html li\n",
        "{\n",
        "  line-height: 1.8;\n",
        "  }\n",
        "\n",
        ".rendered_html h1, h2 {\n",
        "  text-align:center;\n",
        "  font-familly:\"Charis SIL\", serif;\n",
        "}\n",
        "</style>"
       ],
       "metadata": {},
       "output_type": "display_data",
       "text": [
        "<IPython.core.display.HTML at 0x102298f50>"
       ]
      }
     ],
     "prompt_number": 1
    },
    {
     "cell_type": "markdown",
     "metadata": {
      "slideshow": {
       "slide_type": "slide"
      }
     },
     "source": [
      "# IPython: an enviromnent for interactive computing"
     ]
    },
    {
     "cell_type": "markdown",
     "metadata": {
      "slideshow": {
       "slide_type": "fragment"
      }
     },
     "source": [
      "## What is IPython?\n",
      "\n",
      "- Short for *I*nteractive *Python*\n",
      "- A platform for you to *interact* with your code and data\n",
      "- The *notebook*: a system for *literate computing*\n",
      "  * The combination of narrative, code and results\n",
      "  * Weave your scientific narratives together with your computational process\n",
      "- Tools for easy parallel computing\n",
      "  * Interact with *many* processes"
     ]
    },
    {
     "cell_type": "heading",
     "level": 1,
     "metadata": {
      "slideshow": {
       "slide_type": "slide"
      }
     },
     "source": [
      "IPython at the terminal"
     ]
    },
    {
     "cell_type": "markdown",
     "metadata": {
      "slideshow": {
       "slide_type": "fragment"
      }
     },
     "source": [
      "The basic IPython client: at the terminal, simply type `ipython`:\n",
      "\n",
      "    $ ipython\n",
      "    Python 2.7.4 (default, Apr 19 2013, 18:28:01) \n",
      "    Type \"copyright\", \"credits\" or \"license\" for more information.\n",
      "    \n",
      "    IPython 1.0.0 -- An enhanced Interactive Python.\n",
      "    ?         -> Introduction and overview of IPython's features.\n",
      "    %quickref -> Quick reference.\n",
      "    help      -> Python's own help system.\n",
      "    object?   -> Details about 'object', use 'object??' for extra details.\n",
      "    \n",
      "    In [1]: print \"hello world\"\n",
      "    hello world\n"
     ]
    },
    {
     "cell_type": "markdown",
     "metadata": {
      "slideshow": {
       "slide_type": "slide"
      }
     },
     "source": [
      "# The IPython book\n",
      "\n",
      "<center>\n",
      "<h2>Also introduces Numpy, Pandas and Matplotlib</h2>\n",
      "\n",
      "<a href=\"http://www.packtpub.com/learning-ipython-for-interactive-computing-and-data-visualization/book\" target=\"_blank\"><img src=\"files/images/ipython-book.png\"></a>\n",
      "</center>"
     ]
    },
    {
     "cell_type": "markdown",
     "metadata": {
      "slideshow": {
       "slide_type": "slide"
      }
     },
     "source": [
      "# Some other tutorial help/resources :\n",
      "\n",
      "   - The [IPython website](http://ipython.org)\n",
      "   - Search for \"IPython in depth\" tutorial on youtube and pyvideo, much longer, much deeper\n",
      "   - Ask for help on [Stackoverflow, tag it \"ipython\"](http://stackoverflow.com/questions/tagged/ipython)\n",
      "   - [Mailing list](http://mail.scipy.org/mailman/listinfo/ipython-dev)\n",
      "   - File a [github issue](http://github.com/ipython/ipython)\n",
      "   - [Twitter](https://twitter.com/IPythonDev)\n",
      "   - [Reddit](http://www.reddit.com/r/IPython)\n",
      "   - [Notebook Gallery](https://github.com/ipython/ipython/wiki/A-gallery-of-interesting-IPython-Notebooks)\n",
      "     - full books"
     ]
    },
    {
     "cell_type": "heading",
     "level": 1,
     "metadata": {
      "slideshow": {
       "slide_type": "slide"
      }
     },
     "source": [
      "IPython: beyond plain Python"
     ]
    },
    {
     "cell_type": "markdown",
     "metadata": {
      "slideshow": {
       "slide_type": "fragment"
      }
     },
     "source": [
      "When executing code in IPython, all valid Python syntax works as-is, but IPython provides a number of features designed to make the interactive experience more fluid and efficient."
     ]
    },
    {
     "cell_type": "heading",
     "level": 2,
     "metadata": {
      "slideshow": {
       "slide_type": "slide"
      }
     },
     "source": [
      "First things first: running code, getting help"
     ]
    },
    {
     "cell_type": "markdown",
     "metadata": {
      "slideshow": {
       "slide_type": "fragment"
      }
     },
     "source": [
      "In the notebook, to run a cell of code, hit `Shift-Enter`. This executes the cell and puts the cursor in the next cell below, or makes a new one if you are at the end.  Alternately, you can use:\n",
      "    \n",
      "- `Alt-Enter` to force the creation of a new cell unconditionally (useful when inserting new content in the middle of an existing notebook).\n",
      "- `Control-Enter` executes the cell and keeps the cursor in the same cell, useful for quick experimentation of snippets that you don't need to keep permanently."
     ]
    },
    {
     "cell_type": "code",
     "collapsed": false,
     "input": [
      "print(\"Hello\")"
     ],
     "language": "python",
     "metadata": {
      "slideshow": {
       "slide_type": "fragment"
      }
     },
     "outputs": [
      {
       "output_type": "stream",
       "stream": "stdout",
       "text": [
        "Hello\n"
       ]
      }
     ],
     "prompt_number": 2
    },
    {
     "cell_type": "markdown",
     "metadata": {
      "slideshow": {
       "slide_type": "fragment"
      }
     },
     "source": [
      "<!-- Sigil for slide mode, remove later once we fix transitions limitation -->"
     ]
    },
    {
     "cell_type": "markdown",
     "metadata": {
      "slideshow": {
       "slide_type": "slide"
      }
     },
     "source": [
      "## Getting help"
     ]
    },
    {
     "cell_type": "code",
     "collapsed": false,
     "input": [
      "?"
     ],
     "language": "python",
     "metadata": {
      "slideshow": {
       "slide_type": "fragment"
      }
     },
     "outputs": [],
     "prompt_number": 3
    },
    {
     "cell_type": "markdown",
     "metadata": {
      "slideshow": {
       "slide_type": "fragment"
      }
     },
     "source": [
      "<!-- Sigil for slide mode, remove later once we fix transitions limitation -->"
     ]
    },
    {
     "cell_type": "markdown",
     "metadata": {
      "slideshow": {
       "slide_type": "slide"
      }
     },
     "source": [
      "## Help with `?` and `??`\n",
      "\n",
      "Typing `object_name?` will print all sorts of details about any object, including docstrings, function definition lines (for call arguments) and constructor details for classes."
     ]
    },
    {
     "cell_type": "code",
     "collapsed": false,
     "input": [
      "import collections\n",
      "collections.namedtuple?"
     ],
     "language": "python",
     "metadata": {
      "slideshow": {
       "slide_type": "fragment"
      }
     },
     "outputs": [],
     "prompt_number": 4
    },
    {
     "cell_type": "code",
     "collapsed": false,
     "input": [
      "collections.Counter??"
     ],
     "language": "python",
     "metadata": {
      "slideshow": {
       "slide_type": "fragment"
      }
     },
     "outputs": [],
     "prompt_number": 5
    },
    {
     "cell_type": "code",
     "collapsed": false,
     "input": [
      "*int*?"
     ],
     "language": "python",
     "metadata": {
      "slideshow": {
       "slide_type": "fragment"
      }
     },
     "outputs": [],
     "prompt_number": 6
    },
    {
     "cell_type": "markdown",
     "metadata": {
      "slideshow": {
       "slide_type": "fragment"
      }
     },
     "source": [
      "<!-- Sigil for slide mode, remove later once we fix transitions limitation -->"
     ]
    },
    {
     "cell_type": "markdown",
     "metadata": {
      "slideshow": {
       "slide_type": "slide"
      }
     },
     "source": [
      "An IPython quick reference card:"
     ]
    },
    {
     "cell_type": "code",
     "collapsed": false,
     "input": [
      "%quickref"
     ],
     "language": "python",
     "metadata": {
      "slideshow": {
       "slide_type": "fragment"
      }
     },
     "outputs": [],
     "prompt_number": 7
    },
    {
     "cell_type": "markdown",
     "metadata": {
      "slideshow": {
       "slide_type": "fragment"
      }
     },
     "source": [
      "<!-- Sigil for slide mode, remove later once we fix transitions limitation -->"
     ]
    },
    {
     "cell_type": "heading",
     "level": 2,
     "metadata": {
      "slideshow": {
       "slide_type": "slide"
      }
     },
     "source": [
      "Tab completion"
     ]
    },
    {
     "cell_type": "markdown",
     "metadata": {},
     "source": [
      "Tab completion, especially for attributes, is a convenient way to explore the structure of any object you\u2019re dealing with. Simply type `object_name.<TAB>` to view the object\u2019s attributes. Besides Python objects and keywords, tab completion also works on file and directory names."
     ]
    },
    {
     "cell_type": "code",
     "collapsed": false,
     "input": [
      "collections."
     ],
     "language": "python",
     "metadata": {
      "slideshow": {
       "slide_type": "fragment"
      }
     },
     "outputs": [
      {
       "ename": "SyntaxError",
       "evalue": "invalid syntax (<ipython-input-8-7ca0d153ae00>, line 1)",
       "output_type": "pyerr",
       "traceback": [
        "\u001b[0;36m  File \u001b[0;32m\"<ipython-input-8-7ca0d153ae00>\"\u001b[0;36m, line \u001b[0;32m1\u001b[0m\n\u001b[0;31m    collections.\u001b[0m\n\u001b[0m                ^\u001b[0m\n\u001b[0;31mSyntaxError\u001b[0m\u001b[0;31m:\u001b[0m invalid syntax\n"
       ]
      }
     ],
     "prompt_number": 8
    },
    {
     "cell_type": "markdown",
     "metadata": {
      "slideshow": {
       "slide_type": "fragment"
      }
     },
     "source": [
      "<!-- Sigil for slide mode, remove later once we fix transitions limitation -->"
     ]
    },
    {
     "cell_type": "heading",
     "level": 2,
     "metadata": {
      "slideshow": {
       "slide_type": "slide"
      }
     },
     "source": [
      "The interactive workflow: input, output, history"
     ]
    },
    {
     "cell_type": "code",
     "collapsed": false,
     "input": [
      "2+10"
     ],
     "language": "python",
     "metadata": {
      "slideshow": {
       "slide_type": "fragment"
      }
     },
     "outputs": [
      {
       "metadata": {},
       "output_type": "pyout",
       "prompt_number": 9,
       "text": [
        "12"
       ]
      }
     ],
     "prompt_number": 9
    },
    {
     "cell_type": "code",
     "collapsed": false,
     "input": [
      "_+10"
     ],
     "language": "python",
     "metadata": {
      "slideshow": {
       "slide_type": "fragment"
      }
     },
     "outputs": [
      {
       "metadata": {},
       "output_type": "pyout",
       "prompt_number": 10,
       "text": [
        "22"
       ]
      }
     ],
     "prompt_number": 10
    },
    {
     "cell_type": "markdown",
     "metadata": {
      "slideshow": {
       "slide_type": "fragment"
      }
     },
     "source": [
      "<!-- Sigil for slide mode, remove later once we fix transitions limitation -->"
     ]
    },
    {
     "cell_type": "markdown",
     "metadata": {
      "slideshow": {
       "slide_type": "slide"
      }
     },
     "source": [
      "## Output control\n",
      "\n",
      "You can suppress the storage and rendering of output if you append `;` to the last cell (this comes in handy when plotting with matplotlib, for example):"
     ]
    },
    {
     "cell_type": "code",
     "collapsed": false,
     "input": [
      "10+20;"
     ],
     "language": "python",
     "metadata": {
      "slideshow": {
       "slide_type": "fragment"
      }
     },
     "outputs": [],
     "prompt_number": 11
    },
    {
     "cell_type": "code",
     "collapsed": false,
     "input": [
      "_"
     ],
     "language": "python",
     "metadata": {
      "slideshow": {
       "slide_type": "fragment"
      }
     },
     "outputs": [
      {
       "metadata": {},
       "output_type": "pyout",
       "prompt_number": 12,
       "text": [
        "22"
       ]
      }
     ],
     "prompt_number": 12
    },
    {
     "cell_type": "markdown",
     "metadata": {
      "slideshow": {
       "slide_type": "fragment"
      }
     },
     "source": [
      "<!-- Sigil for slide mode, remove later once we fix transitions limitation -->"
     ]
    },
    {
     "cell_type": "markdown",
     "metadata": {
      "slideshow": {
       "slide_type": "slide"
      }
     },
     "source": [
      "## Output history\n",
      "\n",
      "The output is stored in `_N` and `Out[N]` variables:"
     ]
    },
    {
     "cell_type": "code",
     "collapsed": false,
     "input": [
      "_10 == Out[10]"
     ],
     "language": "python",
     "metadata": {
      "slideshow": {
       "slide_type": "fragment"
      }
     },
     "outputs": [
      {
       "metadata": {},
       "output_type": "pyout",
       "prompt_number": 13,
       "text": [
        "True"
       ]
      }
     ],
     "prompt_number": 13
    },
    {
     "cell_type": "code",
     "collapsed": false,
     "input": [
      "Out"
     ],
     "language": "python",
     "metadata": {},
     "outputs": [
      {
       "metadata": {},
       "output_type": "pyout",
       "prompt_number": 14,
       "text": [
        "{9: 12, 10: 22, 12: 22, 13: True}"
       ]
      }
     ],
     "prompt_number": 14
    },
    {
     "cell_type": "markdown",
     "metadata": {
      "slideshow": {
       "slide_type": "fragment"
      }
     },
     "source": [
      "<!-- Sigil for slide mode, remove later once we fix transitions limitation -->"
     ]
    },
    {
     "cell_type": "markdown",
     "metadata": {
      "slideshow": {
       "slide_type": "slide"
      }
     },
     "source": [
      "And the last three have shorthands for convenience:"
     ]
    },
    {
     "cell_type": "code",
     "collapsed": false,
     "input": [
      "print('last output:', _)\n",
      "print('next one   :', __)\n",
      "print('and next   :', ___)"
     ],
     "language": "python",
     "metadata": {
      "slideshow": {
       "slide_type": "fragment"
      }
     },
     "outputs": [
      {
       "output_type": "stream",
       "stream": "stdout",
       "text": [
        "last output: True\n",
        "next one   : 22\n",
        "and next   : 22\n"
       ]
      }
     ],
     "prompt_number": 16
    },
    {
     "cell_type": "markdown",
     "metadata": {
      "slideshow": {
       "slide_type": "fragment"
      }
     },
     "source": [
      "<!-- Sigil for slide mode, remove later once we fix transitions limitation -->"
     ]
    },
    {
     "cell_type": "markdown",
     "metadata": {
      "slideshow": {
       "slide_type": "slide"
      }
     },
     "source": [
      "## The input history is also available"
     ]
    },
    {
     "cell_type": "code",
     "collapsed": false,
     "input": [
      "In[11]"
     ],
     "language": "python",
     "metadata": {
      "slideshow": {
       "slide_type": "fragment"
      }
     },
     "outputs": [
      {
       "metadata": {},
       "output_type": "pyout",
       "prompt_number": 17,
       "text": [
        "'10+20;'"
       ]
      }
     ],
     "prompt_number": 17
    },
    {
     "cell_type": "code",
     "collapsed": false,
     "input": [
      "_i"
     ],
     "language": "python",
     "metadata": {
      "slideshow": {
       "slide_type": "fragment"
      }
     },
     "outputs": [
      {
       "metadata": {},
       "output_type": "pyout",
       "prompt_number": 18,
       "text": [
        "'In[11]'"
       ]
      }
     ],
     "prompt_number": 18
    },
    {
     "cell_type": "code",
     "collapsed": false,
     "input": [
      "_ii"
     ],
     "language": "python",
     "metadata": {
      "slideshow": {
       "slide_type": "fragment"
      }
     },
     "outputs": [
      {
       "metadata": {},
       "output_type": "pyout",
       "prompt_number": 19,
       "text": [
        "'In[11]'"
       ]
      }
     ],
     "prompt_number": 19
    },
    {
     "cell_type": "code",
     "collapsed": false,
     "input": [
      "print('last input:', _i)\n",
      "print('next one  :', _ii)\n",
      "print('and next  :', _iii)"
     ],
     "language": "python",
     "metadata": {
      "slideshow": {
       "slide_type": "fragment"
      }
     },
     "outputs": [
      {
       "output_type": "stream",
       "stream": "stdout",
       "text": [
        "last input: print 'last input:', _i\n",
        "print 'next one  :', _ii\n",
        "print 'and next  :', _iii\n",
        "next one  : _ii\n",
        "and next  : _i\n"
       ]
      }
     ],
     "prompt_number": 21
    },
    {
     "cell_type": "code",
     "collapsed": false,
     "input": [
      "%history"
     ],
     "language": "python",
     "metadata": {
      "slideshow": {
       "slide_type": "fragment"
      }
     },
     "outputs": [
      {
       "output_type": "stream",
       "stream": "stdout",
       "text": [
        "%run talktools.py\n",
        "print(\"Hello\")\n",
        "?\n",
        "import collections\n",
        "collections.namedtuple?\n",
        "collections.Counter??\n",
        "*int*?\n",
        "%quickref\n",
        "collections.\n",
        "2+10\n",
        "_+10\n",
        "10+20;\n",
        "_\n",
        "_10 == Out[10]\n",
        "Out\n",
        "print 'last output:', _\n",
        "print 'next one   :', __\n",
        "print 'and next   :', ___\n",
        "print('last output:', _)\n",
        "print('next one   :', __)\n",
        "print('and next   :', ___)\n",
        "In[11]\n",
        "_i\n",
        "_ii\n",
        "print 'last input:', _i\n",
        "print 'next one  :', _ii\n",
        "print 'and next  :', _iii\n",
        "print('last input:', _i)\n",
        "print('next one  :', _ii)\n",
        "print('and next  :', _iii)\n",
        "%history\n"
       ]
      }
     ],
     "prompt_number": 22
    },
    {
     "cell_type": "markdown",
     "metadata": {
      "slideshow": {
       "slide_type": "fragment"
      }
     },
     "source": [
      "<!-- Sigil for slide mode, remove later once we fix transitions limitation -->"
     ]
    },
    {
     "cell_type": "markdown",
     "metadata": {
      "slideshow": {
       "slide_type": "slide"
      }
     },
     "source": [
      "# Accessing the underlying operating system\n",
      "\n",
      "**Note:** the commands below work on Linux or Macs, but may behave differently on Windows, as the underlying OS is different. IPython's ability to access the OS is still the same, it's just the syntax that varies per OS."
     ]
    },
    {
     "cell_type": "code",
     "collapsed": false,
     "input": [
      "!pwd"
     ],
     "language": "python",
     "metadata": {
      "slideshow": {
       "slide_type": "fragment"
      }
     },
     "outputs": [
      {
       "output_type": "stream",
       "stream": "stdout",
       "text": [
        "/Users/jakevdp/Opensource/2014_fall_ASTR599/notebooks\r\n"
       ]
      }
     ],
     "prompt_number": 23
    },
    {
     "cell_type": "code",
     "collapsed": false,
     "input": [
      "files = !ls\n",
      "print(\"My current directory's files:\")\n",
      "print(files)"
     ],
     "language": "python",
     "metadata": {
      "slideshow": {
       "slide_type": "fragment"
      }
     },
     "outputs": [
      {
       "output_type": "stream",
       "stream": "stdout",
       "text": [
        "My current directory's files:\n",
        "['00_intro.ipynb', '01_basic_training.ipynb', '02_advanced_data_structures.ipynb', '03_IPython_intro.ipynb', '04_Functions_and_modules.ipynb', '05_NumpyIntro.ipynb', '05_Trapezoid_Solution.ipynb', '06_Denoise_Solution.ipynb', '06_MatplotlibIntro.ipynb', '07_GitIntro.ipynb', '08_ScipyIntro.ipynb', '09_AdvancedStrings.ipynb', '10_AdvancedPython2.ipynb', '11_EfficientNumpy.ipynb', '12_AdvancedMatplotlib.ipynb', 'Untitled0.ipynb', '__pycache__', 'demo_agg_filter.py', 'fig_code', 'fig_moving_objects_multicolor.py', 'images', 'nth_fib.html', 'number_game.py', 'sankey_demo_rankine.py', 'style.css', 'talktools.py', 'vizarray.py']\n"
       ]
      }
     ],
     "prompt_number": 25
    },
    {
     "cell_type": "code",
     "collapsed": false,
     "input": [
      "!echo $files"
     ],
     "language": "python",
     "metadata": {
      "slideshow": {
       "slide_type": "fragment"
      }
     },
     "outputs": [
      {
       "output_type": "stream",
       "stream": "stdout",
       "text": [
        "[00_intro.ipynb, 01_basic_training.ipynb, 02_advanced_data_structures.ipynb, 03_IPython_intro.ipynb, 04_Functions_and_modules.ipynb, 05_NumpyIntro.ipynb, 05_Trapezoid_Solution.ipynb, 06_Denoise_Solution.ipynb, 06_MatplotlibIntro.ipynb, 07_GitIntro.ipynb, 08_ScipyIntro.ipynb, 09_AdvancedStrings.ipynb, 10_AdvancedPython2.ipynb, 11_EfficientNumpy.ipynb, 12_AdvancedMatplotlib.ipynb, Untitled0.ipynb, __pycache__, demo_agg_filter.py, fig_code, fig_moving_objects_multicolor.py, images, nth_fib.html, number_game.py, sankey_demo_rankine.py, style.css, talktools.py, vizarray.py]\r\n"
       ]
      }
     ],
     "prompt_number": 26
    },
    {
     "cell_type": "code",
     "collapsed": false,
     "input": [
      "!echo {files[0].upper()}"
     ],
     "language": "python",
     "metadata": {
      "slideshow": {
       "slide_type": "fragment"
      }
     },
     "outputs": [
      {
       "output_type": "stream",
       "stream": "stdout",
       "text": [
        "00_INTRO.IPYNB\r\n"
       ]
      }
     ],
     "prompt_number": 27
    },
    {
     "cell_type": "markdown",
     "metadata": {
      "slideshow": {
       "slide_type": "fragment"
      }
     },
     "source": [
      "<!-- Sigil for slide mode, remove later once we fix transitions limitation -->"
     ]
    },
    {
     "cell_type": "heading",
     "level": 2,
     "metadata": {
      "slideshow": {
       "slide_type": "slide"
      }
     },
     "source": [
      "Beyond Python: magic functions"
     ]
    },
    {
     "cell_type": "markdown",
     "metadata": {
      "slideshow": {
       "slide_type": "fragment"
      }
     },
     "source": [
      "The IPyhton 'magic' functions are a set of commands, invoked by prepending one or two `%` signs to their name, that live in a namespace separate from your normal Python variables and provide a more command-like interface.  They take flags with `--` and arguments without quotes, parentheses or commas. The motivation behind this system is two-fold:\n",
      "    \n",
      "- To provide an orthogonal namespace for controlling IPython itself and exposing other system-oriented functionality.\n",
      "\n",
      "- To expose a calling mode that requires minimal verbosity and typing while working interactively.  Thus the inspiration taken from the classic Unix shell style for commands."
     ]
    },
    {
     "cell_type": "code",
     "collapsed": false,
     "input": [
      "%magic"
     ],
     "language": "python",
     "metadata": {
      "slideshow": {
       "slide_type": "fragment"
      }
     },
     "outputs": [],
     "prompt_number": 28
    },
    {
     "cell_type": "markdown",
     "metadata": {
      "slideshow": {
       "slide_type": "slide"
      }
     },
     "source": [
      "Line vs cell magics:"
     ]
    },
    {
     "cell_type": "code",
     "collapsed": false,
     "input": [
      "%timeit range(10)"
     ],
     "language": "python",
     "metadata": {
      "slideshow": {
       "slide_type": "fragment"
      }
     },
     "outputs": [
      {
       "output_type": "stream",
       "stream": "stdout",
       "text": [
        "1000000 loops, best of 3: 240 ns per loop\n"
       ]
      }
     ],
     "prompt_number": 29
    },
    {
     "cell_type": "code",
     "collapsed": false,
     "input": [
      "%%timeit\n",
      "range(10)\n",
      "range(100)"
     ],
     "language": "python",
     "metadata": {
      "slideshow": {
       "slide_type": "fragment"
      }
     },
     "outputs": [
      {
       "output_type": "stream",
       "stream": "stdout",
       "text": [
        "1000000 loops, best of 3: 489 ns per loop\n"
       ]
      }
     ],
     "prompt_number": 30
    },
    {
     "cell_type": "markdown",
     "metadata": {
      "slideshow": {
       "slide_type": "fragment"
      }
     },
     "source": [
      "Line magics can be used even inside code blocks:"
     ]
    },
    {
     "cell_type": "code",
     "collapsed": false,
     "input": [
      "for i in range(5):\n",
      "    size = i*100\n",
      "    print('size:',size, end=' ')\n",
      "    %timeit range(size)"
     ],
     "language": "python",
     "metadata": {
      "slideshow": {
       "slide_type": "fragment"
      }
     },
     "outputs": [
      {
       "output_type": "stream",
       "stream": "stdout",
       "text": [
        "size: 0 10000000 loops, best of 3: 155 ns per loop"
       ]
      },
      {
       "output_type": "stream",
       "stream": "stdout",
       "text": [
        "\n",
        "size: 100 1000000 loops, best of 3: 257 ns per loop"
       ]
      },
      {
       "output_type": "stream",
       "stream": "stdout",
       "text": [
        "\n",
        "size: 200 1000000 loops, best of 3: 256 ns per loop"
       ]
      },
      {
       "output_type": "stream",
       "stream": "stdout",
       "text": [
        "\n",
        "size: 300 1000000 loops, best of 3: 281 ns per loop"
       ]
      },
      {
       "output_type": "stream",
       "stream": "stdout",
       "text": [
        "\n",
        "size: 400 1000000 loops, best of 3: 293 ns per loop"
       ]
      },
      {
       "output_type": "stream",
       "stream": "stdout",
       "text": [
        "\n"
       ]
      }
     ],
     "prompt_number": 32
    },
    {
     "cell_type": "markdown",
     "metadata": {
      "slideshow": {
       "slide_type": "slide"
      }
     },
     "source": [
      "Magics can do anything they want with their input, so it doesn't have to be valid Python:"
     ]
    },
    {
     "cell_type": "code",
     "collapsed": false,
     "input": [
      "%%bash\n",
      "echo \"My shell is:\" $SHELL\n",
      "echo \"User:\" $USER"
     ],
     "language": "python",
     "metadata": {
      "slideshow": {
       "slide_type": "fragment"
      }
     },
     "outputs": [
      {
       "output_type": "stream",
       "stream": "stdout",
       "text": [
        "My shell is: /bin/bash\n",
        "User: jakevdp\n"
       ]
      }
     ],
     "prompt_number": 34
    },
    {
     "cell_type": "markdown",
     "metadata": {
      "slideshow": {
       "slide_type": "fragment"
      }
     },
     "source": [
      "Another interesting cell magic: create any file you want locally from the notebook:"
     ]
    },
    {
     "cell_type": "code",
     "collapsed": false,
     "input": [
      "%%file test.txt\n",
      "This is a test file!\n",
      "It can contain anything I want...\n",
      "\n",
      "more..."
     ],
     "language": "python",
     "metadata": {
      "slideshow": {
       "slide_type": "fragment"
      }
     },
     "outputs": [
      {
       "output_type": "stream",
       "stream": "stdout",
       "text": [
        "Writing test.txt\n"
       ]
      }
     ],
     "prompt_number": 35
    },
    {
     "cell_type": "code",
     "collapsed": false,
     "input": [
      "!cat test.txt"
     ],
     "language": "python",
     "metadata": {
      "slideshow": {
       "slide_type": "fragment"
      }
     },
     "outputs": [
      {
       "output_type": "stream",
       "stream": "stdout",
       "text": [
        "This is a test file!\r\n",
        "It can contain anything I want...\r\n",
        "\r\n",
        "more..."
       ]
      }
     ],
     "prompt_number": 36
    },
    {
     "cell_type": "markdown",
     "metadata": {
      "slideshow": {
       "slide_type": "slide"
      }
     },
     "source": [
      "Let's see what other magics are currently defined in the system:"
     ]
    },
    {
     "cell_type": "code",
     "collapsed": false,
     "input": [
      "%lsmagic"
     ],
     "language": "python",
     "metadata": {
      "slideshow": {
       "slide_type": "fragment"
      }
     },
     "outputs": [
      {
       "json": [
        "{\"cell\": {\"javascript\": \"DisplayMagics\", \"python\": \"Other\", \"svg\": \"DisplayMagics\", \"timeit\": \"ExecutionMagics\", \"system\": \"OSMagics\", \"sx\": \"OSMagics\", \"html\": \"DisplayMagics\", \"latex\": \"DisplayMagics\", \"file\": \"Other\", \"sh\": \"Other\", \"pypy\": \"Other\", \"bash\": \"Other\", \"prun\": \"ExecutionMagics\", \"script\": \"ScriptMagics\", \"SVG\": \"Other\", \"debug\": \"ExecutionMagics\", \"perl\": \"Other\", \"time\": \"ExecutionMagics\", \"ruby\": \"Other\", \"writefile\": \"OSMagics\", \"HTML\": \"Other\", \"python3\": \"Other\", \"python2\": \"Other\", \"!\": \"OSMagics\", \"capture\": \"ExecutionMagics\"}, \"line\": {\"pdoc\": \"NamespaceMagics\", \"psource\": \"NamespaceMagics\", \"autosave\": \"KernelMagics\", \"psearch\": \"NamespaceMagics\", \"edit\": \"KernelMagics\", \"prun\": \"ExecutionMagics\", \"pastebin\": \"CodeMagics\", \"unload_ext\": \"ExtensionMagics\", \"logoff\": \"LoggingMagics\", \"reload_ext\": \"ExtensionMagics\", \"rerun\": \"HistoryMagics\", \"less\": \"KernelMagics\", \"bookmark\": \"OSMagics\", \"pdb\": \"ExecutionMagics\", \"env\": \"OSMagics\", \"pinfo\": \"NamespaceMagics\", \"matplotlib\": \"PylabMagics\", \"xdel\": \"NamespaceMagics\", \"reset_selective\": \"NamespaceMagics\", \"qtconsole\": \"KernelMagics\", \"system\": \"OSMagics\", \"save\": \"CodeMagics\", \"run\": \"ExecutionMagics\", \"autocall\": \"AutoMagics\", \"install_profiles\": \"DeprecatedMagics\", \"logstop\": \"LoggingMagics\", \"mv\": \"Other\", \"install_ext\": \"ExtensionMagics\", \"rep\": \"Other\", \"ed\": \"Other\", \"rmdir\": \"Other\", \"who_ls\": \"NamespaceMagics\", \"man\": \"KernelMagics\", \"doctest_mode\": \"KernelMagics\", \"clear\": \"KernelMagics\", \"alias\": \"OSMagics\", \"rehashx\": \"OSMagics\", \"cat\": \"Other\", \"tb\": \"ExecutionMagics\", \"install_default_config\": \"DeprecatedMagics\", \"precision\": \"BasicMagics\", \"page\": \"BasicMagics\", \"pinfo2\": \"NamespaceMagics\", \"recall\": \"HistoryMagics\", \"reset\": \"NamespaceMagics\", \"logstate\": \"LoggingMagics\", \"sx\": \"OSMagics\", \"timeit\": \"ExecutionMagics\", \"quickref\": \"BasicMagics\", \"lf\": \"Other\", \"gui\": \"BasicMagics\", \"lk\": \"Other\", \"ll\": \"Other\", \"pfile\": \"NamespaceMagics\", \"ls\": \"Other\", \"dirs\": \"OSMagics\", \"macro\": \"ExecutionMagics\", \"lx\": \"Other\", \"sc\": \"OSMagics\", \"config\": \"ConfigMagics\", \"magic\": \"BasicMagics\", \"pdef\": \"NamespaceMagics\", \"more\": \"KernelMagics\", \"logon\": \"LoggingMagics\", \"colors\": \"BasicMagics\", \"popd\": \"OSMagics\", \"profile\": \"BasicMagics\", \"notebook\": \"BasicMagics\", \"load\": \"CodeMagics\", \"history\": \"HistoryMagics\", \"dhist\": \"OSMagics\", \"pwd\": \"OSMagics\", \"mkdir\": \"Other\", \"whos\": \"NamespaceMagics\", \"ldir\": \"Other\", \"killbgscripts\": \"ScriptMagics\", \"loadpy\": \"CodeMagics\", \"xmode\": \"BasicMagics\", \"who\": \"NamespaceMagics\", \"unalias\": \"OSMagics\", \"cd\": \"OSMagics\", \"pycat\": \"OSMagics\", \"pprint\": \"BasicMagics\", \"load_ext\": \"ExtensionMagics\", \"rm\": \"Other\", \"cp\": \"Other\", \"hist\": \"Other\", \"connect_info\": \"KernelMagics\", \"debug\": \"ExecutionMagics\", \"lsmagic\": \"BasicMagics\", \"alias_magic\": \"BasicMagics\", \"logstart\": \"LoggingMagics\", \"time\": \"ExecutionMagics\", \"pylab\": \"PylabMagics\", \"pushd\": \"OSMagics\", \"store\": \"StoreMagics\", \"automagic\": \"AutoMagics\"}}"
       ],
       "metadata": {},
       "output_type": "pyout",
       "prompt_number": 38,
       "text": [
        "Available line magics:\n",
        "%alias  %alias_magic  %autocall  %automagic  %autosave  %bookmark  %cat  %cd  %clear  %colors  %config  %connect_info  %cp  %debug  %dhist  %dirs  %doctest_mode  %ed  %edit  %env  %gui  %hist  %history  %install_default_config  %install_ext  %install_profiles  %killbgscripts  %ldir  %less  %lf  %lk  %ll  %load  %load_ext  %loadpy  %logoff  %logon  %logstart  %logstate  %logstop  %ls  %lsmagic  %lx  %macro  %magic  %man  %matplotlib  %mkdir  %more  %mv  %notebook  %page  %pastebin  %pdb  %pdef  %pdoc  %pfile  %pinfo  %pinfo2  %popd  %pprint  %precision  %profile  %prun  %psearch  %psource  %pushd  %pwd  %pycat  %pylab  %qtconsole  %quickref  %recall  %rehashx  %reload_ext  %rep  %rerun  %reset  %reset_selective  %rm  %rmdir  %run  %save  %sc  %store  %sx  %system  %tb  %time  %timeit  %unalias  %unload_ext  %who  %who_ls  %whos  %xdel  %xmode\n",
        "\n",
        "Available cell magics:\n",
        "%%!  %%HTML  %%SVG  %%bash  %%capture  %%debug  %%file  %%html  %%javascript  %%latex  %%perl  %%prun  %%pypy  %%python  %%python2  %%python3  %%ruby  %%script  %%sh  %%svg  %%sx  %%system  %%time  %%timeit  %%writefile\n",
        "\n",
        "Automagic is ON, % prefix IS NOT needed for line magics."
       ]
      }
     ],
     "prompt_number": 38
    },
    {
     "cell_type": "heading",
     "level": 2,
     "metadata": {
      "slideshow": {
       "slide_type": "slide"
      }
     },
     "source": [
      "Running normal Python code: execution and errors"
     ]
    },
    {
     "cell_type": "markdown",
     "metadata": {
      "slideshow": {
       "slide_type": "fragment"
      }
     },
     "source": [
      "Not only can you input normal Python code, you can even paste straight from a Python or IPython shell session:"
     ]
    },
    {
     "cell_type": "code",
     "collapsed": false,
     "input": [
      ">>> # Fibonacci series:\n",
      "... # the sum of two elements defines the next\n",
      "... a, b = 0, 1\n",
      ">>> while b < 10:\n",
      "...     print(b)\n",
      "...     a, b = b, a+b"
     ],
     "language": "python",
     "metadata": {
      "slideshow": {
       "slide_type": "fragment"
      }
     },
     "outputs": [
      {
       "output_type": "stream",
       "stream": "stdout",
       "text": [
        "1\n",
        "1\n",
        "2\n",
        "3\n",
        "5\n",
        "8\n"
       ]
      }
     ],
     "prompt_number": 40
    },
    {
     "cell_type": "code",
     "collapsed": false,
     "input": [
      "In [1]: for i in range(5):\n",
      "   ...:     print(i)\n",
      "   ...:     "
     ],
     "language": "python",
     "metadata": {
      "slideshow": {
       "slide_type": "fragment"
      }
     },
     "outputs": [
      {
       "output_type": "stream",
       "stream": "stdout",
       "text": [
        "0\n",
        "1\n",
        "2\n",
        "3\n",
        "4\n"
       ]
      }
     ],
     "prompt_number": 43
    },
    {
     "cell_type": "markdown",
     "metadata": {
      "slideshow": {
       "slide_type": "slide"
      }
     },
     "source": [
      "## Error display\n",
      "And when your code produces errors, you can control how they are displayed with the `%xmode` magic:"
     ]
    },
    {
     "cell_type": "code",
     "collapsed": false,
     "input": [
      "%%file mod.py\n",
      "\n",
      "def f(x):\n",
      "    return 1.0/(x-1)\n",
      "\n",
      "def g(y):\n",
      "    return f(y+1)"
     ],
     "language": "python",
     "metadata": {
      "slideshow": {
       "slide_type": "fragment"
      }
     },
     "outputs": [
      {
       "output_type": "stream",
       "stream": "stdout",
       "text": [
        "Writing mod.py\n"
       ]
      }
     ],
     "prompt_number": 44
    },
    {
     "cell_type": "markdown",
     "metadata": {
      "slideshow": {
       "slide_type": "fragment"
      }
     },
     "source": [
      "Now let's call the function `g` with an argument that would produce an error:"
     ]
    },
    {
     "cell_type": "code",
     "collapsed": false,
     "input": [
      "import mod\n",
      "mod.g(0)"
     ],
     "language": "python",
     "metadata": {
      "slideshow": {
       "slide_type": "fragment"
      }
     },
     "outputs": [
      {
       "ename": "ZeroDivisionError",
       "evalue": "float division by zero",
       "output_type": "pyerr",
       "traceback": [
        "\u001b[0;31m---------------------------------------------------------------------------\u001b[0m\n\u001b[0;31mZeroDivisionError\u001b[0m                         Traceback (most recent call last)",
        "\u001b[0;32m<ipython-input-45-a54c5799f57e>\u001b[0m in \u001b[0;36m<module>\u001b[0;34m()\u001b[0m\n\u001b[1;32m      1\u001b[0m \u001b[0;32mimport\u001b[0m \u001b[0mmod\u001b[0m\u001b[0;34m\u001b[0m\u001b[0m\n\u001b[0;32m----> 2\u001b[0;31m \u001b[0mmod\u001b[0m\u001b[0;34m.\u001b[0m\u001b[0mg\u001b[0m\u001b[0;34m(\u001b[0m\u001b[0;36m0\u001b[0m\u001b[0;34m)\u001b[0m\u001b[0;34m\u001b[0m\u001b[0m\n\u001b[0m",
        "\u001b[0;32m/Users/jakevdp/Opensource/2014_fall_ASTR599/notebooks/mod.py\u001b[0m in \u001b[0;36mg\u001b[0;34m(y)\u001b[0m\n\u001b[1;32m      4\u001b[0m \u001b[0;34m\u001b[0m\u001b[0m\n\u001b[1;32m      5\u001b[0m \u001b[0;32mdef\u001b[0m \u001b[0mg\u001b[0m\u001b[0;34m(\u001b[0m\u001b[0my\u001b[0m\u001b[0;34m)\u001b[0m\u001b[0;34m:\u001b[0m\u001b[0;34m\u001b[0m\u001b[0m\n\u001b[0;32m----> 6\u001b[0;31m     \u001b[0;32mreturn\u001b[0m \u001b[0mf\u001b[0m\u001b[0;34m(\u001b[0m\u001b[0my\u001b[0m\u001b[0;34m+\u001b[0m\u001b[0;36m1\u001b[0m\u001b[0;34m)\u001b[0m\u001b[0;34m\u001b[0m\u001b[0m\n\u001b[0m",
        "\u001b[0;32m/Users/jakevdp/Opensource/2014_fall_ASTR599/notebooks/mod.py\u001b[0m in \u001b[0;36mf\u001b[0;34m(x)\u001b[0m\n\u001b[1;32m      1\u001b[0m \u001b[0;34m\u001b[0m\u001b[0m\n\u001b[1;32m      2\u001b[0m \u001b[0;32mdef\u001b[0m \u001b[0mf\u001b[0m\u001b[0;34m(\u001b[0m\u001b[0mx\u001b[0m\u001b[0;34m)\u001b[0m\u001b[0;34m:\u001b[0m\u001b[0;34m\u001b[0m\u001b[0m\n\u001b[0;32m----> 3\u001b[0;31m     \u001b[0;32mreturn\u001b[0m \u001b[0;36m1.0\u001b[0m\u001b[0;34m/\u001b[0m\u001b[0;34m(\u001b[0m\u001b[0mx\u001b[0m\u001b[0;34m-\u001b[0m\u001b[0;36m1\u001b[0m\u001b[0;34m)\u001b[0m\u001b[0;34m\u001b[0m\u001b[0m\n\u001b[0m\u001b[1;32m      4\u001b[0m \u001b[0;34m\u001b[0m\u001b[0m\n\u001b[1;32m      5\u001b[0m \u001b[0;32mdef\u001b[0m \u001b[0mg\u001b[0m\u001b[0;34m(\u001b[0m\u001b[0my\u001b[0m\u001b[0;34m)\u001b[0m\u001b[0;34m:\u001b[0m\u001b[0;34m\u001b[0m\u001b[0m\n",
        "\u001b[0;31mZeroDivisionError\u001b[0m: float division by zero"
       ]
      }
     ],
     "prompt_number": 45
    },
    {
     "cell_type": "markdown",
     "metadata": {
      "slideshow": {
       "slide_type": "slide"
      }
     },
     "source": [
      "## Plain exceptions"
     ]
    },
    {
     "cell_type": "code",
     "collapsed": false,
     "input": [
      "%xmode plain\n",
      "mod.g(0)"
     ],
     "language": "python",
     "metadata": {
      "slideshow": {
       "slide_type": "fragment"
      }
     },
     "outputs": [
      {
       "output_type": "stream",
       "stream": "stdout",
       "text": [
        "Exception reporting mode: Plain\n"
       ]
      },
      {
       "ename": "ZeroDivisionError",
       "evalue": "float division by zero",
       "output_type": "pyerr",
       "traceback": [
        "Traceback \u001b[0;36m(most recent call last)\u001b[0m:\n",
        "  File \u001b[1;32m\"<ipython-input-46-8932f4bf53fa>\"\u001b[0m, line \u001b[1;32m2\u001b[0m, in \u001b[1;35m<module>\u001b[0m\n    mod.g(0)\n",
        "  File \u001b[1;32m\"./mod.py\"\u001b[0m, line \u001b[1;32m6\u001b[0m, in \u001b[1;35mg\u001b[0m\n    return f(y+1)\n",
        "\u001b[0;36m  File \u001b[0;32m\"./mod.py\"\u001b[0;36m, line \u001b[0;32m3\u001b[0;36m, in \u001b[0;35mf\u001b[0;36m\u001b[0m\n\u001b[0;31m    return 1.0/(x-1)\u001b[0m\n",
        "\u001b[0;31mZeroDivisionError\u001b[0m\u001b[0;31m:\u001b[0m float division by zero\n"
       ]
      }
     ],
     "prompt_number": 46
    },
    {
     "cell_type": "markdown",
     "metadata": {
      "slideshow": {
       "slide_type": "slide"
      }
     },
     "source": [
      "## Verbose exceptions"
     ]
    },
    {
     "cell_type": "code",
     "collapsed": false,
     "input": [
      "%xmode verbose\n",
      "mod.g(0)"
     ],
     "language": "python",
     "metadata": {
      "slideshow": {
       "slide_type": "fragment"
      }
     },
     "outputs": [
      {
       "output_type": "stream",
       "stream": "stdout",
       "text": [
        "Exception reporting mode: Verbose\n"
       ]
      },
      {
       "ename": "ZeroDivisionError",
       "evalue": "float division by zero",
       "output_type": "pyerr",
       "traceback": [
        "\u001b[0;31m---------------------------------------------------------------------------\u001b[0m\n\u001b[0;31mZeroDivisionError\u001b[0m                         Traceback (most recent call last)",
        "\u001b[0;32m<ipython-input-47-539f73e80e01>\u001b[0m in \u001b[0;36m<module>\u001b[0;34m()\u001b[0m\n\u001b[1;32m      1\u001b[0m \u001b[0mget_ipython\u001b[0m\u001b[0;34m(\u001b[0m\u001b[0;34m)\u001b[0m\u001b[0;34m.\u001b[0m\u001b[0mmagic\u001b[0m\u001b[0;34m(\u001b[0m\u001b[0;34m'xmode verbose'\u001b[0m\u001b[0;34m)\u001b[0m\u001b[0;34m\u001b[0m\u001b[0m\n\u001b[0;32m----> 2\u001b[0;31m \u001b[0mmod\u001b[0m\u001b[0;34m.\u001b[0m\u001b[0mg\u001b[0m\u001b[0;34m(\u001b[0m\u001b[0;36m0\u001b[0m\u001b[0;34m)\u001b[0m\u001b[0;34m\u001b[0m\u001b[0m\n\u001b[0m        \u001b[0;36mglobal\u001b[0m \u001b[0;36mmod.g\u001b[0m \u001b[0;34m= <function g at 0x1037c7680>\u001b[0m\n",
        "\u001b[0;32m/Users/jakevdp/Opensource/2014_fall_ASTR599/notebooks/mod.py\u001b[0m in \u001b[0;36mg\u001b[0;34m(y=0)\u001b[0m\n\u001b[1;32m      4\u001b[0m \u001b[0;34m\u001b[0m\u001b[0m\n\u001b[1;32m      5\u001b[0m \u001b[0;32mdef\u001b[0m \u001b[0mg\u001b[0m\u001b[0;34m(\u001b[0m\u001b[0my\u001b[0m\u001b[0;34m)\u001b[0m\u001b[0;34m:\u001b[0m\u001b[0;34m\u001b[0m\u001b[0m\n\u001b[0;32m----> 6\u001b[0;31m     \u001b[0;32mreturn\u001b[0m \u001b[0mf\u001b[0m\u001b[0;34m(\u001b[0m\u001b[0my\u001b[0m\u001b[0;34m+\u001b[0m\u001b[0;36m1\u001b[0m\u001b[0;34m)\u001b[0m\u001b[0;34m\u001b[0m\u001b[0m\n\u001b[0m        \u001b[0;36mglobal\u001b[0m \u001b[0;36mf\u001b[0m \u001b[0;34m= <function f at 0x1037c7710>\u001b[0m\u001b[0;34m\n        \u001b[0m\u001b[0;36my\u001b[0m \u001b[0;34m= 0\u001b[0m\n",
        "\u001b[0;32m/Users/jakevdp/Opensource/2014_fall_ASTR599/notebooks/mod.py\u001b[0m in \u001b[0;36mf\u001b[0;34m(x=1)\u001b[0m\n\u001b[1;32m      1\u001b[0m \u001b[0;34m\u001b[0m\u001b[0m\n\u001b[1;32m      2\u001b[0m \u001b[0;32mdef\u001b[0m \u001b[0mf\u001b[0m\u001b[0;34m(\u001b[0m\u001b[0mx\u001b[0m\u001b[0;34m)\u001b[0m\u001b[0;34m:\u001b[0m\u001b[0;34m\u001b[0m\u001b[0m\n\u001b[0;32m----> 3\u001b[0;31m     \u001b[0;32mreturn\u001b[0m \u001b[0;36m1.0\u001b[0m\u001b[0;34m/\u001b[0m\u001b[0;34m(\u001b[0m\u001b[0mx\u001b[0m\u001b[0;34m-\u001b[0m\u001b[0;36m1\u001b[0m\u001b[0;34m)\u001b[0m\u001b[0;34m\u001b[0m\u001b[0m\n\u001b[0m        \u001b[0;36mx\u001b[0m \u001b[0;34m= 1\u001b[0m\n\u001b[1;32m      4\u001b[0m \u001b[0;34m\u001b[0m\u001b[0m\n\u001b[1;32m      5\u001b[0m \u001b[0;32mdef\u001b[0m \u001b[0mg\u001b[0m\u001b[0;34m(\u001b[0m\u001b[0my\u001b[0m\u001b[0;34m)\u001b[0m\u001b[0;34m:\u001b[0m\u001b[0;34m\u001b[0m\u001b[0m\n",
        "\u001b[0;31mZeroDivisionError\u001b[0m: float division by zero"
       ]
      }
     ],
     "prompt_number": 47
    },
    {
     "cell_type": "markdown",
     "metadata": {
      "slideshow": {
       "slide_type": "fragment"
      }
     },
     "source": [
      "The default `%xmode` is \"context\", which shows additional context but not all local variables.  Let's restore that one for the rest of our session."
     ]
    },
    {
     "cell_type": "code",
     "collapsed": false,
     "input": [
      "%xmode context"
     ],
     "language": "python",
     "metadata": {
      "slideshow": {
       "slide_type": "fragment"
      }
     },
     "outputs": [
      {
       "output_type": "stream",
       "stream": "stdout",
       "text": [
        "Exception reporting mode: Context\n"
       ]
      }
     ],
     "prompt_number": 48
    },
    {
     "cell_type": "code",
     "collapsed": false,
     "input": [
      "mod.g(0)"
     ],
     "language": "python",
     "metadata": {
      "slideshow": {
       "slide_type": "fragment"
      }
     },
     "outputs": [
      {
       "ename": "ZeroDivisionError",
       "evalue": "float division by zero",
       "output_type": "pyerr",
       "traceback": [
        "\u001b[0;31m---------------------------------------------------------------------------\u001b[0m\n\u001b[0;31mZeroDivisionError\u001b[0m                         Traceback (most recent call last)",
        "\u001b[0;32m<ipython-input-49-5e708f13c839>\u001b[0m in \u001b[0;36m<module>\u001b[0;34m()\u001b[0m\n\u001b[0;32m----> 1\u001b[0;31m \u001b[0mmod\u001b[0m\u001b[0;34m.\u001b[0m\u001b[0mg\u001b[0m\u001b[0;34m(\u001b[0m\u001b[0;36m0\u001b[0m\u001b[0;34m)\u001b[0m\u001b[0;34m\u001b[0m\u001b[0m\n\u001b[0m",
        "\u001b[0;32m/Users/jakevdp/Opensource/2014_fall_ASTR599/notebooks/mod.py\u001b[0m in \u001b[0;36mg\u001b[0;34m(y)\u001b[0m\n\u001b[1;32m      4\u001b[0m \u001b[0;34m\u001b[0m\u001b[0m\n\u001b[1;32m      5\u001b[0m \u001b[0;32mdef\u001b[0m \u001b[0mg\u001b[0m\u001b[0;34m(\u001b[0m\u001b[0my\u001b[0m\u001b[0;34m)\u001b[0m\u001b[0;34m:\u001b[0m\u001b[0;34m\u001b[0m\u001b[0m\n\u001b[0;32m----> 6\u001b[0;31m     \u001b[0;32mreturn\u001b[0m \u001b[0mf\u001b[0m\u001b[0;34m(\u001b[0m\u001b[0my\u001b[0m\u001b[0;34m+\u001b[0m\u001b[0;36m1\u001b[0m\u001b[0;34m)\u001b[0m\u001b[0;34m\u001b[0m\u001b[0m\n\u001b[0m",
        "\u001b[0;32m/Users/jakevdp/Opensource/2014_fall_ASTR599/notebooks/mod.py\u001b[0m in \u001b[0;36mf\u001b[0;34m(x)\u001b[0m\n\u001b[1;32m      1\u001b[0m \u001b[0;34m\u001b[0m\u001b[0m\n\u001b[1;32m      2\u001b[0m \u001b[0;32mdef\u001b[0m \u001b[0mf\u001b[0m\u001b[0;34m(\u001b[0m\u001b[0mx\u001b[0m\u001b[0;34m)\u001b[0m\u001b[0;34m:\u001b[0m\u001b[0;34m\u001b[0m\u001b[0m\n\u001b[0;32m----> 3\u001b[0;31m     \u001b[0;32mreturn\u001b[0m \u001b[0;36m1.0\u001b[0m\u001b[0;34m/\u001b[0m\u001b[0;34m(\u001b[0m\u001b[0mx\u001b[0m\u001b[0;34m-\u001b[0m\u001b[0;36m1\u001b[0m\u001b[0;34m)\u001b[0m\u001b[0;34m\u001b[0m\u001b[0m\n\u001b[0m\u001b[1;32m      4\u001b[0m \u001b[0;34m\u001b[0m\u001b[0m\n\u001b[1;32m      5\u001b[0m \u001b[0;32mdef\u001b[0m \u001b[0mg\u001b[0m\u001b[0;34m(\u001b[0m\u001b[0my\u001b[0m\u001b[0;34m)\u001b[0m\u001b[0;34m:\u001b[0m\u001b[0;34m\u001b[0m\u001b[0m\n",
        "\u001b[0;31mZeroDivisionError\u001b[0m: float division by zero"
       ]
      }
     ],
     "prompt_number": 49
    },
    {
     "cell_type": "code",
     "collapsed": false,
     "input": [
      "%debug"
     ],
     "language": "python",
     "metadata": {
      "slideshow": {
       "slide_type": "fragment"
      }
     },
     "outputs": [
      {
       "output_type": "stream",
       "stream": "stdout",
       "text": [
        "> \u001b[0;32m/Users/jakevdp/Opensource/2014_fall_ASTR599/notebooks/mod.py\u001b[0m(3)\u001b[0;36mf\u001b[0;34m()\u001b[0m\n",
        "\u001b[0;32m      2 \u001b[0;31m\u001b[0;32mdef\u001b[0m \u001b[0mf\u001b[0m\u001b[0;34m(\u001b[0m\u001b[0mx\u001b[0m\u001b[0;34m)\u001b[0m\u001b[0;34m:\u001b[0m\u001b[0;34m\u001b[0m\u001b[0m\n",
        "\u001b[0m\u001b[0;32m----> 3 \u001b[0;31m    \u001b[0;32mreturn\u001b[0m \u001b[0;36m1.0\u001b[0m\u001b[0;34m/\u001b[0m\u001b[0;34m(\u001b[0m\u001b[0mx\u001b[0m\u001b[0;34m-\u001b[0m\u001b[0;36m1\u001b[0m\u001b[0;34m)\u001b[0m\u001b[0;34m\u001b[0m\u001b[0m\n",
        "\u001b[0m\u001b[0;32m      4 \u001b[0;31m\u001b[0;34m\u001b[0m\u001b[0m\n",
        "\u001b[0m\n"
       ]
      },
      {
       "name": "stdout",
       "output_type": "stream",
       "stream": "stdout",
       "text": [
        "ipdb> ?\n"
       ]
      },
      {
       "output_type": "stream",
       "stream": "stdout",
       "text": [
        "\n",
        "Documented commands (type help <topic>):\n",
        "========================================\n",
        "EOF    cl         disable  interact  pdef     q        s          until \n",
        "a      clear      display  j         pdoc     quit     source     up    \n",
        "alias  commands   down     jump      pfile    r        step       w     \n",
        "args   condition  enable   ll        pinfo    restart  tbreak     whatis\n",
        "b      cont       exit     longlist  pinfo2   return   u          where \n",
        "break  continue   h        n         pp       retval   unalias  \n",
        "bt     d          help     next      print    run      undisplay\n",
        "c      debug      ignore   p         psource  rv       unt      \n",
        "\n",
        "Miscellaneous help topics:\n",
        "==========================\n",
        "exec  pdb\n",
        "\n",
        "Undocumented commands:\n",
        "======================\n",
        "l  list\n",
        "\n"
       ]
      },
      {
       "name": "stdout",
       "output_type": "stream",
       "stream": "stdout",
       "text": [
        "ipdb> d\n"
       ]
      },
      {
       "output_type": "stream",
       "stream": "stdout",
       "text": [
        "*** Newest frame\n"
       ]
      },
      {
       "name": "stdout",
       "output_type": "stream",
       "stream": "stdout",
       "text": [
        "ipdb> d\n"
       ]
      },
      {
       "output_type": "stream",
       "stream": "stdout",
       "text": [
        "*** Newest frame\n"
       ]
      },
      {
       "name": "stdout",
       "output_type": "stream",
       "stream": "stdout",
       "text": [
        "ipdb> u\n"
       ]
      },
      {
       "output_type": "stream",
       "stream": "stdout",
       "text": [
        "> \u001b[0;32m/Users/jakevdp/Opensource/2014_fall_ASTR599/notebooks/mod.py\u001b[0m(6)\u001b[0;36mg\u001b[0;34m()\u001b[0m\n",
        "\u001b[0;32m      4 \u001b[0;31m\u001b[0;34m\u001b[0m\u001b[0m\n",
        "\u001b[0m\u001b[0;32m      5 \u001b[0;31m\u001b[0;32mdef\u001b[0m \u001b[0mg\u001b[0m\u001b[0;34m(\u001b[0m\u001b[0my\u001b[0m\u001b[0;34m)\u001b[0m\u001b[0;34m:\u001b[0m\u001b[0;34m\u001b[0m\u001b[0m\n",
        "\u001b[0m\u001b[0;32m----> 6 \u001b[0;31m    \u001b[0;32mreturn\u001b[0m \u001b[0mf\u001b[0m\u001b[0;34m(\u001b[0m\u001b[0my\u001b[0m\u001b[0;34m+\u001b[0m\u001b[0;36m1\u001b[0m\u001b[0;34m)\u001b[0m\u001b[0;34m\u001b[0m\u001b[0m\n",
        "\u001b[0m\n"
       ]
      },
      {
       "name": "stdout",
       "output_type": "stream",
       "stream": "stdout",
       "text": [
        "ipdb> u\n"
       ]
      },
      {
       "output_type": "stream",
       "stream": "stdout",
       "text": [
        "> \u001b[0;32m<ipython-input-49-5e708f13c839>\u001b[0m(1)\u001b[0;36m<module>\u001b[0;34m()\u001b[0m\n",
        "\u001b[0;32m----> 1 \u001b[0;31m\u001b[0mmod\u001b[0m\u001b[0;34m.\u001b[0m\u001b[0mg\u001b[0m\u001b[0;34m(\u001b[0m\u001b[0;36m0\u001b[0m\u001b[0;34m)\u001b[0m\u001b[0;34m\u001b[0m\u001b[0m\n",
        "\u001b[0m\n"
       ]
      },
      {
       "name": "stdout",
       "output_type": "stream",
       "stream": "stdout",
       "text": [
        "ipdb> u\n"
       ]
      },
      {
       "output_type": "stream",
       "stream": "stdout",
       "text": [
        "*** Oldest frame\n"
       ]
      },
      {
       "name": "stdout",
       "output_type": "stream",
       "stream": "stdout",
       "text": [
        "ipdb> q\n"
       ]
      }
     ],
     "prompt_number": 50
    },
    {
     "cell_type": "markdown",
     "metadata": {
      "slideshow": {
       "slide_type": "fragment"
      }
     },
     "source": [
      "Don't foget to exit your debugging session. Raw input can of course be use to ask for user input:"
     ]
    },
    {
     "cell_type": "code",
     "collapsed": false,
     "input": [
      "enjoy = input('Are you enjoying this tutorial ?')\n",
      "print('enjoy is :', enjoy)"
     ],
     "language": "python",
     "metadata": {
      "slideshow": {
       "slide_type": "fragment"
      }
     },
     "outputs": [
      {
       "name": "stdout",
       "output_type": "stream",
       "stream": "stdout",
       "text": [
        "Are you enjoying this tutorial ?yes\n"
       ]
      },
      {
       "output_type": "stream",
       "stream": "stdout",
       "text": [
        "enjoy is : yes\n"
       ]
      }
     ],
     "prompt_number": 51
    },
    {
     "cell_type": "heading",
     "level": 2,
     "metadata": {
      "slideshow": {
       "slide_type": "slide"
      }
     },
     "source": [
      "Plotting in the notebook"
     ]
    },
    {
     "cell_type": "markdown",
     "metadata": {
      "slideshow": {
       "slide_type": "fragment"
      }
     },
     "source": [
      "This imports numpy as `np` and matplotlib's plotting routines as `plt`, plus setting lots of other stuff for you to work interactivel very easily:"
     ]
    },
    {
     "cell_type": "code",
     "collapsed": false,
     "input": [
      "%matplotlib inline"
     ],
     "language": "python",
     "metadata": {
      "slideshow": {
       "slide_type": "fragment"
      }
     },
     "outputs": [],
     "prompt_number": 52
    },
    {
     "cell_type": "code",
     "collapsed": false,
     "input": [
      "import numpy as np\n",
      "import matplotlib.pyplot as plt\n",
      "from matplotlib.pyplot import gcf"
     ],
     "language": "python",
     "metadata": {
      "slideshow": {
       "slide_type": "fragment"
      }
     },
     "outputs": [],
     "prompt_number": 53
    },
    {
     "cell_type": "code",
     "collapsed": false,
     "input": [
      "x = np.linspace(0, 2*np.pi, 300)\n",
      "y = np.sin(x**2)\n",
      "plt.plot(x, y)\n",
      "plt.title(\"A little chirp\")\n",
      "f = gcf()  # let's keep the figure object around for later..."
     ],
     "language": "python",
     "metadata": {
      "slideshow": {
       "slide_type": "fragment"
      }
     },
     "outputs": [
      {
       "metadata": {},
       "output_type": "display_data",
       "png": "[encoded data removed]",
       "text": [
        "<matplotlib.figure.Figure at 0x10710eb50>"
       ]
      }
     ],
     "prompt_number": 54
    },
    {
     "cell_type": "markdown",
     "metadata": {
      "slideshow": {
       "slide_type": "slide"
      }
     },
     "source": [
      "## Working with Notebooks\n",
      "### Directory Layout"
     ]
    },
    {
     "cell_type": "markdown",
     "metadata": {
      "slideshow": {
       "slide_type": "fragment"
      }
     },
     "source": [
      "* IPython Notebooks are just files (`.ipynb`) on your file system\n",
      "* The Notebook server is aware of Notebooks in a single directory, which we call the **Notebook directory**\n",
      "* If you cd to a Notebook directory and type:\n",
      "\n",
      "        ipython notebook\n",
      "\n",
      "  you will see the Notebooks in that directory in the dashboard"
     ]
    },
    {
     "cell_type": "markdown",
     "metadata": {
      "slideshow": {
       "slide_type": "slide"
      }
     },
     "source": [
      "###Notebook Files\n",
      "* Are just that - files (`.ipynb`) on your file system\n",
      "* Contain JSON data"
     ]
    },
    {
     "cell_type": "code",
     "collapsed": false,
     "input": [
      "from IPython.nbformat import current\n",
      "with open('03_IPython_intro.ipynb') as f:\n",
      "    nb = current.read(f, 'json')"
     ],
     "language": "python",
     "metadata": {
      "slideshow": {
       "slide_type": "fragment"
      }
     },
     "outputs": [],
     "prompt_number": 55
    },
    {
     "cell_type": "code",
     "collapsed": false,
     "input": [
      "nb.worksheets[0].cells[0:5]"
     ],
     "language": "python",
     "metadata": {
      "slideshow": {
       "slide_type": "fragment"
      }
     },
     "outputs": [
      {
       "metadata": {},
       "output_type": "pyout",
       "prompt_number": 56,
       "text": [
        "[{'source': \"<small><i>This notebook was put together by [Jake Vanderplas](http://www.vanderplas.com) for UW's [Astro 599](http://www.astro.washington.edu/users/vanderplas/Astr599_2014/) course. Source and license info is on [GitHub](https://github.com/jakevdp/2014_fall_ASTR599/).</i></small>\",\n",
        "  'cell_type': 'markdown',\n",
        "  'metadata': {}},\n",
        " {'collapsed': False,\n",
        "  'language': 'python',\n",
        "  'cell_type': 'code',\n",
        "  'metadata': {},\n",
        "  'input': '%run talktools.py',\n",
        "  'prompt_number': 1,\n",
        "  'outputs': [{'html': '<style>\\ndiv.cell, div.text_cell_render{\\n  max-width:750px;\\n  margin-left:auto;\\n  margin-right:auto;\\n}\\n\\n.rendered_html\\n{\\n  font-size: 140%;\\n  }\\n\\n.rendered_html li\\n{\\n  line-height: 1.8;\\n  }\\n\\n.rendered_html h1, h2 {\\n  text-align:center;\\n  font-familly:\"Charis SIL\", serif;\\n}\\n</style>',\n",
        "    'output_type': 'display_data',\n",
        "    'metadata': {},\n",
        "    'text': '<IPython.core.display.HTML at 0x102298f50>'}]},\n",
        " {'source': '# IPython: an enviromnent for interactive computing',\n",
        "  'cell_type': 'markdown',\n",
        "  'metadata': {'slideshow': {'slide_type': 'slide'}}},\n",
        " {'source': '## What is IPython?\\n\\n- Short for *I*nteractive *Python*\\n- A platform for you to *interact* with your code and data\\n- The *notebook*: a system for *literate computing*\\n  * The combination of narrative, code and results\\n  * Weave your scientific narratives together with your computational process\\n- Tools for easy parallel computing\\n  * Interact with *many* processes',\n",
        "  'cell_type': 'markdown',\n",
        "  'metadata': {'slideshow': {'slide_type': 'fragment'}}},\n",
        " {'source': 'IPython at the terminal',\n",
        "  'cell_type': 'heading',\n",
        "  'level': 1,\n",
        "  'metadata': {'slideshow': {'slide_type': 'slide'}}}]"
       ]
      }
     ],
     "prompt_number": 56
    },
    {
     "cell_type": "markdown",
     "metadata": {
      "slideshow": {
       "slide_type": "fragment"
      }
     },
     "source": [
      "* Embed code, Markdown text, LaTeX equations, images\n",
      "* Are version control friendly: post your Notebooks on GitHub\n",
      "* Can be viewed online by anyone at http://nbviewer.ipython.org"
     ]
    },
    {
     "cell_type": "markdown",
     "metadata": {
      "slideshow": {
       "slide_type": "slide"
      }
     },
     "source": [
      "### Saving and Exporting\n",
      "\n",
      "IPython Notebooks can also be exported to `.py` files (see \"File:Download As\" menu item). You can tell the Notebook server to always save these `.py` files alongside the `.ipynb` files by starting the Notebook as:\n",
      "\n",
      "    ipython notebook --script\n",
      "\n",
      "You can import Notebooks from the main Dashboard or simply by copying a Notebook into the Notebook directory."
     ]
    },
    {
     "cell_type": "markdown",
     "metadata": {
      "slideshow": {
       "slide_type": "slide"
      }
     },
     "source": [
      "### Overview of the UI\n",
      "\n",
      "* Dashboard\n",
      "* Notebook area and cells\n",
      "* Menu\n",
      "* Toolbar"
     ]
    },
    {
     "cell_type": "markdown",
     "metadata": {
      "slideshow": {
       "slide_type": "slide"
      }
     },
     "source": [
      "### Cell types\n",
      "\n",
      "* Code\n",
      "* Markdown\n",
      "* Raw text\n",
      "* Heading"
     ]
    },
    {
     "cell_type": "markdown",
     "metadata": {
      "slideshow": {
       "slide_type": "slide"
      }
     },
     "source": [
      "### Keyboard Shortcuts\n",
      "\n",
      "* `Shift-Enter` to run a cell\n",
      "* `Ctrl-Enter` to run a cell in place\n",
      "* All other keyboard shortcuts have the form: `Ctrl-m ?`\n",
      "* Show all keyboard shortcuts using `Ctrl-m h`"
     ]
    },
    {
     "cell_type": "markdown",
     "metadata": {
      "slideshow": {
       "slide_type": "slide"
      }
     },
     "source": [
      "# Breakout #3: Notebook Practice"
     ]
    },
    {
     "cell_type": "markdown",
     "metadata": {
      "slideshow": {
       "slide_type": "fragment"
      }
     },
     "source": [
      "### 1. Using notebooks made available by others on the Internet\n",
      "\n",
      "Find a Notebook shared from the [IPython Notebook Gallery](https://github.com/ipython/ipython/wiki/A-gallery-of-interesting-IPython-Notebooks) and Download it via \n",
      "http://nbviewer.ipython.org. Then import it into your running Notebook server using the Dashboard."
     ]
    },
    {
     "cell_type": "markdown",
     "metadata": {
      "slideshow": {
       "slide_type": "fragment"
      }
     },
     "source": [
      "### 2. Basic cell operations\n",
      "\n",
      "Recall, the Notebook can contain cells of the following types:\n",
      "\n",
      "* Code\n",
      "* Markdown\n",
      "* Raw text\n",
      "* Heading\n",
      "\n",
      "Create a new Notebook that has at least one of each cell type.  Practice the following cell operations:\n",
      "\n",
      "* Moving up/down\n",
      "* Cut/Copy/Paste\n",
      "* Merge/Split"
     ]
    },
    {
     "cell_type": "markdown",
     "metadata": {
      "slideshow": {
       "slide_type": "fragment"
      }
     },
     "source": [
      "### 3. Keyboard shortcuts\n",
      "\n",
      "Go back to that last Notebook and repeat some of those cell operations using keyboard shortcuts:\n",
      "\n",
      "* Inserting cells above/below\n",
      "* Delete cell\n",
      "* Move cell up/down\n",
      "* Cut/copy/paste cell\n",
      "* Changing cell types"
     ]
    },
    {
     "cell_type": "markdown",
     "metadata": {
      "slideshow": {
       "slide_type": "fragment"
      }
     },
     "source": [
      "### 4. Markdown Cells\n",
      "\n",
      "If you have time, download and explore [this notebook](https://raw.github.com/profjsb/python-bootcamp/master/Lectures/04_IPythonNotebookIntroduction/Markdown%20Cells.ipynb), which will introduce you to the use of markdown cells in the notebook."
     ]
    }
   ],
   "metadata": {}
  }
 ]
}