{
 "metadata": {
  "name": "",
  "signature": "sha256:116bef7b226d82e176256c8a25894d5f2e09fcdcb49fb921826b13e688ca9a57"
 },
 "nbformat": 3,
 "nbformat_minor": 0,
 "worksheets": [
  {
   "cells": [
    {
     "cell_type": "heading",
     "level": 1,
     "metadata": {},
     "source": [
      "HW 2, Sarah Nelson, 10/11/14"
     ]
    },
    {
     "cell_type": "markdown",
     "metadata": {},
     "source": [
      "Create a function func for the function \\(f(x) = sin(x)\\). \n",
      "Ok, but isn't there already the function sin(x)? http://www.tutorialspoint.com/python/number_sin.htm"
     ]
    },
    {
     "cell_type": "code",
     "collapsed": false,
     "input": [
      "import math\n",
      "def func(x):\n",
      "    return math.sin(x) \n",
      "    "
     ],
     "language": "python",
     "metadata": {},
     "outputs": [],
     "prompt_number": 1
    },
    {
     "cell_type": "code",
     "collapsed": false,
     "input": [
      "x = 1"
     ],
     "language": "python",
     "metadata": {},
     "outputs": [],
     "prompt_number": 2
    },
    {
     "cell_type": "code",
     "collapsed": false,
     "input": [
      "print(func(x))"
     ],
     "language": "python",
     "metadata": {},
     "outputs": [
      {
       "output_type": "stream",
       "stream": "stdout",
       "text": [
        "0.841470984808\n"
       ]
      }
     ],
     "prompt_number": 3
    },
    {
     "cell_type": "code",
     "collapsed": false,
     "input": [
      "math.sin(x)"
     ],
     "language": "python",
     "metadata": {},
     "outputs": [
      {
       "metadata": {},
       "output_type": "pyout",
       "prompt_number": 4,
       "text": [
        "0.8414709848078965"
       ]
      }
     ],
     "prompt_number": 4
    },
    {
     "cell_type": "markdown",
     "metadata": {},
     "source": [
      "ok, that seems right."
     ]
    },
    {
     "cell_type": "code",
     "collapsed": false,
     "input": [
      "class Integrator:\n",
      "    def __init__(self, a, b, n):\n",
      "        self.a, self.b, self.n = a, b, n\n",
      "        self.points, self.weights = self.method()\n",
      "        \n",
      "    def method(self):\n",
      "        raise NotImplementedError('no rule in class %s' %self.__class__.__name__)"
     ],
     "language": "python",
     "metadata": {},
     "outputs": [],
     "prompt_number": 6
    },
    {
     "cell_type": "markdown",
     "metadata": {},
     "source": [
      "Mauricio's instructions \"Add an additional function called integrate(self,func) inside the class Integrator, which approximates the integral from the weigths \\(w_i\\): self.weights at different points x_i: self.points. Note the points and the weights should be arrays. The integral is approximated by the sum as \n",
      "\\[ \\int_a^b f(x) dx \\approx \\sum_{i=0}^{n-1} w_i f(x_i), \\]\n",
      "and the function integrate(self,func) should return the output of this sum.\"\n",
      "\n",
      "too bad i haven't taken calculus since high school.\n",
      "taking the integral is getting the area under the curve of a function, right?\n",
      "\n",
      "the function that we're using is sin(x), which we've defined above as the function name \"func\"\n",
      "a and b is the interal (two values of x), and n is the number of points\n",
      "\n",
      "should the method turn the weights and points into numpy arrays?"
     ]
    },
    {
     "cell_type": "code",
     "collapsed": false,
     "input": [
      "class Integrator:\n",
      "    def __init__(self, a, b, n):\n",
      "        self.a, self.b, self.n = a, b, n\n",
      "        self.points, self.weights = self.method()\n",
      "        \n",
      "    def method(self):\n",
      "        raise NotImplementedError('no rule in class %s' %self.__class__.__name__)\n",
      "               \n",
      "    def integrate(self, func):\n",
      "        vals = func(self.points) * self.weights\n",
      "        return sum(vals)"
     ],
     "language": "python",
     "metadata": {},
     "outputs": [],
     "prompt_number": 6
    },
    {
     "cell_type": "markdown",
     "metadata": {},
     "source": [
      "I don't think this is quite correct, but going to try and make a child class anyway\n",
      "\n",
      "\"Create a child class of Integrator called Trapezoidal, where you define a function called method(self). This function should return two arrays: x and w corresponding to the points and their current weights.This should be the values correponding to the trapezoidal rule for integration. If you are not familiar with it, you can look for it online\"\n",
      "\n",
      "Ok, per http://docs.scipy.org/doc/scipy/reference/tutorial/integrate.html\n",
      "The trapezoidal rule approximates the function as a straight line between adjacent points"
     ]
    },
    {
     "cell_type": "code",
     "collapsed": false,
     "input": [
      "class Trapezoidal(Integrator):\n",
      "       \n",
      "    # Initialize child class function \n",
      "    def __init__(self, a, b, n):\n",
      "        super(Integrator, self).__init__(a, b, n)\n",
      "        \n",
      "    def method(self):\n",
      "        print(\"I'm not sure what to do here yet\")"
     ],
     "language": "python",
     "metadata": {},
     "outputs": [],
     "prompt_number": 12
    },
    {
     "cell_type": "raw",
     "metadata": {},
     "source": [
      "Try using the numpy.trapz function"
     ]
    },
    {
     "cell_type": "code",
     "collapsed": false,
     "input": [
      "import numpy as np"
     ],
     "language": "python",
     "metadata": {},
     "outputs": [],
     "prompt_number": 13
    },
    {
     "cell_type": "code",
     "collapsed": false,
     "input": [
      "class Trapezoidal(Integrator):\n",
      "       \n",
      "    # Initialize child class function \n",
      "    def __init__(self, a, b, n):\n",
      "        super(Integrator, self).__init__(a, b, n)\n",
      "        \n",
      "    def method(self):\n",
      "        y.arr = np.array[a,b]\n",
      "        out = np.trapz(y.arr)\n",
      "        return out"
     ],
     "language": "python",
     "metadata": {},
     "outputs": [],
     "prompt_number": 14
    },
    {
     "cell_type": "code",
     "collapsed": false,
     "input": [
      "a=1\n",
      "b=3\n",
      "yarray = np.array([a,b])\n",
      "print yarray\n",
      "np.trapz(yarray)"
     ],
     "language": "python",
     "metadata": {},
     "outputs": [
      {
       "output_type": "stream",
       "stream": "stdout",
       "text": [
        "[1 3]\n"
       ]
      },
      {
       "metadata": {},
       "output_type": "pyout",
       "prompt_number": 21,
       "text": [
        "2.0"
       ]
      }
     ],
     "prompt_number": 21
    },
    {
     "cell_type": "markdown",
     "metadata": {},
     "source": [
      "So I can get the area under the curve, it seems, but how to bring in the weights?"
     ]
    },
    {
     "cell_type": "code",
     "collapsed": false,
     "input": [],
     "language": "python",
     "metadata": {},
     "outputs": []
    }
   ],
   "metadata": {}
  }
 ]
}