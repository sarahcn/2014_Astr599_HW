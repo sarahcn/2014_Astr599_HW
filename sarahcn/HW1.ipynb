{
 "metadata": {
  "name": "",
  "signature": "sha256:c1eabaf1d1044efe6cc9cb8193379f1b266253478ca646a73342c5700e3aea79"
 },
 "nbformat": 3,
 "nbformat_minor": 0,
 "worksheets": [
  {
   "cells": [
    {
     "cell_type": "heading",
     "level": 1,
     "metadata": {},
     "source": [
      "Homework assignment #1 for ASTR 599 python seminar, Fall 2014"
     ]
    },
    {
     "cell_type": "code",
     "collapsed": false,
     "input": [
      "import csv\n",
      "import urllib2"
     ],
     "language": "python",
     "metadata": {},
     "outputs": [],
     "prompt_number": 1
    },
    {
     "cell_type": "markdown",
     "metadata": {},
     "source": [
      "The data file we need is in Jake's 2013 github directory. Can we read as a csv path on a url?\n",
      "Borrowing some ideas from http://stackoverflow.com/questions/16283799/how-to-read-a-csv-file-from-a-url-python."
     ]
    },
    {
     "cell_type": "code",
     "collapsed": false,
     "input": [
      "url = 'https://github.com/jakevdp/2013_fall_ASTR599/blob/master/notebooks/data/asteroids5000.csv'"
     ],
     "language": "python",
     "metadata": {},
     "outputs": [],
     "prompt_number": 2
    },
    {
     "cell_type": "code",
     "collapsed": false,
     "input": [
      "response = urllib2.urlopen(url)\n",
      "cr = csv.reader(response)"
     ],
     "language": "python",
     "metadata": {},
     "outputs": [],
     "prompt_number": 3
    },
    {
     "cell_type": "markdown",
     "metadata": {},
     "source": [
      "Ok, no - that's no good. Saved .csv to my working directory. See if that worked"
     ]
    },
    {
     "cell_type": "code",
     "collapsed": false,
     "input": [
      "import os\n",
      "os.listdir('.')"
     ],
     "language": "python",
     "metadata": {},
     "outputs": [
      {
       "metadata": {},
       "output_type": "pyout",
       "prompt_number": 4,
       "text": [
        "['.ipynb_checkpoints', 'asteroids5000.csv', 'HW1.ipynb']"
       ]
      }
     ],
     "prompt_number": 4
    },
    {
     "cell_type": "code",
     "collapsed": false,
     "input": [
      "asteroids = csv.reader('asteroids5000.csv')"
     ],
     "language": "python",
     "metadata": {},
     "outputs": [],
     "prompt_number": 5
    },
    {
     "cell_type": "markdown",
     "metadata": {},
     "source": [
      "looks like my right click and \"save as\" from git hub didn't actually save the .csv. instead i made a fork of the 2013 repos, https://github.com/sarahcn/2013_fall_ASTR599, and copied the .csv file into this working directory"
     ]
    },
    {
     "cell_type": "code",
     "collapsed": false,
     "input": [
      "os.listdir('.')"
     ],
     "language": "python",
     "metadata": {},
     "outputs": [
      {
       "metadata": {},
       "output_type": "pyout",
       "prompt_number": 6,
       "text": [
        "['.ipynb_checkpoints', 'asteroids5000.csv', 'HW1.ipynb']"
       ]
      }
     ],
     "prompt_number": 6
    },
    {
     "cell_type": "code",
     "collapsed": false,
     "input": [
      "ifile  = open('asteroids5000.csv', \"rb\")\n",
      "reader = csv.reader(ifile)"
     ],
     "language": "python",
     "metadata": {},
     "outputs": [],
     "prompt_number": 7
    },
    {
     "cell_type": "code",
     "collapsed": false,
     "input": [
      "Oh right - Jake tells us in hw instructions to use the numpy function \"genfromtxt\""
     ],
     "language": "python",
     "metadata": {},
     "outputs": [
      {
       "ename": "SyntaxError",
       "evalue": "invalid syntax (<ipython-input-8-30f39fad520a>, line 1)",
       "output_type": "pyerr",
       "traceback": [
        "\u001b[1;36m  File \u001b[1;32m\"<ipython-input-8-30f39fad520a>\"\u001b[1;36m, line \u001b[1;32m1\u001b[0m\n\u001b[1;33m    Oh right - Jake tells us in hw instructions to use the numpy function \"genfromtxt\"\u001b[0m\n\u001b[1;37m           ^\u001b[0m\n\u001b[1;31mSyntaxError\u001b[0m\u001b[1;31m:\u001b[0m invalid syntax\n"
       ]
      }
     ],
     "prompt_number": 8
    },
    {
     "cell_type": "code",
     "collapsed": false,
     "input": [
      "import numpy as np\n",
      "help(np.genfromtxt)"
     ],
     "language": "python",
     "metadata": {},
     "outputs": [
      {
       "output_type": "stream",
       "stream": "stdout",
       "text": [
        "Help on function genfromtxt in module numpy.lib.npyio:\n",
        "\n",
        "genfromtxt(fname, dtype=<type 'float'>, comments='#', delimiter=None, skiprows=0, skip_header=0, skip_footer=0, converters=None, missing='', missing_values=None, filling_values=None, usecols=None, names=None, excludelist=None, deletechars=None, replace_space='_', autostrip=False, case_sensitive=True, defaultfmt='f%i', unpack=None, usemask=False, loose=True, invalid_raise=True)\n",
        "    Load data from a text file, with missing values handled as specified.\n",
        "    \n",
        "    Each line past the first `skip_header` lines is split at the `delimiter`\n",
        "    character, and characters following the `comments` character are discarded.\n",
        "    \n",
        "    Parameters\n",
        "    ----------\n",
        "    fname : file or str\n",
        "        File, filename, or generator to read.  If the filename extension is\n",
        "        `.gz` or `.bz2`, the file is first decompressed. Note that\n",
        "        generators must return byte strings in Python 3k.\n",
        "    dtype : dtype, optional\n",
        "        Data type of the resulting array.\n",
        "        If None, the dtypes will be determined by the contents of each\n",
        "        column, individually.\n",
        "    comments : str, optional\n",
        "        The character used to indicate the start of a comment.\n",
        "        All the characters occurring on a line after a comment are discarded\n",
        "    delimiter : str, int, or sequence, optional\n",
        "        The string used to separate values.  By default, any consecutive\n",
        "        whitespaces act as delimiter.  An integer or sequence of integers\n",
        "        can also be provided as width(s) of each field.\n",
        "    skip_header : int, optional\n",
        "        The numbers of lines to skip at the beginning of the file.\n",
        "    skip_footer : int, optional\n",
        "        The numbers of lines to skip at the end of the file\n",
        "    converters : variable, optional\n",
        "        The set of functions that convert the data of a column to a value.\n",
        "        The converters can also be used to provide a default value\n",
        "        for missing data: ``converters = {3: lambda s: float(s or 0)}``.\n",
        "    missing_values : variable, optional\n",
        "        The set of strings corresponding to missing data.\n",
        "    filling_values : variable, optional\n",
        "        The set of values to be used as default when the data are missing.\n",
        "    usecols : sequence, optional\n",
        "        Which columns to read, with 0 being the first.  For example,\n",
        "        ``usecols = (1, 4, 5)`` will extract the 2nd, 5th and 6th columns.\n",
        "    names : {None, True, str, sequence}, optional\n",
        "        If `names` is True, the field names are read from the first valid line\n",
        "        after the first `skip_header` lines.\n",
        "        If `names` is a sequence or a single-string of comma-separated names,\n",
        "        the names will be used to define the field names in a structured dtype.\n",
        "        If `names` is None, the names of the dtype fields will be used, if any.\n",
        "    excludelist : sequence, optional\n",
        "        A list of names to exclude. This list is appended to the default list\n",
        "        ['return','file','print']. Excluded names are appended an underscore:\n",
        "        for example, `file` would become `file_`.\n",
        "    deletechars : str, optional\n",
        "        A string combining invalid characters that must be deleted from the\n",
        "        names.\n",
        "    defaultfmt : str, optional\n",
        "        A format used to define default field names, such as \"f%i\" or \"f_%02i\".\n",
        "    autostrip : bool, optional\n",
        "        Whether to automatically strip white spaces from the variables.\n",
        "    replace_space : char, optional\n",
        "        Character(s) used in replacement of white spaces in the variables\n",
        "        names. By default, use a '_'.\n",
        "    case_sensitive : {True, False, 'upper', 'lower'}, optional\n",
        "        If True, field names are case sensitive.\n",
        "        If False or 'upper', field names are converted to upper case.\n",
        "        If 'lower', field names are converted to lower case.\n",
        "    unpack : bool, optional\n",
        "        If True, the returned array is transposed, so that arguments may be\n",
        "        unpacked using ``x, y, z = loadtxt(...)``\n",
        "    usemask : bool, optional\n",
        "        If True, return a masked array.\n",
        "        If False, return a regular array.\n",
        "    invalid_raise : bool, optional\n",
        "        If True, an exception is raised if an inconsistency is detected in the\n",
        "        number of columns.\n",
        "        If False, a warning is emitted and the offending lines are skipped.\n",
        "    \n",
        "    Returns\n",
        "    -------\n",
        "    out : ndarray\n",
        "        Data read from the text file. If `usemask` is True, this is a\n",
        "        masked array.\n",
        "    \n",
        "    See Also\n",
        "    --------\n",
        "    numpy.loadtxt : equivalent function when no data is missing.\n",
        "    \n",
        "    Notes\n",
        "    -----\n",
        "    * When spaces are used as delimiters, or when no delimiter has been given\n",
        "      as input, there should not be any missing data between two fields.\n",
        "    * When the variables are named (either by a flexible dtype or with `names`,\n",
        "      there must not be any header in the file (else a ValueError\n",
        "      exception is raised).\n",
        "    * Individual values are not stripped of spaces by default.\n",
        "      When using a custom converter, make sure the function does remove spaces.\n",
        "    \n",
        "    References\n",
        "    ----------\n",
        "    .. [1] Numpy User Guide, section `I/O with Numpy\n",
        "           <http://docs.scipy.org/doc/numpy/user/basics.io.genfromtxt.html>`_.\n",
        "    \n",
        "    Examples\n",
        "    ---------\n",
        "    >>> from StringIO import StringIO\n",
        "    >>> import numpy as np\n",
        "    \n",
        "    Comma delimited file with mixed dtype\n",
        "    \n",
        "    >>> s = StringIO(\"1,1.3,abcde\")\n",
        "    >>> data = np.genfromtxt(s, dtype=[('myint','i8'),('myfloat','f8'),\n",
        "    ... ('mystring','S5')], delimiter=\",\")\n",
        "    >>> data\n",
        "    array((1, 1.3, 'abcde'),\n",
        "          dtype=[('myint', '<i8'), ('myfloat', '<f8'), ('mystring', '|S5')])\n",
        "    \n",
        "    Using dtype = None\n",
        "    \n",
        "    >>> s.seek(0) # needed for StringIO example only\n",
        "    >>> data = np.genfromtxt(s, dtype=None,\n",
        "    ... names = ['myint','myfloat','mystring'], delimiter=\",\")\n",
        "    >>> data\n",
        "    array((1, 1.3, 'abcde'),\n",
        "          dtype=[('myint', '<i8'), ('myfloat', '<f8'), ('mystring', '|S5')])\n",
        "    \n",
        "    Specifying dtype and names\n",
        "    \n",
        "    >>> s.seek(0)\n",
        "    >>> data = np.genfromtxt(s, dtype=\"i8,f8,S5\",\n",
        "    ... names=['myint','myfloat','mystring'], delimiter=\",\")\n",
        "    >>> data\n",
        "    array((1, 1.3, 'abcde'),\n",
        "          dtype=[('myint', '<i8'), ('myfloat', '<f8'), ('mystring', '|S5')])\n",
        "    \n",
        "    An example with fixed-width columns\n",
        "    \n",
        "    >>> s = StringIO(\"11.3abcde\")\n",
        "    >>> data = np.genfromtxt(s, dtype=None, names=['intvar','fltvar','strvar'],\n",
        "    ...     delimiter=[1,3,5])\n",
        "    >>> data\n",
        "    array((1, 1.3, 'abcde'),\n",
        "          dtype=[('intvar', '<i8'), ('fltvar', '<f8'), ('strvar', '|S5')])\n",
        "\n"
       ]
      }
     ],
     "prompt_number": 9
    },
    {
     "cell_type": "markdown",
     "metadata": {},
     "source": [
      "After consulting with Jake over email, determined I should not set names=True"
     ]
    },
    {
     "cell_type": "code",
     "collapsed": false,
     "input": [
      "asteroids = np.genfromtxt('asteroids5000.csv', delimiter=',')"
     ],
     "language": "python",
     "metadata": {},
     "outputs": [],
     "prompt_number": 11
    },
    {
     "cell_type": "code",
     "collapsed": false,
     "input": [
      "asteroids"
     ],
     "language": "python",
     "metadata": {},
     "outputs": [
      {
       "metadata": {},
       "output_type": "pyout",
       "prompt_number": 12,
       "text": [
        "array([[  2.76680727e+00,   7.57972598e-02,   1.05939814e+01, ...,\n",
        "          9.52400000e+02,   7.13000000e-01,   4.26000000e-01],\n",
        "       [  2.77243388e+00,   2.31565012e-01,   3.48362566e+01, ...,\n",
        "          5.45000000e+02,   6.35000000e-01,   2.84000000e-01],\n",
        "       [  2.67030537e+00,   2.55287122e-01,   1.29805794e+01, ...,\n",
        "          2.33920000e+02,   8.24000000e-01,   4.33000000e-01],\n",
        "       ..., \n",
        "       [  2.68414124e+00,   2.07573312e-01,   6.45590489e+00, ...,\n",
        "                     nan,              nan,              nan],\n",
        "       [  2.60526964e+00,   1.24151564e-01,   1.19219429e+01, ...,\n",
        "                     nan,              nan,              nan],\n",
        "       [  3.01427904e+00,   8.02323462e-02,   1.03726702e+01, ...,\n",
        "                     nan,              nan,              nan]])"
       ]
      }
     ],
     "prompt_number": 12
    },
    {
     "cell_type": "markdown",
     "metadata": {},
     "source": [
      "quesiont (2)\n",
      "genfromtxt sets all missing values to np.nan. Use the operations we discussed here to answer these questions:\n",
      "How many values are missing in this data?\n",
      "How many complete rows are there? i.e. how many objects have no missing values?"
     ]
    },
    {
     "cell_type": "code",
     "collapsed": false,
     "input": [
      "len(asteroids)\n",
      "asteroids.dtype"
     ],
     "language": "python",
     "metadata": {},
     "outputs": [
      {
       "metadata": {},
       "output_type": "pyout",
       "prompt_number": 51,
       "text": [
        "dtype('float64')"
       ]
      }
     ],
     "prompt_number": 51
    },
    {
     "cell_type": "code",
     "collapsed": false,
     "input": [
      "mask = np.isnan(asteroids)\n",
      "mask"
     ],
     "language": "python",
     "metadata": {},
     "outputs": [
      {
       "metadata": {},
       "output_type": "pyout",
       "prompt_number": 14,
       "text": [
        "array([[False, False, False, ..., False, False, False],\n",
        "       [False, False, False, ..., False, False, False],\n",
        "       [False, False, False, ..., False, False, False],\n",
        "       ..., \n",
        "       [False, False, False, ...,  True,  True,  True],\n",
        "       [False, False, False, ...,  True,  True,  True],\n",
        "       [False, False, False, ...,  True,  True,  True]], dtype=bool)"
       ]
      }
     ],
     "prompt_number": 14
    },
    {
     "cell_type": "code",
     "collapsed": false,
     "input": [
      "sum(mask)"
     ],
     "language": "python",
     "metadata": {},
     "outputs": [
      {
       "metadata": {},
       "output_type": "pyout",
       "prompt_number": 15,
       "text": [
        "array([   0,    0,    0,    0, 3082, 4059, 4100])"
       ]
      }
     ],
     "prompt_number": 15
    },
    {
     "cell_type": "code",
     "collapsed": false,
     "input": [
      "3082 + 4059 + 4100"
     ],
     "language": "python",
     "metadata": {},
     "outputs": [
      {
       "metadata": {},
       "output_type": "pyout",
       "prompt_number": 16,
       "text": [
        "11241"
       ]
      }
     ],
     "prompt_number": 16
    },
    {
     "cell_type": "markdown",
     "metadata": {},
     "source": [
      "there are a total of 11241 missing values.\n",
      "make an array of only complete rows"
     ]
    },
    {
     "cell_type": "code",
     "collapsed": false,
     "input": [
      "len(asteroids)"
     ],
     "language": "python",
     "metadata": {},
     "outputs": [
      {
       "metadata": {},
       "output_type": "pyout",
       "prompt_number": 19,
       "text": [
        "5000"
       ]
      }
     ],
     "prompt_number": 19
    },
    {
     "cell_type": "code",
     "collapsed": false,
     "input": [
      "print(mask.sum(), \"elements are nan\")"
     ],
     "language": "python",
     "metadata": {},
     "outputs": [
      {
       "output_type": "stream",
       "stream": "stdout",
       "text": [
        "(11241, 'elements are nan')\n"
       ]
      }
     ],
     "prompt_number": 18
    },
    {
     "cell_type": "markdown",
     "metadata": {},
     "source": [
      "turn the mask into an index to select the non-missing"
     ]
    },
    {
     "cell_type": "code",
     "collapsed": false,
     "input": [
      "asteroids[np.where(mask)]"
     ],
     "language": "python",
     "metadata": {},
     "outputs": [
      {
       "metadata": {},
       "output_type": "pyout",
       "prompt_number": 31,
       "text": [
        "array([ nan,  nan,  nan, ...,  nan,  nan,  nan])"
       ]
      }
     ],
     "prompt_number": 31
    },
    {
     "cell_type": "code",
     "collapsed": false,
     "input": [
      "sel = ~np.isnan(asteroids)"
     ],
     "language": "python",
     "metadata": {},
     "outputs": [],
     "prompt_number": 52
    },
    {
     "cell_type": "code",
     "collapsed": false,
     "input": [
      "sel"
     ],
     "language": "python",
     "metadata": {},
     "outputs": [
      {
       "metadata": {},
       "output_type": "pyout",
       "prompt_number": 53,
       "text": [
        "array([[ True,  True,  True, ...,  True,  True,  True],\n",
        "       [ True,  True,  True, ...,  True,  True,  True],\n",
        "       [ True,  True,  True, ...,  True,  True,  True],\n",
        "       ..., \n",
        "       [ True,  True,  True, ..., False, False, False],\n",
        "       [ True,  True,  True, ..., False, False, False],\n",
        "       [ True,  True,  True, ..., False, False, False]], dtype=bool)"
       ]
      }
     ],
     "prompt_number": 53
    },
    {
     "cell_type": "code",
     "collapsed": false,
     "input": [
      "x = asteroids[np.where(sel),:]"
     ],
     "language": "python",
     "metadata": {},
     "outputs": [],
     "prompt_number": 54
    },
    {
     "cell_type": "code",
     "collapsed": false,
     "input": [
      "x"
     ],
     "language": "python",
     "metadata": {},
     "outputs": [
      {
       "metadata": {},
       "output_type": "pyout",
       "prompt_number": 55,
       "text": [
        "array([[[  2.76680727e+00,   7.57972598e-02,   1.05939814e+01, ...,\n",
        "           9.52400000e+02,   7.13000000e-01,   4.26000000e-01],\n",
        "        [  2.76680727e+00,   7.57972598e-02,   1.05939814e+01, ...,\n",
        "           9.52400000e+02,   7.13000000e-01,   4.26000000e-01],\n",
        "        [  2.76680727e+00,   7.57972598e-02,   1.05939814e+01, ...,\n",
        "           9.52400000e+02,   7.13000000e-01,   4.26000000e-01],\n",
        "        ..., \n",
        "        [  3.01427904e+00,   8.02323462e-02,   1.03726702e+01, ...,\n",
        "                      nan,              nan,              nan],\n",
        "        [  3.01427904e+00,   8.02323462e-02,   1.03726702e+01, ...,\n",
        "                      nan,              nan,              nan],\n",
        "        [  3.01427904e+00,   8.02323462e-02,   1.03726702e+01, ...,\n",
        "                      nan,              nan,              nan]],\n",
        "\n",
        "       [[  2.76680727e+00,   7.57972598e-02,   1.05939814e+01, ...,\n",
        "           9.52400000e+02,   7.13000000e-01,   4.26000000e-01],\n",
        "        [  2.77243388e+00,   2.31565012e-01,   3.48362566e+01, ...,\n",
        "           5.45000000e+02,   6.35000000e-01,   2.84000000e-01],\n",
        "        [  2.67030537e+00,   2.55287122e-01,   1.29805794e+01, ...,\n",
        "           2.33920000e+02,   8.24000000e-01,   4.33000000e-01],\n",
        "        ..., \n",
        "        [  2.77243388e+00,   2.31565012e-01,   3.48362566e+01, ...,\n",
        "           5.45000000e+02,   6.35000000e-01,   2.84000000e-01],\n",
        "        [  2.67030537e+00,   2.55287122e-01,   1.29805794e+01, ...,\n",
        "           2.33920000e+02,   8.24000000e-01,   4.33000000e-01],\n",
        "        [  2.36138405e+00,   8.85024422e-02,   7.14051820e+00, ...,\n",
        "           5.30000000e+02,   7.82000000e-01,   4.92000000e-01]]])"
       ]
      }
     ],
     "prompt_number": 55
    },
    {
     "cell_type": "code",
     "collapsed": false,
     "input": [
      "asteroids.shape"
     ],
     "language": "python",
     "metadata": {},
     "outputs": [
      {
       "metadata": {},
       "output_type": "pyout",
       "prompt_number": 56,
       "text": [
        "(5000L, 7L)"
       ]
      }
     ],
     "prompt_number": 56
    },
    {
     "cell_type": "code",
     "collapsed": false,
     "input": [
      "x.shape"
     ],
     "language": "python",
     "metadata": {},
     "outputs": [
      {
       "metadata": {},
       "output_type": "pyout",
       "prompt_number": 57,
       "text": [
        "(2L, 23759L, 7L)"
       ]
      }
     ],
     "prompt_number": 57
    },
    {
     "cell_type": "markdown",
     "metadata": {},
     "source": [
      "well, i don't want a 3d array"
     ]
    },
    {
     "cell_type": "code",
     "collapsed": false,
     "input": [
      "y = asteroids[np.where(sel)]"
     ],
     "language": "python",
     "metadata": {},
     "outputs": [],
     "prompt_number": 58
    },
    {
     "cell_type": "code",
     "collapsed": false,
     "input": [
      "y.shape"
     ],
     "language": "python",
     "metadata": {},
     "outputs": [
      {
       "metadata": {},
       "output_type": "pyout",
       "prompt_number": 65,
       "text": [
        "(23759L,)"
       ]
      }
     ],
     "prompt_number": 65
    },
    {
     "cell_type": "markdown",
     "metadata": {},
     "source": [
      "also don't want a 1d array"
     ]
    },
    {
     "cell_type": "code",
     "collapsed": false,
     "input": [
      "z = asteroids[np.where(sel),]"
     ],
     "language": "python",
     "metadata": {},
     "outputs": [],
     "prompt_number": 62
    },
    {
     "cell_type": "code",
     "collapsed": false,
     "input": [
      "z.shape"
     ],
     "language": "python",
     "metadata": {},
     "outputs": [
      {
       "metadata": {},
       "output_type": "pyout",
       "prompt_number": 63,
       "text": [
        "(2L, 23759L, 7L)"
       ]
      }
     ],
     "prompt_number": 63
    },
    {
     "cell_type": "markdown",
     "metadata": {},
     "source": [
      "try to get back to 7 columns"
     ]
    },
    {
     "cell_type": "code",
     "collapsed": false,
     "input": [
      "23759/7"
     ],
     "language": "python",
     "metadata": {},
     "outputs": [
      {
       "metadata": {},
       "output_type": "pyout",
       "prompt_number": 66,
       "text": [
        "3394"
       ]
      }
     ],
     "prompt_number": 66
    },
    {
     "cell_type": "code",
     "collapsed": false,
     "input": [
      "a = np.reshape(y, (3394, 7))"
     ],
     "language": "python",
     "metadata": {},
     "outputs": [
      {
       "ename": "ValueError",
       "evalue": "total size of new array must be unchanged",
       "output_type": "pyerr",
       "traceback": [
        "\u001b[1;31m---------------------------------------------------------------------------\u001b[0m\n\u001b[1;31mValueError\u001b[0m                                Traceback (most recent call last)",
        "\u001b[1;32m<ipython-input-68-ced8b4ccd358>\u001b[0m in \u001b[0;36m<module>\u001b[1;34m()\u001b[0m\n\u001b[1;32m----> 1\u001b[1;33m \u001b[0ma\u001b[0m \u001b[1;33m=\u001b[0m \u001b[0mnp\u001b[0m\u001b[1;33m.\u001b[0m\u001b[0mreshape\u001b[0m\u001b[1;33m(\u001b[0m\u001b[0my\u001b[0m\u001b[1;33m,\u001b[0m \u001b[1;33m(\u001b[0m\u001b[1;36m3394\u001b[0m\u001b[1;33m,\u001b[0m \u001b[1;36m7\u001b[0m\u001b[1;33m)\u001b[0m\u001b[1;33m)\u001b[0m\u001b[1;33m\u001b[0m\u001b[0m\n\u001b[0m",
        "\u001b[1;32mc:\\Users\\Sarah\\Anaconda\\lib\\site-packages\\numpy\\core\\fromnumeric.pyc\u001b[0m in \u001b[0;36mreshape\u001b[1;34m(a, newshape, order)\u001b[0m\n\u001b[0;32m    216\u001b[0m     \u001b[1;32mexcept\u001b[0m \u001b[0mAttributeError\u001b[0m\u001b[1;33m:\u001b[0m\u001b[1;33m\u001b[0m\u001b[0m\n\u001b[0;32m    217\u001b[0m         \u001b[1;32mreturn\u001b[0m \u001b[0m_wrapit\u001b[0m\u001b[1;33m(\u001b[0m\u001b[0ma\u001b[0m\u001b[1;33m,\u001b[0m \u001b[1;34m'reshape'\u001b[0m\u001b[1;33m,\u001b[0m \u001b[0mnewshape\u001b[0m\u001b[1;33m,\u001b[0m \u001b[0morder\u001b[0m\u001b[1;33m=\u001b[0m\u001b[0morder\u001b[0m\u001b[1;33m)\u001b[0m\u001b[1;33m\u001b[0m\u001b[0m\n\u001b[1;32m--> 218\u001b[1;33m     \u001b[1;32mreturn\u001b[0m \u001b[0mreshape\u001b[0m\u001b[1;33m(\u001b[0m\u001b[0mnewshape\u001b[0m\u001b[1;33m,\u001b[0m \u001b[0morder\u001b[0m\u001b[1;33m=\u001b[0m\u001b[0morder\u001b[0m\u001b[1;33m)\u001b[0m\u001b[1;33m\u001b[0m\u001b[0m\n\u001b[0m\u001b[0;32m    219\u001b[0m \u001b[1;33m\u001b[0m\u001b[0m\n\u001b[0;32m    220\u001b[0m \u001b[1;33m\u001b[0m\u001b[0m\n",
        "\u001b[1;31mValueError\u001b[0m: total size of new array must be unchanged"
       ]
      }
     ],
     "prompt_number": 68
    },
    {
     "cell_type": "markdown",
     "metadata": {},
     "source": [
      "four hours enough for one day. "
     ]
    },
    {
     "cell_type": "code",
     "collapsed": false,
     "input": [],
     "language": "python",
     "metadata": {},
     "outputs": []
    }
   ],
   "metadata": {}
  }
 ]
}